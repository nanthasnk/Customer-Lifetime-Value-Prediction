{
 "cells": [
  {
   "cell_type": "markdown",
   "metadata": {},
   "source": [
    "# Problem Statement"
   ]
  },
  {
   "cell_type": "markdown",
   "metadata": {},
   "source": [
    "Customer Lifetime Value represents a customer’s value to a company over a period of time. It’s a competitive market for insurance companies in 2019, and insurance premium isn’t the only determining factor in a customer’s decisions. CLV is a customer-centric metric, and a powerful base to build upon to retain valuable customers, increase revenue from less valuable customers, and improve the customer experience overall."
   ]
  },
  {
   "cell_type": "markdown",
   "metadata": {},
   "source": [
    "Auto Insurance company is facing issues in retaining its customers and wants to advertise promotional offers for its loyal customers. They are considering CLV as a parameter to classify loyal customers.\n"
   ]
  },
  {
   "cell_type": "markdown",
   "metadata": {},
   "source": [
    "## Import libraries"
   ]
  },
  {
   "cell_type": "code",
   "execution_count": 1,
   "metadata": {},
   "outputs": [],
   "source": [
    "import pandas as pd\n",
    "import numpy as np\n",
    "import seaborn as sns\n",
    "import matplotlib.pyplot as plt\n",
    "import scipy.stats as stats"
   ]
  },
  {
   "cell_type": "code",
   "execution_count": 2,
   "metadata": {},
   "outputs": [
    {
     "data": {
      "text/html": [
       "<div>\n",
       "<style scoped>\n",
       "    .dataframe tbody tr th:only-of-type {\n",
       "        vertical-align: middle;\n",
       "    }\n",
       "\n",
       "    .dataframe tbody tr th {\n",
       "        vertical-align: top;\n",
       "    }\n",
       "\n",
       "    .dataframe thead th {\n",
       "        text-align: right;\n",
       "    }\n",
       "</style>\n",
       "<table border=\"1\" class=\"dataframe\">\n",
       "  <thead>\n",
       "    <tr style=\"text-align: right;\">\n",
       "      <th></th>\n",
       "      <th>Customer</th>\n",
       "      <th>State</th>\n",
       "      <th>Customer Lifetime Value</th>\n",
       "      <th>Response</th>\n",
       "      <th>Coverage</th>\n",
       "      <th>Education</th>\n",
       "      <th>Effective To Date</th>\n",
       "      <th>EmploymentStatus</th>\n",
       "      <th>Gender</th>\n",
       "      <th>Income</th>\n",
       "      <th>...</th>\n",
       "      <th>Months Since Policy Inception</th>\n",
       "      <th>Number of Open Complaints</th>\n",
       "      <th>Number of Policies</th>\n",
       "      <th>Policy Type</th>\n",
       "      <th>Policy</th>\n",
       "      <th>Renew Offer Type</th>\n",
       "      <th>Sales Channel</th>\n",
       "      <th>Total Claim Amount</th>\n",
       "      <th>Vehicle Class</th>\n",
       "      <th>Vehicle Size</th>\n",
       "    </tr>\n",
       "  </thead>\n",
       "  <tbody>\n",
       "    <tr>\n",
       "      <td>0</td>\n",
       "      <td>BU79786</td>\n",
       "      <td>Washington</td>\n",
       "      <td>2763.519279</td>\n",
       "      <td>No</td>\n",
       "      <td>Basic</td>\n",
       "      <td>Bachelor</td>\n",
       "      <td>2/24/11</td>\n",
       "      <td>Employed</td>\n",
       "      <td>F</td>\n",
       "      <td>56274</td>\n",
       "      <td>...</td>\n",
       "      <td>5</td>\n",
       "      <td>0</td>\n",
       "      <td>1</td>\n",
       "      <td>Corporate Auto</td>\n",
       "      <td>Corporate L3</td>\n",
       "      <td>Offer1</td>\n",
       "      <td>Agent</td>\n",
       "      <td>384.811147</td>\n",
       "      <td>Two-Door Car</td>\n",
       "      <td>Medsize</td>\n",
       "    </tr>\n",
       "    <tr>\n",
       "      <td>1</td>\n",
       "      <td>QZ44356</td>\n",
       "      <td>Arizona</td>\n",
       "      <td>6979.535903</td>\n",
       "      <td>No</td>\n",
       "      <td>Extended</td>\n",
       "      <td>Bachelor</td>\n",
       "      <td>1/31/11</td>\n",
       "      <td>Unemployed</td>\n",
       "      <td>F</td>\n",
       "      <td>0</td>\n",
       "      <td>...</td>\n",
       "      <td>42</td>\n",
       "      <td>0</td>\n",
       "      <td>8</td>\n",
       "      <td>Personal Auto</td>\n",
       "      <td>Personal L3</td>\n",
       "      <td>Offer3</td>\n",
       "      <td>Agent</td>\n",
       "      <td>1131.464935</td>\n",
       "      <td>Four-Door Car</td>\n",
       "      <td>Medsize</td>\n",
       "    </tr>\n",
       "    <tr>\n",
       "      <td>2</td>\n",
       "      <td>AI49188</td>\n",
       "      <td>Nevada</td>\n",
       "      <td>12887.431650</td>\n",
       "      <td>No</td>\n",
       "      <td>Premium</td>\n",
       "      <td>Bachelor</td>\n",
       "      <td>2/19/11</td>\n",
       "      <td>Employed</td>\n",
       "      <td>F</td>\n",
       "      <td>48767</td>\n",
       "      <td>...</td>\n",
       "      <td>38</td>\n",
       "      <td>0</td>\n",
       "      <td>2</td>\n",
       "      <td>Personal Auto</td>\n",
       "      <td>Personal L3</td>\n",
       "      <td>Offer1</td>\n",
       "      <td>Agent</td>\n",
       "      <td>566.472247</td>\n",
       "      <td>Two-Door Car</td>\n",
       "      <td>Medsize</td>\n",
       "    </tr>\n",
       "    <tr>\n",
       "      <td>3</td>\n",
       "      <td>WW63253</td>\n",
       "      <td>California</td>\n",
       "      <td>7645.861827</td>\n",
       "      <td>No</td>\n",
       "      <td>Basic</td>\n",
       "      <td>Bachelor</td>\n",
       "      <td>1/20/11</td>\n",
       "      <td>Unemployed</td>\n",
       "      <td>M</td>\n",
       "      <td>0</td>\n",
       "      <td>...</td>\n",
       "      <td>65</td>\n",
       "      <td>0</td>\n",
       "      <td>7</td>\n",
       "      <td>Corporate Auto</td>\n",
       "      <td>Corporate L2</td>\n",
       "      <td>Offer1</td>\n",
       "      <td>Call Center</td>\n",
       "      <td>529.881344</td>\n",
       "      <td>SUV</td>\n",
       "      <td>Medsize</td>\n",
       "    </tr>\n",
       "    <tr>\n",
       "      <td>4</td>\n",
       "      <td>HB64268</td>\n",
       "      <td>Washington</td>\n",
       "      <td>2813.692575</td>\n",
       "      <td>No</td>\n",
       "      <td>Basic</td>\n",
       "      <td>Bachelor</td>\n",
       "      <td>3/2/2011</td>\n",
       "      <td>Employed</td>\n",
       "      <td>M</td>\n",
       "      <td>43836</td>\n",
       "      <td>...</td>\n",
       "      <td>44</td>\n",
       "      <td>0</td>\n",
       "      <td>1</td>\n",
       "      <td>Personal Auto</td>\n",
       "      <td>Personal L1</td>\n",
       "      <td>Offer1</td>\n",
       "      <td>Agent</td>\n",
       "      <td>138.130879</td>\n",
       "      <td>Four-Door Car</td>\n",
       "      <td>Medsize</td>\n",
       "    </tr>\n",
       "  </tbody>\n",
       "</table>\n",
       "<p>5 rows × 24 columns</p>\n",
       "</div>"
      ],
      "text/plain": [
       "  Customer       State  Customer Lifetime Value Response  Coverage Education  \\\n",
       "0  BU79786  Washington              2763.519279       No     Basic  Bachelor   \n",
       "1  QZ44356     Arizona              6979.535903       No  Extended  Bachelor   \n",
       "2  AI49188      Nevada             12887.431650       No   Premium  Bachelor   \n",
       "3  WW63253  California              7645.861827       No     Basic  Bachelor   \n",
       "4  HB64268  Washington              2813.692575       No     Basic  Bachelor   \n",
       "\n",
       "  Effective To Date EmploymentStatus Gender  Income  ...  \\\n",
       "0           2/24/11         Employed      F   56274  ...   \n",
       "1           1/31/11       Unemployed      F       0  ...   \n",
       "2           2/19/11         Employed      F   48767  ...   \n",
       "3           1/20/11       Unemployed      M       0  ...   \n",
       "4          3/2/2011         Employed      M   43836  ...   \n",
       "\n",
       "  Months Since Policy Inception Number of Open Complaints  Number of Policies  \\\n",
       "0                             5                         0                   1   \n",
       "1                            42                         0                   8   \n",
       "2                            38                         0                   2   \n",
       "3                            65                         0                   7   \n",
       "4                            44                         0                   1   \n",
       "\n",
       "      Policy Type        Policy  Renew Offer Type  Sales Channel  \\\n",
       "0  Corporate Auto  Corporate L3            Offer1          Agent   \n",
       "1   Personal Auto   Personal L3            Offer3          Agent   \n",
       "2   Personal Auto   Personal L3            Offer1          Agent   \n",
       "3  Corporate Auto  Corporate L2            Offer1    Call Center   \n",
       "4   Personal Auto   Personal L1            Offer1          Agent   \n",
       "\n",
       "  Total Claim Amount  Vehicle Class Vehicle Size  \n",
       "0         384.811147   Two-Door Car      Medsize  \n",
       "1        1131.464935  Four-Door Car      Medsize  \n",
       "2         566.472247   Two-Door Car      Medsize  \n",
       "3         529.881344            SUV      Medsize  \n",
       "4         138.130879  Four-Door Car      Medsize  \n",
       "\n",
       "[5 rows x 24 columns]"
      ]
     },
     "execution_count": 2,
     "metadata": {},
     "output_type": "execute_result"
    }
   ],
   "source": [
    "df=pd.read_csv(\"Data/AutoInsurance.csv\")\n",
    "df.head()"
   ]
  },
  {
   "cell_type": "code",
   "execution_count": 3,
   "metadata": {},
   "outputs": [
    {
     "name": "stdout",
     "output_type": "stream",
     "text": [
      "The number of rows: 9134\n",
      "The number of columns: 24\n"
     ]
    }
   ],
   "source": [
    "print(\"The number of rows:\",df.shape[0])\n",
    "print(\"The number of columns:\",df.shape[1])"
   ]
  },
  {
   "cell_type": "code",
   "execution_count": 4,
   "metadata": {},
   "outputs": [],
   "source": [
    "df.rename(columns={'Customer Lifetime Value':'CLV'},inplace=True)"
   ]
  },
  {
   "cell_type": "code",
   "execution_count": 5,
   "metadata": {},
   "outputs": [
    {
     "name": "stdout",
     "output_type": "stream",
     "text": [
      "<class 'pandas.core.frame.DataFrame'>\n",
      "RangeIndex: 9134 entries, 0 to 9133\n",
      "Data columns (total 24 columns):\n",
      "Customer                         9134 non-null object\n",
      "State                            9134 non-null object\n",
      "CLV                              9134 non-null float64\n",
      "Response                         9134 non-null object\n",
      "Coverage                         9134 non-null object\n",
      "Education                        9134 non-null object\n",
      "Effective To Date                9134 non-null object\n",
      "EmploymentStatus                 9134 non-null object\n",
      "Gender                           9134 non-null object\n",
      "Income                           9134 non-null int64\n",
      "Location Code                    9134 non-null object\n",
      "Marital Status                   9134 non-null object\n",
      "Monthly Premium Auto             9134 non-null int64\n",
      "Months Since Last Claim          9134 non-null int64\n",
      "Months Since Policy Inception    9134 non-null int64\n",
      "Number of Open Complaints        9134 non-null int64\n",
      "Number of Policies               9134 non-null int64\n",
      "Policy Type                      9134 non-null object\n",
      "Policy                           9134 non-null object\n",
      "Renew Offer Type                 9134 non-null object\n",
      "Sales Channel                    9134 non-null object\n",
      "Total Claim Amount               9134 non-null float64\n",
      "Vehicle Class                    9134 non-null object\n",
      "Vehicle Size                     9134 non-null object\n",
      "dtypes: float64(2), int64(6), object(16)\n",
      "memory usage: 1.7+ MB\n"
     ]
    }
   ],
   "source": [
    "df.info()"
   ]
  },
  {
   "cell_type": "code",
   "execution_count": 6,
   "metadata": {},
   "outputs": [],
   "source": [
    "numerical_cols = df.select_dtypes(include=[\"int64\",\"float64\"])"
   ]
  },
  {
   "cell_type": "code",
   "execution_count": 7,
   "metadata": {},
   "outputs": [
    {
     "data": {
      "text/plain": [
       "Index(['CLV', 'Income', 'Monthly Premium Auto', 'Months Since Last Claim',\n",
       "       'Months Since Policy Inception', 'Number of Open Complaints',\n",
       "       'Number of Policies', 'Total Claim Amount'],\n",
       "      dtype='object')"
      ]
     },
     "execution_count": 7,
     "metadata": {},
     "output_type": "execute_result"
    }
   ],
   "source": [
    "numerical_cols.columns"
   ]
  },
  {
   "cell_type": "code",
   "execution_count": 8,
   "metadata": {},
   "outputs": [],
   "source": [
    "numerical_cols = numerical_cols.drop([\"Number of Policies\",\"Number of Open Complaints\"],axis=1)"
   ]
  },
  {
   "cell_type": "markdown",
   "metadata": {},
   "source": [
    "## Summary Statistics of Numerical features"
   ]
  },
  {
   "cell_type": "code",
   "execution_count": 9,
   "metadata": {
    "scrolled": false
   },
   "outputs": [
    {
     "data": {
      "text/html": [
       "<div>\n",
       "<style scoped>\n",
       "    .dataframe tbody tr th:only-of-type {\n",
       "        vertical-align: middle;\n",
       "    }\n",
       "\n",
       "    .dataframe tbody tr th {\n",
       "        vertical-align: top;\n",
       "    }\n",
       "\n",
       "    .dataframe thead th {\n",
       "        text-align: right;\n",
       "    }\n",
       "</style>\n",
       "<table border=\"1\" class=\"dataframe\">\n",
       "  <thead>\n",
       "    <tr style=\"text-align: right;\">\n",
       "      <th></th>\n",
       "      <th>CLV</th>\n",
       "      <th>Income</th>\n",
       "      <th>Monthly Premium Auto</th>\n",
       "      <th>Months Since Last Claim</th>\n",
       "      <th>Months Since Policy Inception</th>\n",
       "      <th>Total Claim Amount</th>\n",
       "    </tr>\n",
       "  </thead>\n",
       "  <tbody>\n",
       "    <tr>\n",
       "      <td>count</td>\n",
       "      <td>9134.000000</td>\n",
       "      <td>9134.000000</td>\n",
       "      <td>9134.000000</td>\n",
       "      <td>9134.000000</td>\n",
       "      <td>9134.000000</td>\n",
       "      <td>9134.000000</td>\n",
       "    </tr>\n",
       "    <tr>\n",
       "      <td>mean</td>\n",
       "      <td>8004.940475</td>\n",
       "      <td>37657.380009</td>\n",
       "      <td>93.219291</td>\n",
       "      <td>15.097000</td>\n",
       "      <td>48.064594</td>\n",
       "      <td>434.088794</td>\n",
       "    </tr>\n",
       "    <tr>\n",
       "      <td>std</td>\n",
       "      <td>6870.967608</td>\n",
       "      <td>30379.904734</td>\n",
       "      <td>34.407967</td>\n",
       "      <td>10.073257</td>\n",
       "      <td>27.905991</td>\n",
       "      <td>290.500092</td>\n",
       "    </tr>\n",
       "    <tr>\n",
       "      <td>min</td>\n",
       "      <td>1898.007675</td>\n",
       "      <td>0.000000</td>\n",
       "      <td>61.000000</td>\n",
       "      <td>0.000000</td>\n",
       "      <td>0.000000</td>\n",
       "      <td>0.099007</td>\n",
       "    </tr>\n",
       "    <tr>\n",
       "      <td>25%</td>\n",
       "      <td>3994.251794</td>\n",
       "      <td>0.000000</td>\n",
       "      <td>68.000000</td>\n",
       "      <td>6.000000</td>\n",
       "      <td>24.000000</td>\n",
       "      <td>272.258244</td>\n",
       "    </tr>\n",
       "    <tr>\n",
       "      <td>50%</td>\n",
       "      <td>5780.182197</td>\n",
       "      <td>33889.500000</td>\n",
       "      <td>83.000000</td>\n",
       "      <td>14.000000</td>\n",
       "      <td>48.000000</td>\n",
       "      <td>383.945434</td>\n",
       "    </tr>\n",
       "    <tr>\n",
       "      <td>75%</td>\n",
       "      <td>8962.167041</td>\n",
       "      <td>62320.000000</td>\n",
       "      <td>109.000000</td>\n",
       "      <td>23.000000</td>\n",
       "      <td>71.000000</td>\n",
       "      <td>547.514839</td>\n",
       "    </tr>\n",
       "    <tr>\n",
       "      <td>max</td>\n",
       "      <td>83325.381190</td>\n",
       "      <td>99981.000000</td>\n",
       "      <td>298.000000</td>\n",
       "      <td>35.000000</td>\n",
       "      <td>99.000000</td>\n",
       "      <td>2893.239678</td>\n",
       "    </tr>\n",
       "  </tbody>\n",
       "</table>\n",
       "</div>"
      ],
      "text/plain": [
       "                CLV        Income  Monthly Premium Auto  \\\n",
       "count   9134.000000   9134.000000           9134.000000   \n",
       "mean    8004.940475  37657.380009             93.219291   \n",
       "std     6870.967608  30379.904734             34.407967   \n",
       "min     1898.007675      0.000000             61.000000   \n",
       "25%     3994.251794      0.000000             68.000000   \n",
       "50%     5780.182197  33889.500000             83.000000   \n",
       "75%     8962.167041  62320.000000            109.000000   \n",
       "max    83325.381190  99981.000000            298.000000   \n",
       "\n",
       "       Months Since Last Claim  Months Since Policy Inception  \\\n",
       "count              9134.000000                    9134.000000   \n",
       "mean                 15.097000                      48.064594   \n",
       "std                  10.073257                      27.905991   \n",
       "min                   0.000000                       0.000000   \n",
       "25%                   6.000000                      24.000000   \n",
       "50%                  14.000000                      48.000000   \n",
       "75%                  23.000000                      71.000000   \n",
       "max                  35.000000                      99.000000   \n",
       "\n",
       "       Total Claim Amount  \n",
       "count         9134.000000  \n",
       "mean           434.088794  \n",
       "std            290.500092  \n",
       "min              0.099007  \n",
       "25%            272.258244  \n",
       "50%            383.945434  \n",
       "75%            547.514839  \n",
       "max           2893.239678  "
      ]
     },
     "execution_count": 9,
     "metadata": {},
     "output_type": "execute_result"
    }
   ],
   "source": [
    "numerical_cols.describe()"
   ]
  },
  {
   "cell_type": "markdown",
   "metadata": {},
   "source": [
    "## Checking Null values"
   ]
  },
  {
   "cell_type": "code",
   "execution_count": 10,
   "metadata": {},
   "outputs": [
    {
     "data": {
      "text/plain": [
       "Customer                         0\n",
       "State                            0\n",
       "CLV                              0\n",
       "Response                         0\n",
       "Coverage                         0\n",
       "Education                        0\n",
       "Effective To Date                0\n",
       "EmploymentStatus                 0\n",
       "Gender                           0\n",
       "Income                           0\n",
       "Location Code                    0\n",
       "Marital Status                   0\n",
       "Monthly Premium Auto             0\n",
       "Months Since Last Claim          0\n",
       "Months Since Policy Inception    0\n",
       "Number of Open Complaints        0\n",
       "Number of Policies               0\n",
       "Policy Type                      0\n",
       "Policy                           0\n",
       "Renew Offer Type                 0\n",
       "Sales Channel                    0\n",
       "Total Claim Amount               0\n",
       "Vehicle Class                    0\n",
       "Vehicle Size                     0\n",
       "dtype: int64"
      ]
     },
     "execution_count": 10,
     "metadata": {},
     "output_type": "execute_result"
    }
   ],
   "source": [
    "df.isnull().sum()"
   ]
  },
  {
   "cell_type": "markdown",
   "metadata": {},
   "source": [
    "There are no null values in the data"
   ]
  },
  {
   "cell_type": "markdown",
   "metadata": {},
   "source": [
    "## EDA"
   ]
  },
  {
   "cell_type": "markdown",
   "metadata": {},
   "source": [
    "## Numerical Features"
   ]
  },
  {
   "cell_type": "markdown",
   "metadata": {},
   "source": [
    "### CLV - Target variable analysis"
   ]
  },
  {
   "cell_type": "code",
   "execution_count": 209,
   "metadata": {},
   "outputs": [
    {
     "data": {
      "image/png": "[encoded data removed]",
      "text/plain": [
       "<Figure size 432x288 with 1 Axes>"
      ]
     },
     "metadata": {
      "needs_background": "light"
     },
     "output_type": "display_data"
    }
   ],
   "source": [
    "sns.distplot(df[\"CLV\"])\n",
    "# plt.savefig(\"CLV.png\")\n",
    "plt.show()"
   ]
  },
  {
   "cell_type": "code",
   "execution_count": 12,
   "metadata": {},
   "outputs": [
    {
     "data": {
      "image/png": "[encoded data removed]",
      "text/plain": [
       "<Figure size 432x288 with 1 Axes>"
      ]
     },
     "metadata": {
      "needs_background": "light"
     },
     "output_type": "display_data"
    }
   ],
   "source": [
    "sns.boxplot(df[\"CLV\"])\n",
    "plt.show()"
   ]
  },
  {
   "cell_type": "code",
   "execution_count": 13,
   "metadata": {},
   "outputs": [
    {
     "data": {
      "text/plain": [
       "3.032280259929985"
      ]
     },
     "execution_count": 13,
     "metadata": {},
     "output_type": "execute_result"
    }
   ],
   "source": [
    "df[\"CLV\"].skew()"
   ]
  },
  {
   "cell_type": "markdown",
   "metadata": {},
   "source": [
    "From the distribution and box plot we can infer that CLV is highly right skewed. There are lot of outliers in our dependent variable but we cant treat them directly because they are influential points."
   ]
  },
  {
   "cell_type": "markdown",
   "metadata": {},
   "source": [
    "### Income"
   ]
  },
  {
   "cell_type": "markdown",
   "metadata": {},
   "source": [
    "**Univariate Analysis**"
   ]
  },
  {
   "cell_type": "code",
   "execution_count": 14,
   "metadata": {},
   "outputs": [
    {
     "data": {
      "image/png": "[encoded data removed]",
      "text/plain": [
       "<Figure size 432x288 with 1 Axes>"
      ]
     },
     "metadata": {
      "needs_background": "light"
     },
     "output_type": "display_data"
    }
   ],
   "source": [
    "sns.distplot(df[\"Income\"])\n",
    "plt.show()"
   ]
  },
  {
   "cell_type": "code",
   "execution_count": 15,
   "metadata": {},
   "outputs": [
    {
     "data": {
      "image/png": "[encoded data removed]",
      "text/plain": [
       "<Figure size 432x288 with 1 Axes>"
      ]
     },
     "metadata": {
      "needs_background": "light"
     },
     "output_type": "display_data"
    }
   ],
   "source": [
    "sns.boxplot(df[\"Income\"])\n",
    "plt.show()"
   ]
  },
  {
   "cell_type": "markdown",
   "metadata": {},
   "source": [
    "**Bivariate Analysis**"
   ]
  },
  {
   "cell_type": "code",
   "execution_count": 16,
   "metadata": {},
   "outputs": [
    {
     "data": {
      "image/png": "[encoded data removed]",
      "text/plain": [
       "<Figure size 432x288 with 1 Axes>"
      ]
     },
     "metadata": {
      "needs_background": "light"
     },
     "output_type": "display_data"
    }
   ],
   "source": [
    "sns.scatterplot(df[\"Income\"],df[\"CLV\"])\n",
    "plt.show()"
   ]
  },
  {
   "cell_type": "markdown",
   "metadata": {},
   "source": [
    "There is no linear relationship between income and CLV"
   ]
  },
  {
   "cell_type": "markdown",
   "metadata": {},
   "source": [
    "### Monthly Premium Auto"
   ]
  },
  {
   "cell_type": "code",
   "execution_count": 17,
   "metadata": {},
   "outputs": [
    {
     "data": {
      "image/png": "[encoded data removed]",
      "text/plain": [
       "<Figure size 432x288 with 1 Axes>"
      ]
     },
     "metadata": {
      "needs_background": "light"
     },
     "output_type": "display_data"
    }
   ],
   "source": [
    "sns.distplot(df[\"Monthly Premium Auto\"],color='c')\n",
    "plt.show()"
   ]
  },
  {
   "cell_type": "code",
   "execution_count": 18,
   "metadata": {},
   "outputs": [
    {
     "data": {
      "image/png": "[encoded data removed]",
      "text/plain": [
       "<Figure size 432x288 with 1 Axes>"
      ]
     },
     "metadata": {
      "needs_background": "light"
     },
     "output_type": "display_data"
    }
   ],
   "source": [
    "sns.boxplot(df[\"Monthly Premium Auto\"],color='c')\n",
    "plt.show()"
   ]
  },
  {
   "cell_type": "markdown",
   "metadata": {},
   "source": [
    "**Bivariate Analysis**"
   ]
  },
  {
   "cell_type": "code",
   "execution_count": 210,
   "metadata": {},
   "outputs": [
    {
     "data": {
      "image/png": "[encoded data removed]",
      "text/plain": [
       "<Figure size 432x288 with 1 Axes>"
      ]
     },
     "metadata": {
      "needs_background": "light"
     },
     "output_type": "display_data"
    }
   ],
   "source": [
    "sns.scatterplot(df[\"Monthly Premium Auto\"],df[\"CLV\"],color='g')\n",
    "# plt.savefig(\"bi.png\")\n",
    "plt.show()"
   ]
  },
  {
   "cell_type": "markdown",
   "metadata": {},
   "source": [
    "There is linear relationship between income and CLV"
   ]
  },
  {
   "cell_type": "markdown",
   "metadata": {},
   "source": [
    "### Months Since Last Claim"
   ]
  },
  {
   "cell_type": "code",
   "execution_count": 20,
   "metadata": {},
   "outputs": [
    {
     "data": {
      "image/png": "[encoded data removed]",
      "text/plain": [
       "<Figure size 432x288 with 1 Axes>"
      ]
     },
     "metadata": {
      "needs_background": "light"
     },
     "output_type": "display_data"
    }
   ],
   "source": [
    "sns.distplot(df['Months Since Last Claim'])\n",
    "plt.show()"
   ]
  },
  {
   "cell_type": "code",
   "execution_count": 21,
   "metadata": {},
   "outputs": [
    {
     "data": {
      "image/png": "[encoded data removed]",
      "text/plain": [
       "<Figure size 432x288 with 1 Axes>"
      ]
     },
     "metadata": {
      "needs_background": "light"
     },
     "output_type": "display_data"
    }
   ],
   "source": [
    "sns.boxplot(df[\"Months Since Last Claim\"])\n",
    "plt.show()"
   ]
  },
  {
   "cell_type": "markdown",
   "metadata": {},
   "source": [
    "**Bivariate Analysis**"
   ]
  },
  {
   "cell_type": "code",
   "execution_count": 22,
   "metadata": {},
   "outputs": [
    {
     "data": {
      "image/png": "[encoded data removed]",
      "text/plain": [
       "<Figure size 432x288 with 1 Axes>"
      ]
     },
     "metadata": {
      "needs_background": "light"
     },
     "output_type": "display_data"
    }
   ],
   "source": [
    "sns.scatterplot(df[\"Months Since Last Claim\"],df[\"CLV\"],color='c')\n",
    "plt.show()"
   ]
  },
  {
   "cell_type": "markdown",
   "metadata": {},
   "source": [
    "There is no linear relationship"
   ]
  },
  {
   "cell_type": "markdown",
   "metadata": {},
   "source": [
    "### Months Since Policy Inception"
   ]
  },
  {
   "cell_type": "code",
   "execution_count": 23,
   "metadata": {},
   "outputs": [
    {
     "data": {
      "image/png": "[encoded data removed]",
      "text/plain": [
       "<Figure size 432x288 with 1 Axes>"
      ]
     },
     "metadata": {
      "needs_background": "light"
     },
     "output_type": "display_data"
    }
   ],
   "source": [
    "sns.distplot(df['Months Since Policy Inception'])\n",
    "plt.show()"
   ]
  },
  {
   "cell_type": "code",
   "execution_count": 24,
   "metadata": {},
   "outputs": [
    {
     "data": {
      "image/png": "[encoded data removed]",
      "text/plain": [
       "<Figure size 432x288 with 1 Axes>"
      ]
     },
     "metadata": {
      "needs_background": "light"
     },
     "output_type": "display_data"
    }
   ],
   "source": [
    "sns.boxplot(df[\"Months Since Policy Inception\"])\n",
    "plt.show()"
   ]
  },
  {
   "cell_type": "markdown",
   "metadata": {},
   "source": [
    "### Total claim amount"
   ]
  },
  {
   "cell_type": "code",
   "execution_count": 25,
   "metadata": {},
   "outputs": [
    {
     "data": {
      "image/png": "[encoded data removed]",
      "text/plain": [
       "<Figure size 432x288 with 1 Axes>"
      ]
     },
     "metadata": {
      "needs_background": "light"
     },
     "output_type": "display_data"
    }
   ],
   "source": [
    "sns.distplot(df['Total Claim Amount'])\n",
    "plt.show()"
   ]
  },
  {
   "cell_type": "code",
   "execution_count": 26,
   "metadata": {},
   "outputs": [
    {
     "data": {
      "image/png": "[encoded data removed]",
      "text/plain": [
       "<Figure size 432x288 with 1 Axes>"
      ]
     },
     "metadata": {
      "needs_background": "light"
     },
     "output_type": "display_data"
    }
   ],
   "source": [
    "sns.boxplot(df[\"Total Claim Amount\"])\n",
    "plt.show()"
   ]
  },
  {
   "cell_type": "code",
   "execution_count": 27,
   "metadata": {},
   "outputs": [
    {
     "data": {
      "image/png": "[encoded data removed]",
      "text/plain": [
       "<Figure size 432x288 with 1 Axes>"
      ]
     },
     "metadata": {
      "needs_background": "light"
     },
     "output_type": "display_data"
    }
   ],
   "source": [
    "sns.scatterplot(df[\"Total Claim Amount\"],df[\"CLV\"],color='c')\n",
    "plt.show()"
   ]
  },
  {
   "cell_type": "markdown",
   "metadata": {},
   "source": [
    "There is a linear relationship between CLV and Total Claim Amount"
   ]
  },
  {
   "cell_type": "markdown",
   "metadata": {},
   "source": [
    "The monthly premium auto and income feature has multiple peak's so to remove those peaks we can apply any of the power transformation (SQUARE / CUBE)"
   ]
  },
  {
   "cell_type": "code",
   "execution_count": 28,
   "metadata": {},
   "outputs": [
    {
     "data": {
      "image/png": "[encoded data removed]",
      "text/plain": [
       "<Figure size 432x288 with 1 Axes>"
      ]
     },
     "metadata": {
      "needs_background": "light"
     },
     "output_type": "display_data"
    }
   ],
   "source": [
    "sns.distplot(np.square(df[\"Monthly Premium Auto\"]),color='r')\n",
    "plt.show()"
   ]
  },
  {
   "cell_type": "code",
   "execution_count": 29,
   "metadata": {},
   "outputs": [
    {
     "data": {
      "image/png": "[encoded data removed]",
      "text/plain": [
       "<Figure size 432x288 with 1 Axes>"
      ]
     },
     "metadata": {
      "needs_background": "light"
     },
     "output_type": "display_data"
    }
   ],
   "source": [
    "sns.distplot(np.square(df[\"Income\"]),color='r')\n",
    "plt.show()"
   ]
  },
  {
   "cell_type": "markdown",
   "metadata": {},
   "source": [
    "But as we can see that after the square transformation the data is getting heavily skewed, so we stick with the actual distribution again. We will just stick with the actual distribution of the feature in our model building."
   ]
  },
  {
   "cell_type": "markdown",
   "metadata": {},
   "source": [
    "## Categorical variables"
   ]
  },
  {
   "cell_type": "code",
   "execution_count": 30,
   "metadata": {},
   "outputs": [],
   "source": [
    "cat_cols = df.select_dtypes(include=\"object\")"
   ]
  },
  {
   "cell_type": "code",
   "execution_count": 31,
   "metadata": {},
   "outputs": [],
   "source": [
    "no_col = df[[\"Number of Open Complaints\",\"Number of Policies\"]]"
   ]
  },
  {
   "cell_type": "code",
   "execution_count": 32,
   "metadata": {},
   "outputs": [],
   "source": [
    "cat_cols = pd.concat([cat_cols,no_col],axis=1)"
   ]
  },
  {
   "cell_type": "code",
   "execution_count": 33,
   "metadata": {
    "scrolled": false
   },
   "outputs": [
    {
     "data": {
      "text/html": [
       "<div>\n",
       "<style scoped>\n",
       "    .dataframe tbody tr th:only-of-type {\n",
       "        vertical-align: middle;\n",
       "    }\n",
       "\n",
       "    .dataframe tbody tr th {\n",
       "        vertical-align: top;\n",
       "    }\n",
       "\n",
       "    .dataframe thead th {\n",
       "        text-align: right;\n",
       "    }\n",
       "</style>\n",
       "<table border=\"1\" class=\"dataframe\">\n",
       "  <thead>\n",
       "    <tr style=\"text-align: right;\">\n",
       "      <th></th>\n",
       "      <th>Customer</th>\n",
       "      <th>State</th>\n",
       "      <th>Response</th>\n",
       "      <th>Coverage</th>\n",
       "      <th>Education</th>\n",
       "      <th>Effective To Date</th>\n",
       "      <th>EmploymentStatus</th>\n",
       "      <th>Gender</th>\n",
       "      <th>Location Code</th>\n",
       "      <th>Marital Status</th>\n",
       "      <th>Policy Type</th>\n",
       "      <th>Policy</th>\n",
       "      <th>Renew Offer Type</th>\n",
       "      <th>Sales Channel</th>\n",
       "      <th>Vehicle Class</th>\n",
       "      <th>Vehicle Size</th>\n",
       "      <th>Number of Open Complaints</th>\n",
       "      <th>Number of Policies</th>\n",
       "    </tr>\n",
       "  </thead>\n",
       "  <tbody>\n",
       "    <tr>\n",
       "      <td>0</td>\n",
       "      <td>BU79786</td>\n",
       "      <td>Washington</td>\n",
       "      <td>No</td>\n",
       "      <td>Basic</td>\n",
       "      <td>Bachelor</td>\n",
       "      <td>2/24/11</td>\n",
       "      <td>Employed</td>\n",
       "      <td>F</td>\n",
       "      <td>Suburban</td>\n",
       "      <td>Married</td>\n",
       "      <td>Corporate Auto</td>\n",
       "      <td>Corporate L3</td>\n",
       "      <td>Offer1</td>\n",
       "      <td>Agent</td>\n",
       "      <td>Two-Door Car</td>\n",
       "      <td>Medsize</td>\n",
       "      <td>0</td>\n",
       "      <td>1</td>\n",
       "    </tr>\n",
       "    <tr>\n",
       "      <td>1</td>\n",
       "      <td>QZ44356</td>\n",
       "      <td>Arizona</td>\n",
       "      <td>No</td>\n",
       "      <td>Extended</td>\n",
       "      <td>Bachelor</td>\n",
       "      <td>1/31/11</td>\n",
       "      <td>Unemployed</td>\n",
       "      <td>F</td>\n",
       "      <td>Suburban</td>\n",
       "      <td>Single</td>\n",
       "      <td>Personal Auto</td>\n",
       "      <td>Personal L3</td>\n",
       "      <td>Offer3</td>\n",
       "      <td>Agent</td>\n",
       "      <td>Four-Door Car</td>\n",
       "      <td>Medsize</td>\n",
       "      <td>0</td>\n",
       "      <td>8</td>\n",
       "    </tr>\n",
       "    <tr>\n",
       "      <td>2</td>\n",
       "      <td>AI49188</td>\n",
       "      <td>Nevada</td>\n",
       "      <td>No</td>\n",
       "      <td>Premium</td>\n",
       "      <td>Bachelor</td>\n",
       "      <td>2/19/11</td>\n",
       "      <td>Employed</td>\n",
       "      <td>F</td>\n",
       "      <td>Suburban</td>\n",
       "      <td>Married</td>\n",
       "      <td>Personal Auto</td>\n",
       "      <td>Personal L3</td>\n",
       "      <td>Offer1</td>\n",
       "      <td>Agent</td>\n",
       "      <td>Two-Door Car</td>\n",
       "      <td>Medsize</td>\n",
       "      <td>0</td>\n",
       "      <td>2</td>\n",
       "    </tr>\n",
       "    <tr>\n",
       "      <td>3</td>\n",
       "      <td>WW63253</td>\n",
       "      <td>California</td>\n",
       "      <td>No</td>\n",
       "      <td>Basic</td>\n",
       "      <td>Bachelor</td>\n",
       "      <td>1/20/11</td>\n",
       "      <td>Unemployed</td>\n",
       "      <td>M</td>\n",
       "      <td>Suburban</td>\n",
       "      <td>Married</td>\n",
       "      <td>Corporate Auto</td>\n",
       "      <td>Corporate L2</td>\n",
       "      <td>Offer1</td>\n",
       "      <td>Call Center</td>\n",
       "      <td>SUV</td>\n",
       "      <td>Medsize</td>\n",
       "      <td>0</td>\n",
       "      <td>7</td>\n",
       "    </tr>\n",
       "    <tr>\n",
       "      <td>4</td>\n",
       "      <td>HB64268</td>\n",
       "      <td>Washington</td>\n",
       "      <td>No</td>\n",
       "      <td>Basic</td>\n",
       "      <td>Bachelor</td>\n",
       "      <td>3/2/2011</td>\n",
       "      <td>Employed</td>\n",
       "      <td>M</td>\n",
       "      <td>Rural</td>\n",
       "      <td>Single</td>\n",
       "      <td>Personal Auto</td>\n",
       "      <td>Personal L1</td>\n",
       "      <td>Offer1</td>\n",
       "      <td>Agent</td>\n",
       "      <td>Four-Door Car</td>\n",
       "      <td>Medsize</td>\n",
       "      <td>0</td>\n",
       "      <td>1</td>\n",
       "    </tr>\n",
       "  </tbody>\n",
       "</table>\n",
       "</div>"
      ],
      "text/plain": [
       "  Customer       State Response  Coverage Education Effective To Date  \\\n",
       "0  BU79786  Washington       No     Basic  Bachelor           2/24/11   \n",
       "1  QZ44356     Arizona       No  Extended  Bachelor           1/31/11   \n",
       "2  AI49188      Nevada       No   Premium  Bachelor           2/19/11   \n",
       "3  WW63253  California       No     Basic  Bachelor           1/20/11   \n",
       "4  HB64268  Washington       No     Basic  Bachelor          3/2/2011   \n",
       "\n",
       "  EmploymentStatus Gender Location Code Marital Status     Policy Type  \\\n",
       "0         Employed      F      Suburban        Married  Corporate Auto   \n",
       "1       Unemployed      F      Suburban         Single   Personal Auto   \n",
       "2         Employed      F      Suburban        Married   Personal Auto   \n",
       "3       Unemployed      M      Suburban        Married  Corporate Auto   \n",
       "4         Employed      M         Rural         Single   Personal Auto   \n",
       "\n",
       "         Policy Renew Offer Type Sales Channel  Vehicle Class Vehicle Size  \\\n",
       "0  Corporate L3           Offer1         Agent   Two-Door Car      Medsize   \n",
       "1   Personal L3           Offer3         Agent  Four-Door Car      Medsize   \n",
       "2   Personal L3           Offer1         Agent   Two-Door Car      Medsize   \n",
       "3  Corporate L2           Offer1   Call Center            SUV      Medsize   \n",
       "4   Personal L1           Offer1         Agent  Four-Door Car      Medsize   \n",
       "\n",
       "   Number of Open Complaints  Number of Policies  \n",
       "0                          0                   1  \n",
       "1                          0                   8  \n",
       "2                          0                   2  \n",
       "3                          0                   7  \n",
       "4                          0                   1  "
      ]
     },
     "execution_count": 33,
     "metadata": {},
     "output_type": "execute_result"
    }
   ],
   "source": [
    "cat_cols.head()"
   ]
  },
  {
   "cell_type": "code",
   "execution_count": 34,
   "metadata": {},
   "outputs": [],
   "source": [
    "cat_cols.drop(\"Effective To Date\",axis=1,inplace=True)"
   ]
  },
  {
   "cell_type": "code",
   "execution_count": 35,
   "metadata": {},
   "outputs": [
    {
     "data": {
      "text/plain": [
       "Index(['Customer', 'State', 'Response', 'Coverage', 'Education',\n",
       "       'EmploymentStatus', 'Gender', 'Location Code', 'Marital Status',\n",
       "       'Policy Type', 'Policy', 'Renew Offer Type', 'Sales Channel',\n",
       "       'Vehicle Class', 'Vehicle Size', 'Number of Open Complaints',\n",
       "       'Number of Policies'],\n",
       "      dtype='object')"
      ]
     },
     "execution_count": 35,
     "metadata": {},
     "output_type": "execute_result"
    }
   ],
   "source": [
    "cat_cols.columns"
   ]
  },
  {
   "cell_type": "code",
   "execution_count": 36,
   "metadata": {
    "scrolled": false
   },
   "outputs": [
    {
     "name": "stdout",
     "output_type": "stream",
     "text": [
      "Unique values in Customer is 9134\n",
      "AP52565    1\n",
      "YU72630    1\n",
      "EV66951    1\n",
      "RF58958    1\n",
      "KG83280    1\n",
      "          ..\n",
      "LY17372    1\n",
      "DQ93036    1\n",
      "PS57128    1\n",
      "KE70943    1\n",
      "BK21146    1\n",
      "Name: Customer, Length: 9134, dtype: int64\n",
      "-----------------------------------------\n",
      "Unique values in State is 5\n",
      "California    3150\n",
      "Oregon        2601\n",
      "Arizona       1703\n",
      "Nevada         882\n",
      "Washington     798\n",
      "Name: State, dtype: int64\n",
      "-----------------------------------------\n",
      "Unique values in Response is 2\n",
      "No     7826\n",
      "Yes    1308\n",
      "Name: Response, dtype: int64\n",
      "-----------------------------------------\n",
      "Unique values in Coverage is 3\n",
      "Basic       5568\n",
      "Extended    2742\n",
      "Premium      824\n",
      "Name: Coverage, dtype: int64\n",
      "-----------------------------------------\n",
      "Unique values in Education is 5\n",
      "Bachelor                2748\n",
      "College                 2681\n",
      "High School or Below    2622\n",
      "Master                   741\n",
      "Doctor                   342\n",
      "Name: Education, dtype: int64\n",
      "-----------------------------------------\n",
      "Unique values in EmploymentStatus is 5\n",
      "Employed         5698\n",
      "Unemployed       2317\n",
      "Medical Leave     432\n",
      "Disabled          405\n",
      "Retired           282\n",
      "Name: EmploymentStatus, dtype: int64\n",
      "-----------------------------------------\n",
      "Unique values in Gender is 2\n",
      "F    4658\n",
      "M    4476\n",
      "Name: Gender, dtype: int64\n",
      "-----------------------------------------\n",
      "Unique values in Location Code is 3\n",
      "Suburban    5779\n",
      "Rural       1773\n",
      "Urban       1582\n",
      "Name: Location Code, dtype: int64\n",
      "-----------------------------------------\n",
      "Unique values in Marital Status is 3\n",
      "Married     5298\n",
      "Single      2467\n",
      "Divorced    1369\n",
      "Name: Marital Status, dtype: int64\n",
      "-----------------------------------------\n",
      "Unique values in Policy Type is 3\n",
      "Personal Auto     6788\n",
      "Corporate Auto    1968\n",
      "Special Auto       378\n",
      "Name: Policy Type, dtype: int64\n",
      "-----------------------------------------\n",
      "Unique values in Policy is 9\n",
      "Personal L3     3426\n",
      "Personal L2     2122\n",
      "Personal L1     1240\n",
      "Corporate L3    1014\n",
      "Corporate L2     595\n",
      "Corporate L1     359\n",
      "Special L2       164\n",
      "Special L3       148\n",
      "Special L1        66\n",
      "Name: Policy, dtype: int64\n",
      "-----------------------------------------\n",
      "Unique values in Renew Offer Type is 4\n",
      "Offer1    3752\n",
      "Offer2    2926\n",
      "Offer3    1432\n",
      "Offer4    1024\n",
      "Name: Renew Offer Type, dtype: int64\n",
      "-----------------------------------------\n",
      "Unique values in Sales Channel is 4\n",
      "Agent          3477\n",
      "Branch         2567\n",
      "Call Center    1765\n",
      "Web            1325\n",
      "Name: Sales Channel, dtype: int64\n",
      "-----------------------------------------\n",
      "Unique values in Vehicle Class is 6\n",
      "Four-Door Car    4621\n",
      "Two-Door Car     1886\n",
      "SUV              1796\n",
      "Sports Car        484\n",
      "Luxury SUV        184\n",
      "Luxury Car        163\n",
      "Name: Vehicle Class, dtype: int64\n",
      "-----------------------------------------\n",
      "Unique values in Vehicle Size is 3\n",
      "Medsize    6424\n",
      "Small      1764\n",
      "Large       946\n",
      "Name: Vehicle Size, dtype: int64\n",
      "-----------------------------------------\n",
      "Unique values in Number of Open Complaints is 6\n",
      "0    7252\n",
      "1    1011\n",
      "2     374\n",
      "3     292\n",
      "4     149\n",
      "5      56\n",
      "Name: Number of Open Complaints, dtype: int64\n",
      "-----------------------------------------\n",
      "Unique values in Number of Policies is 9\n",
      "1    3251\n",
      "2    2294\n",
      "3    1168\n",
      "7     433\n",
      "9     416\n",
      "4     409\n",
      "5     407\n",
      "8     384\n",
      "6     372\n",
      "Name: Number of Policies, dtype: int64\n",
      "-----------------------------------------\n"
     ]
    }
   ],
   "source": [
    "for i in cat_cols:\n",
    "    print(\"Unique values in\",str(i),\"is\",df[i].nunique())\n",
    "    print(df[i].value_counts())\n",
    "    print(\"-----------------------------------------\")"
   ]
  },
  {
   "cell_type": "markdown",
   "metadata": {},
   "source": [
    "Customer column which is the id has unique values for all records so it can be removed for model building as it adds no significance"
   ]
  },
  {
   "cell_type": "markdown",
   "metadata": {},
   "source": [
    "### State"
   ]
  },
  {
   "cell_type": "code",
   "execution_count": 37,
   "metadata": {},
   "outputs": [
    {
     "data": {
      "image/png": "[encoded data removed]",
      "text/plain": [
       "<Figure size 432x288 with 1 Axes>"
      ]
     },
     "metadata": {
      "needs_background": "light"
     },
     "output_type": "display_data"
    }
   ],
   "source": [
    "sns.countplot(df[\"State\"])\n",
    "plt.show()"
   ]
  },
  {
   "cell_type": "markdown",
   "metadata": {},
   "source": [
    "Most number of people are residing in california"
   ]
  },
  {
   "cell_type": "markdown",
   "metadata": {},
   "source": [
    "### Response"
   ]
  },
  {
   "cell_type": "code",
   "execution_count": 38,
   "metadata": {},
   "outputs": [
    {
     "data": {
      "image/png": "[encoded data removed]",
      "text/plain": [
       "<Figure size 432x288 with 1 Axes>"
      ]
     },
     "metadata": {
      "needs_background": "light"
     },
     "output_type": "display_data"
    }
   ],
   "source": [
    "sns.countplot(df[\"Response\"])\n",
    "plt.show()"
   ]
  },
  {
   "cell_type": "markdown",
   "metadata": {},
   "source": [
    "Its seems that less than 1400 customers have responded to the marketing calls"
   ]
  },
  {
   "cell_type": "markdown",
   "metadata": {},
   "source": [
    "### Coverage"
   ]
  },
  {
   "cell_type": "code",
   "execution_count": 39,
   "metadata": {},
   "outputs": [
    {
     "data": {
      "image/png": "[encoded data removed]",
      "text/plain": [
       "<Figure size 432x288 with 1 Axes>"
      ]
     },
     "metadata": {
      "needs_background": "light"
     },
     "output_type": "display_data"
    }
   ],
   "source": [
    "sns.countplot(df[\"Coverage\"])\n",
    "plt.show()"
   ]
  },
  {
   "cell_type": "markdown",
   "metadata": {},
   "source": [
    "### Education"
   ]
  },
  {
   "cell_type": "code",
   "execution_count": 40,
   "metadata": {},
   "outputs": [
    {
     "data": {
      "image/png": "[encoded data removed]",
      "text/plain": [
       "<Figure size 720x360 with 1 Axes>"
      ]
     },
     "metadata": {
      "needs_background": "light"
     },
     "output_type": "display_data"
    }
   ],
   "source": [
    "plt.figure(figsize=(10,5))\n",
    "sns.countplot(df[\"Education\"])\n",
    "plt.show()"
   ]
  },
  {
   "cell_type": "markdown",
   "metadata": {},
   "source": [
    "Most of the customers have either a bachelor or college degree"
   ]
  },
  {
   "cell_type": "markdown",
   "metadata": {},
   "source": [
    "### EmploymentStatus"
   ]
  },
  {
   "cell_type": "code",
   "execution_count": 213,
   "metadata": {},
   "outputs": [
    {
     "data": {
      "image/png": "[encoded data removed]",
      "text/plain": [
       "<Figure size 720x360 with 1 Axes>"
      ]
     },
     "metadata": {
      "needs_background": "light"
     },
     "output_type": "display_data"
    }
   ],
   "source": [
    "plt.figure(figsize=(10,5))\n",
    "sns.countplot(df[\"EmploymentStatus\"])\n",
    "# plt.savefig(\"empstatus.png\")\n",
    "plt.show()"
   ]
  },
  {
   "cell_type": "code",
   "execution_count": 42,
   "metadata": {},
   "outputs": [
    {
     "data": {
      "text/plain": [
       "Employed         62.382308\n",
       "Unemployed       25.366762\n",
       "Medical Leave     4.729582\n",
       "Disabled          4.433983\n",
       "Retired           3.087366\n",
       "Name: EmploymentStatus, dtype: float64"
      ]
     },
     "execution_count": 42,
     "metadata": {},
     "output_type": "execute_result"
    }
   ],
   "source": [
    "df[\"EmploymentStatus\"].value_counts(normalize=True)*100"
   ]
  },
  {
   "cell_type": "markdown",
   "metadata": {},
   "source": [
    "Around 62.38% of the customers are employed"
   ]
  },
  {
   "cell_type": "code",
   "execution_count": 219,
   "metadata": {},
   "outputs": [
    {
     "data": {
      "image/png": "[encoded data removed]",
      "text/plain": [
       "<Figure size 720x360 with 1 Axes>"
      ]
     },
     "metadata": {
      "needs_background": "light"
     },
     "output_type": "display_data"
    }
   ],
   "source": [
    "plt.figure(figsize=(10,5))\n",
    "sns.boxplot(x=df['EmploymentStatus'],y=df['CLV'])\n",
    "plt.title(\"CLV vs EmploymentStatus\")\n",
    "# plt.savefig(\"bi1.png\")\n",
    "plt.show()"
   ]
  },
  {
   "cell_type": "markdown",
   "metadata": {},
   "source": [
    "### Gender"
   ]
  },
  {
   "cell_type": "code",
   "execution_count": 43,
   "metadata": {},
   "outputs": [
    {
     "data": {
      "image/png": "[encoded data removed]",
      "text/plain": [
       "<Figure size 432x288 with 1 Axes>"
      ]
     },
     "metadata": {
      "needs_background": "light"
     },
     "output_type": "display_data"
    }
   ],
   "source": [
    "sns.countplot(df[\"Gender\"])\n",
    "plt.show()"
   ]
  },
  {
   "cell_type": "markdown",
   "metadata": {},
   "source": [
    "### Location Code"
   ]
  },
  {
   "cell_type": "code",
   "execution_count": 214,
   "metadata": {},
   "outputs": [
    {
     "data": {
      "image/png": "[encoded data removed]",
      "text/plain": [
       "<Figure size 432x288 with 1 Axes>"
      ]
     },
     "metadata": {
      "needs_background": "light"
     },
     "output_type": "display_data"
    }
   ],
   "source": [
    "sns.countplot(df[\"Location Code\"])\n",
    "plt.savefig(\"location.png\")\n",
    "plt.show()"
   ]
  },
  {
   "cell_type": "markdown",
   "metadata": {},
   "source": [
    "### Marital Status"
   ]
  },
  {
   "cell_type": "code",
   "execution_count": 45,
   "metadata": {},
   "outputs": [
    {
     "data": {
      "image/png": "[encoded data removed]",
      "text/plain": [
       "<Figure size 432x288 with 1 Axes>"
      ]
     },
     "metadata": {
      "needs_background": "light"
     },
     "output_type": "display_data"
    }
   ],
   "source": [
    "sns.countplot(df[\"Marital Status\"])\n",
    "plt.show()"
   ]
  },
  {
   "cell_type": "code",
   "execution_count": 46,
   "metadata": {},
   "outputs": [
    {
     "data": {
      "image/png": "[encoded data removed]",
      "text/plain": [
       "<Figure size 432x288 with 1 Axes>"
      ]
     },
     "metadata": {
      "needs_background": "light"
     },
     "output_type": "display_data"
    }
   ],
   "source": [
    "\n",
    "sns.barplot(df[\"Marital Status\"],df[\"CLV\"])\n",
    "plt.show()"
   ]
  },
  {
   "cell_type": "markdown",
   "metadata": {},
   "source": [
    "### Policy Type"
   ]
  },
  {
   "cell_type": "code",
   "execution_count": 47,
   "metadata": {},
   "outputs": [
    {
     "data": {
      "image/png": "[encoded data removed]",
      "text/plain": [
       "<Figure size 432x288 with 1 Axes>"
      ]
     },
     "metadata": {
      "needs_background": "light"
     },
     "output_type": "display_data"
    }
   ],
   "source": [
    "sns.countplot(df[\"Policy Type\"])\n",
    "plt.show()"
   ]
  },
  {
   "cell_type": "markdown",
   "metadata": {},
   "source": [
    "### Policy"
   ]
  },
  {
   "cell_type": "code",
   "execution_count": 48,
   "metadata": {},
   "outputs": [
    {
     "data": {
      "image/png": "[encoded data removed]",
      "text/plain": [
       "<Figure size 1080x360 with 1 Axes>"
      ]
     },
     "metadata": {
      "needs_background": "light"
     },
     "output_type": "display_data"
    }
   ],
   "source": [
    "plt.figure(figsize=(15,5))\n",
    "sns.countplot(df[\"Policy\"])\n",
    "plt.show()"
   ]
  },
  {
   "cell_type": "markdown",
   "metadata": {},
   "source": [
    "Personal L3 policy subcategory has the most number of customers"
   ]
  },
  {
   "cell_type": "markdown",
   "metadata": {},
   "source": [
    "### Renew Offer type"
   ]
  },
  {
   "cell_type": "code",
   "execution_count": 49,
   "metadata": {},
   "outputs": [
    {
     "data": {
      "image/png": "[encoded data removed]",
      "text/plain": [
       "<Figure size 432x288 with 1 Axes>"
      ]
     },
     "metadata": {
      "needs_background": "light"
     },
     "output_type": "display_data"
    }
   ],
   "source": [
    "sns.countplot(df[\"Renew Offer Type\"])\n",
    "plt.show()"
   ]
  },
  {
   "cell_type": "markdown",
   "metadata": {},
   "source": [
    "### Sales Channel"
   ]
  },
  {
   "cell_type": "code",
   "execution_count": 50,
   "metadata": {},
   "outputs": [
    {
     "data": {
      "image/png": "[encoded data removed]",
      "text/plain": [
       "<Figure size 432x288 with 1 Axes>"
      ]
     },
     "metadata": {
      "needs_background": "light"
     },
     "output_type": "display_data"
    }
   ],
   "source": [
    "sns.countplot(df[\"Sales Channel\"])\n",
    "plt.show()"
   ]
  },
  {
   "cell_type": "markdown",
   "metadata": {},
   "source": [
    "### Vehicle Class"
   ]
  },
  {
   "cell_type": "code",
   "execution_count": 51,
   "metadata": {},
   "outputs": [
    {
     "data": {
      "image/png": "[encoded data removed]",
      "text/plain": [
       "<Figure size 720x360 with 1 Axes>"
      ]
     },
     "metadata": {
      "needs_background": "light"
     },
     "output_type": "display_data"
    }
   ],
   "source": [
    "plt.figure(figsize=(10,5))\n",
    "sns.countplot(df[\"Vehicle Class\"])\n",
    "plt.show()"
   ]
  },
  {
   "cell_type": "markdown",
   "metadata": {},
   "source": [
    "### Vehicle Size"
   ]
  },
  {
   "cell_type": "code",
   "execution_count": 52,
   "metadata": {},
   "outputs": [
    {
     "data": {
      "image/png": "[encoded data removed]",
      "text/plain": [
       "<Figure size 720x360 with 1 Axes>"
      ]
     },
     "metadata": {
      "needs_background": "light"
     },
     "output_type": "display_data"
    }
   ],
   "source": [
    "plt.figure(figsize=(10,5))\n",
    "sns.countplot(df[\"Vehicle Size\"])\n",
    "plt.show()"
   ]
  },
  {
   "cell_type": "markdown",
   "metadata": {},
   "source": [
    "### Number of Open Complaints"
   ]
  },
  {
   "cell_type": "code",
   "execution_count": 53,
   "metadata": {},
   "outputs": [
    {
     "data": {
      "image/png": "[encoded data removed]",
      "text/plain": [
       "<Figure size 720x360 with 1 Axes>"
      ]
     },
     "metadata": {
      "needs_background": "light"
     },
     "output_type": "display_data"
    }
   ],
   "source": [
    "plt.figure(figsize=(10,5))\n",
    "sns.countplot(df[\"Number of Open Complaints\"])\n",
    "plt.show()"
   ]
  },
  {
   "cell_type": "code",
   "execution_count": 54,
   "metadata": {},
   "outputs": [
    {
     "data": {
      "image/png": "[encoded data removed]",
      "text/plain": [
       "<Figure size 720x360 with 1 Axes>"
      ]
     },
     "metadata": {
      "needs_background": "light"
     },
     "output_type": "display_data"
    }
   ],
   "source": [
    "plt.figure(figsize=(10,5))\n",
    "sns.countplot(df[\"Number of Policies\"])\n",
    "plt.show()"
   ]
  },
  {
   "cell_type": "code",
   "execution_count": 55,
   "metadata": {},
   "outputs": [],
   "source": [
    "df['Effective To Date']=pd.to_datetime(df['Effective To Date'],infer_datetime_format=True)"
   ]
  },
  {
   "cell_type": "code",
   "execution_count": 56,
   "metadata": {},
   "outputs": [],
   "source": [
    "df[\"Months\"] = df[\"Effective To Date\"].dt.month"
   ]
  },
  {
   "cell_type": "code",
   "execution_count": 57,
   "metadata": {},
   "outputs": [],
   "source": [
    "df['Months'] = df['Months'].astype('object')"
   ]
  },
  {
   "cell_type": "markdown",
   "metadata": {},
   "source": [
    "### Months"
   ]
  },
  {
   "cell_type": "code",
   "execution_count": 58,
   "metadata": {
    "scrolled": true
   },
   "outputs": [
    {
     "data": {
      "image/png": "[encoded data removed]",
      "text/plain": [
       "<Figure size 720x360 with 1 Axes>"
      ]
     },
     "metadata": {
      "needs_background": "light"
     },
     "output_type": "display_data"
    }
   ],
   "source": [
    "plt.figure(figsize=(10,5))\n",
    "sns.countplot(df[\"Months\"])\n",
    "plt.show()"
   ]
  },
  {
   "cell_type": "code",
   "execution_count": 59,
   "metadata": {},
   "outputs": [
    {
     "data": {
      "text/plain": [
       "Index(['Customer', 'State', 'Response', 'Coverage', 'Education',\n",
       "       'EmploymentStatus', 'Gender', 'Location Code', 'Marital Status',\n",
       "       'Policy Type', 'Policy', 'Renew Offer Type', 'Sales Channel',\n",
       "       'Vehicle Class', 'Vehicle Size', 'Number of Open Complaints',\n",
       "       'Number of Policies'],\n",
       "      dtype='object')"
      ]
     },
     "execution_count": 59,
     "metadata": {},
     "output_type": "execute_result"
    }
   ],
   "source": [
    "cat_cols.columns"
   ]
  },
  {
   "cell_type": "code",
   "execution_count": 60,
   "metadata": {},
   "outputs": [
    {
     "data": {
      "text/plain": [
       "Index(['Customer', 'State', 'CLV', 'Response', 'Coverage', 'Education',\n",
       "       'Effective To Date', 'EmploymentStatus', 'Gender', 'Income',\n",
       "       'Location Code', 'Marital Status', 'Monthly Premium Auto',\n",
       "       'Months Since Last Claim', 'Months Since Policy Inception',\n",
       "       'Number of Open Complaints', 'Number of Policies', 'Policy Type',\n",
       "       'Policy', 'Renew Offer Type', 'Sales Channel', 'Total Claim Amount',\n",
       "       'Vehicle Class', 'Vehicle Size', 'Months'],\n",
       "      dtype='object')"
      ]
     },
     "execution_count": 60,
     "metadata": {},
     "output_type": "execute_result"
    }
   ],
   "source": [
    "df.columns"
   ]
  },
  {
   "cell_type": "markdown",
   "metadata": {},
   "source": [
    "## HeatMap"
   ]
  },
  {
   "cell_type": "code",
   "execution_count": 61,
   "metadata": {},
   "outputs": [],
   "source": [
    "heatmap = df[['CLV', 'Income', 'Monthly Premium Auto','Total Claim Amount']]"
   ]
  },
  {
   "cell_type": "code",
   "execution_count": 208,
   "metadata": {
    "scrolled": true
   },
   "outputs": [
    {
     "data": {
      "image/png": "[encoded data removed]",
      "text/plain": [
       "<Figure size 504x288 with 2 Axes>"
      ]
     },
     "metadata": {
      "needs_background": "light"
     },
     "output_type": "display_data"
    }
   ],
   "source": [
    "plt.figure(figsize=(7,4))\n",
    "sns.heatmap(heatmap.corr(),annot=True)\n",
    "# plt.savefig(\"Heatmap.png\")\n",
    "plt.show()"
   ]
  },
  {
   "cell_type": "markdown",
   "metadata": {},
   "source": [
    "We can clearly see in the heatmap, that customer lifetime value has a better correlation with monthly premium auto and acceptable correlation with total claim amount.\n"
   ]
  },
  {
   "cell_type": "markdown",
   "metadata": {},
   "source": [
    "## Statistical Significance"
   ]
  },
  {
   "cell_type": "markdown",
   "metadata": {},
   "source": [
    "- H0:The null hypothesis of the test is the data is normally distributed\n",
    "- HA:The data is not normally distributed"
   ]
  },
  {
   "cell_type": "code",
   "execution_count": 63,
   "metadata": {},
   "outputs": [
    {
     "name": "stderr",
     "output_type": "stream",
     "text": [
      "C:\\Users\\Nantha\\Anaconda3\\lib\\site-packages\\scipy\\stats\\morestats.py:1660: UserWarning: p-value may not be accurate for N > 5000.\n",
      "  warnings.warn(\"p-value may not be accurate for N > 5000.\")\n"
     ]
    },
    {
     "data": {
      "text/plain": [
       "(0.7033728361129761, 0.0)"
      ]
     },
     "execution_count": 63,
     "metadata": {},
     "output_type": "execute_result"
    }
   ],
   "source": [
    "stats.shapiro(df['CLV'])"
   ]
  },
  {
   "cell_type": "markdown",
   "metadata": {},
   "source": [
    "p-value less than 0.05 we reject null hypothesis the data is not normally distributed"
   ]
  },
  {
   "cell_type": "markdown",
   "metadata": {},
   "source": [
    "We will proceed with non parametric tests since the dependent variable is not normally distributed"
   ]
  },
  {
   "cell_type": "code",
   "execution_count": 64,
   "metadata": {},
   "outputs": [
    {
     "data": {
      "text/plain": [
       "['Customer',\n",
       " 'State',\n",
       " 'Response',\n",
       " 'Coverage',\n",
       " 'Education',\n",
       " 'EmploymentStatus',\n",
       " 'Gender',\n",
       " 'Location Code',\n",
       " 'Marital Status',\n",
       " 'Policy Type',\n",
       " 'Policy',\n",
       " 'Renew Offer Type',\n",
       " 'Sales Channel',\n",
       " 'Vehicle Class',\n",
       " 'Vehicle Size',\n",
       " 'Number of Open Complaints',\n",
       " 'Number of Policies']"
      ]
     },
     "execution_count": 64,
     "metadata": {},
     "output_type": "execute_result"
    }
   ],
   "source": [
    "columns_cat = list(cat_cols.columns)\n",
    "columns_cat"
   ]
  },
  {
   "cell_type": "code",
   "execution_count": 65,
   "metadata": {},
   "outputs": [
    {
     "name": "stdout",
     "output_type": "stream",
     "text": [
      "Anova: ['Customer', 'State', 'Coverage', 'Education', 'EmploymentStatus', 'Location Code', 'Marital Status', 'Policy Type', 'Policy', 'Renew Offer Type', 'Sales Channel', 'Vehicle Class', 'Vehicle Size', 'Number of Open Complaints', 'Number of Policies']\n",
      "TTest: ['Response', 'Gender']\n"
     ]
    }
   ],
   "source": [
    "manwhiteneyy = []\n",
    "anova = []\n",
    "\n",
    "for i in columns_cat:\n",
    "    if (df[i].nunique()>2):\n",
    "        anova.append(i)\n",
    "    else:\n",
    "        manwhiteneyy.append(i)\n",
    "print(\"Anova:\",anova)\n",
    "print(\"TTest:\",manwhiteneyy)"
   ]
  },
  {
   "cell_type": "markdown",
   "metadata": {},
   "source": [
    " H0, the distributions of both populations are equal\n",
    "The alternative hypothesis H1 is that the distributions are not equal.    "
   ]
  },
  {
   "cell_type": "code",
   "execution_count": 66,
   "metadata": {},
   "outputs": [],
   "source": [
    "yes=df[df['Response']=='No']['CLV']\n",
    "no=df[df['Response']=='Yes']['CLV']"
   ]
  },
  {
   "cell_type": "code",
   "execution_count": 67,
   "metadata": {
    "scrolled": true
   },
   "outputs": [
    {
     "data": {
      "text/plain": [
       "<matplotlib.axes._subplots.AxesSubplot at 0x198c7922e48>"
      ]
     },
     "execution_count": 67,
     "metadata": {},
     "output_type": "execute_result"
    },
    {
     "data": {
      "image/png": "[encoded data removed]",
      "text/plain": [
       "<Figure size 432x288 with 1 Axes>"
      ]
     },
     "metadata": {
      "needs_background": "light"
     },
     "output_type": "display_data"
    }
   ],
   "source": [
    "sns.distplot(yes)\n",
    "sns.distplot(no)"
   ]
  },
  {
   "cell_type": "markdown",
   "metadata": {},
   "source": [
    "If the distributions are identical, which is the null hypothesis of the Mann-Whitney U test, the mean rank will be the same"
   ]
  },
  {
   "cell_type": "code",
   "execution_count": 68,
   "metadata": {},
   "outputs": [
    {
     "name": "stdout",
     "output_type": "stream",
     "text": [
      "MannwhitneyuResult(statistic=5060988.0, pvalue=0.2584436122645599)\n"
     ]
    }
   ],
   "source": [
    "f = stats.mannwhitneyu(yes,no)\n",
    "print(f)"
   ]
  },
  {
   "cell_type": "markdown",
   "metadata": {},
   "source": [
    "p-value is greater than 0.05 we failed to reject null hypothesis i.e the mean rank will be the same for both males and females."
   ]
  },
  {
   "cell_type": "code",
   "execution_count": 69,
   "metadata": {},
   "outputs": [],
   "source": [
    "male=df[df['Gender']=='M']['CLV']\n",
    "female=df[df['Gender']=='F']['CLV']"
   ]
  },
  {
   "cell_type": "code",
   "execution_count": 70,
   "metadata": {},
   "outputs": [
    {
     "name": "stdout",
     "output_type": "stream",
     "text": [
      "MannwhitneyuResult(statistic=10337134.0, pvalue=0.24374651528224917)\n"
     ]
    }
   ],
   "source": [
    "b =stats.mannwhitneyu(male,female)\n",
    "print(b)"
   ]
  },
  {
   "cell_type": "markdown",
   "metadata": {},
   "source": [
    "p-value is greater than 0.05 we failed to reject null hypothesis i.e the mean rank will be the same for both males and females."
   ]
  },
  {
   "cell_type": "markdown",
   "metadata": {},
   "source": [
    "we test above two features with non-Paramteric unpaired ttest and we concluded that those 2 features is not significant to predict traget"
   ]
  },
  {
   "cell_type": "markdown",
   "metadata": {},
   "source": [
    "- H0:the mean ranks of the groups are the same.\n",
    "- H1:the mean ranks of the groups are not the same."
   ]
  },
  {
   "cell_type": "code",
   "execution_count": 71,
   "metadata": {},
   "outputs": [],
   "source": [
    "ca=df[df['State']=='California']['CLV']\n",
    "Or=df[df['State']=='Oregon']['CLV']\n",
    "Ar=df[df['State']=='Arizona']['CLV']\n",
    "Ne=df[df['State']=='Nevada']['CLV']\n",
    "Wa=df[df['State']=='Washington']['CLV']"
   ]
  },
  {
   "cell_type": "code",
   "execution_count": 72,
   "metadata": {},
   "outputs": [
    {
     "name": "stdout",
     "output_type": "stream",
     "text": [
      "KruskalResult(statistic=5.072069583836472, pvalue=0.27998232358818953)\n"
     ]
    }
   ],
   "source": [
    "a = stats.kruskal(ca,Or,Ar,Ne,Wa)\n",
    "print(a)"
   ]
  },
  {
   "cell_type": "markdown",
   "metadata": {},
   "source": [
    "p-value > 0.05 failed to reject H0"
   ]
  },
  {
   "cell_type": "code",
   "execution_count": 73,
   "metadata": {},
   "outputs": [
    {
     "name": "stdout",
     "output_type": "stream",
     "text": [
      "MannwhitneyuResult(statistic=10337134.0, pvalue=0.24374651528224917)\n"
     ]
    }
   ],
   "source": [
    "stats.f_oneway(ca,Or,Ar,Ne,Wa)\n",
    "print(b)"
   ]
  },
  {
   "cell_type": "code",
   "execution_count": 74,
   "metadata": {},
   "outputs": [],
   "source": [
    "# df.rename(columns={'CLV':'CLV'},inplace=True)"
   ]
  },
  {
   "cell_type": "code",
   "execution_count": 192,
   "metadata": {},
   "outputs": [],
   "source": [
    "Ba=df[df['Coverage']=='Basic']['CLV']\n",
    "Ex=df[df['Coverage']=='Extended']['CLV']\n",
    "Pr=df[df['Coverage']=='Premium']['CLV']"
   ]
  },
  {
   "cell_type": "code",
   "execution_count": 197,
   "metadata": {},
   "outputs": [
    {
     "data": {
      "image/png": "[encoded data removed]",
      "text/plain": [
       "<Figure size 432x288 with 1 Axes>"
      ]
     },
     "metadata": {
      "needs_background": "light"
     },
     "output_type": "display_data"
    }
   ],
   "source": [
    "sns.distplot(Ba,hist=False,label='Basic')\n",
    "sns.distplot(Ex,hist=False)\n",
    "sns.distplot(Pr,hist=False)\n",
    "plt.show()"
   ]
  },
  {
   "cell_type": "code",
   "execution_count": 76,
   "metadata": {},
   "outputs": [
    {
     "name": "stdout",
     "output_type": "stream",
     "text": [
      "KruskalResult(statistic=502.4996090762843, pvalue=7.648852917746348e-110)\n"
     ]
    }
   ],
   "source": [
    "c =stats.kruskal(Ba,Ex,Pr)\n",
    "print(c)"
   ]
  },
  {
   "cell_type": "markdown",
   "metadata": {},
   "source": [
    "p-value < 0.05 to reject H0"
   ]
  },
  {
   "cell_type": "code",
   "execution_count": 77,
   "metadata": {},
   "outputs": [
    {
     "data": {
      "text/plain": [
       "F_onewayResult(statistic=133.67511419504908, pvalue=6.0158970099807e-58)"
      ]
     },
     "execution_count": 77,
     "metadata": {},
     "output_type": "execute_result"
    }
   ],
   "source": [
    "stats.f_oneway(Ba,Ex,Pr)"
   ]
  },
  {
   "cell_type": "code",
   "execution_count": 78,
   "metadata": {},
   "outputs": [],
   "source": [
    "Ba=df[df['Education']=='Bachelor']['CLV']\n",
    "Co=df[df['Education']=='College']['CLV']\n",
    "Hi=df[df['Education']=='High School or Below']['CLV']\n",
    "Ma=df[df['Education']=='Master']['CLV']\n",
    "Da=df[df['Education']=='Doctor']['CLV']"
   ]
  },
  {
   "cell_type": "code",
   "execution_count": 79,
   "metadata": {},
   "outputs": [
    {
     "name": "stdout",
     "output_type": "stream",
     "text": [
      "KruskalResult(statistic=12.234061758188824, pvalue=0.015693004298603028)\n"
     ]
    }
   ],
   "source": [
    "d= stats.kruskal(Ba,Co,Hi,Ma,Da)\n",
    "print(d)"
   ]
  },
  {
   "cell_type": "code",
   "execution_count": 207,
   "metadata": {},
   "outputs": [
    {
     "data": {
      "image/png": "[encoded data removed]",
      "text/plain": [
       "<Figure size 1080x360 with 1 Axes>"
      ]
     },
     "metadata": {
      "needs_background": "light"
     },
     "output_type": "display_data"
    }
   ],
   "source": [
    "plt.figure(figsize=(15,5))\n",
    "sns.distplot(Ba,hist=False,label='Bachelor')\n",
    "sns.distplot(Co,hist=False,label='College')\n",
    "sns.distplot(Hi,hist=False,label='High School or Below')\n",
    "sns.distplot(Ma,hist=False,label='Master')\n",
    "sns.distplot(Da,hist=False,label='Doctor')\n",
    "plt.title(\"Different Education level comparsion with CLV\")\n",
    "# plt.savefig(\"Education.png\")\n",
    "plt.show()"
   ]
  },
  {
   "cell_type": "markdown",
   "metadata": {},
   "source": [
    "p-value < 0.05 reject H0, Education is significant in predicting CLV"
   ]
  },
  {
   "cell_type": "code",
   "execution_count": 80,
   "metadata": {},
   "outputs": [],
   "source": [
    "Ba=df[df['EmploymentStatus']=='Employed']['CLV']\n",
    "Co=df[df['EmploymentStatus']=='Unemployed']['CLV']\n",
    "Hi=df[df['EmploymentStatus']=='Medical Leave']['CLV']\n",
    "Ma=df[df['EmploymentStatus']=='Disabled']['CLV']\n",
    "Da=df[df['EmploymentStatus']=='Retired']['CLV']"
   ]
  },
  {
   "cell_type": "code",
   "execution_count": 81,
   "metadata": {},
   "outputs": [
    {
     "name": "stdout",
     "output_type": "stream",
     "text": [
      "KruskalResult(statistic=42.56159302970864, pvalue=1.2758458797542519e-08)\n"
     ]
    }
   ],
   "source": [
    "e = stats.kruskal(Ba,Co,Hi,Ma,Da)\n",
    "print(e)"
   ]
  },
  {
   "cell_type": "markdown",
   "metadata": {},
   "source": [
    "p-value < 0.05 reject H0, EmploymentStatus is significant in predicting CLV"
   ]
  },
  {
   "cell_type": "code",
   "execution_count": 82,
   "metadata": {},
   "outputs": [],
   "source": [
    "Ba=df[df['Location Code']=='Suburban']['CLV']\n",
    "Co=df[df['Location Code']=='Rural']['CLV']\n",
    "Hi=df[df['Location Code']=='Urban']['CLV']"
   ]
  },
  {
   "cell_type": "code",
   "execution_count": 83,
   "metadata": {},
   "outputs": [
    {
     "name": "stdout",
     "output_type": "stream",
     "text": [
      "KruskalResult(statistic=2.4638212999332567, pvalue=0.29173464205664124)\n"
     ]
    }
   ],
   "source": [
    "g = stats.kruskal(Ba,Co,Hi)\n",
    "print(g)"
   ]
  },
  {
   "cell_type": "markdown",
   "metadata": {},
   "source": [
    "p-value < 0.05 reject H0, Location Code can be significant in predicting CLV"
   ]
  },
  {
   "cell_type": "code",
   "execution_count": 84,
   "metadata": {},
   "outputs": [],
   "source": [
    "Ba=df[df['Marital Status']=='Married']['CLV']\n",
    "Co=df[df['Marital Status']=='Single']['CLV']\n",
    "Hi=df[df['Marital Status']=='Divorced']['CLV']"
   ]
  },
  {
   "cell_type": "code",
   "execution_count": 85,
   "metadata": {
    "scrolled": true
   },
   "outputs": [
    {
     "name": "stdout",
     "output_type": "stream",
     "text": [
      "KruskalResult(statistic=20.895798766808223, pvalue=2.9009146434700455e-05)\n"
     ]
    }
   ],
   "source": [
    "h = stats.kruskal(Ba,Co,Hi)\n",
    "print(h)"
   ]
  },
  {
   "cell_type": "markdown",
   "metadata": {},
   "source": [
    "p-value < 0.05 reject H0, Marital Status can be significant in predicting CLV"
   ]
  },
  {
   "cell_type": "code",
   "execution_count": 86,
   "metadata": {},
   "outputs": [],
   "source": [
    "Ba=df[df['Number of Open Complaints']==0]['CLV']\n",
    "Co=df[df['Number of Open Complaints']==1]['CLV']\n",
    "Hi=df[df['Number of Open Complaints']==2]['CLV']\n",
    "Ma=df[df['Number of Open Complaints']==3]['CLV']\n",
    "Da=df[df['Number of Open Complaints']==4]['CLV']\n",
    "As=df[df['Number of Open Complaints']==5]['CLV']"
   ]
  },
  {
   "cell_type": "code",
   "execution_count": 87,
   "metadata": {},
   "outputs": [
    {
     "name": "stdout",
     "output_type": "stream",
     "text": [
      "KruskalResult(statistic=29.160617988301833, pvalue=2.1564409504417123e-05)\n"
     ]
    }
   ],
   "source": [
    "o = stats.kruskal(Ba,Co,Hi,Ma,Da,As)\n",
    "print(o)"
   ]
  },
  {
   "cell_type": "markdown",
   "metadata": {},
   "source": [
    "p-value < 0.05 reject H0, Number of Open Complaints can be significant in predicting CLV"
   ]
  },
  {
   "cell_type": "code",
   "execution_count": 88,
   "metadata": {},
   "outputs": [],
   "source": [
    "Ba=df[df['Number of Policies']==1]['CLV']\n",
    "Co=df[df['Number of Policies']==2]['CLV']\n",
    "Hi=df[df['Number of Policies']==3]['CLV']"
   ]
  },
  {
   "cell_type": "code",
   "execution_count": 89,
   "metadata": {},
   "outputs": [
    {
     "name": "stdout",
     "output_type": "stream",
     "text": [
      "KruskalResult(statistic=5017.7060662040785, pvalue=0.0)\n"
     ]
    }
   ],
   "source": [
    "p = stats.kruskal(Ba,Co,Hi)\n",
    "print(p)"
   ]
  },
  {
   "cell_type": "markdown",
   "metadata": {},
   "source": [
    "p-value < 0.05 reject H0, Number of Policies can be significant in predicting CLV"
   ]
  },
  {
   "cell_type": "code",
   "execution_count": 90,
   "metadata": {},
   "outputs": [],
   "source": [
    "Ba=df[df['Policy Type']=='Personal Auto']['CLV']\n",
    "Co=df[df['Policy Type']=='Corporate Auto']['CLV']\n",
    "Hi=df[df['Policy Type']=='Special Auto']['CLV']"
   ]
  },
  {
   "cell_type": "code",
   "execution_count": 91,
   "metadata": {},
   "outputs": [
    {
     "name": "stdout",
     "output_type": "stream",
     "text": [
      "KruskalResult(statistic=4.6074986354931795, pvalue=0.0998836452694168)\n"
     ]
    }
   ],
   "source": [
    "i = stats.kruskal(Ba,Co,Hi)\n",
    "print(i)"
   ]
  },
  {
   "cell_type": "markdown",
   "metadata": {},
   "source": [
    "p-value > 0.05 failed to reject H0, Policy Type may not be significant in predicting CLV"
   ]
  },
  {
   "cell_type": "code",
   "execution_count": 92,
   "metadata": {},
   "outputs": [],
   "source": [
    "Ba=df[df['Policy']=='Personal L3']['CLV']\n",
    "Co=df[df['Policy']=='Personal L2']['CLV']\n",
    "Hi=df[df['Policy']=='Personal L1']['CLV']\n",
    "Ma=df[df['Policy']=='Corporate L3']['CLV']\n",
    "Da=df[df['Policy']=='Corporate L2']['CLV']\n",
    "Ca=df[df['Policy']=='Corporate L1']['CLV']\n",
    "s1=df[df['Policy']=='Special L2']['CLV']\n",
    "s2=df[df['Policy']=='Special L3']['CLV']\n",
    "s3=df[df['Policy']=='Special L1']['CLV']"
   ]
  },
  {
   "cell_type": "code",
   "execution_count": 93,
   "metadata": {},
   "outputs": [
    {
     "name": "stdout",
     "output_type": "stream",
     "text": [
      "KruskalResult(statistic=7.944351884462466, pvalue=0.4389248352544014)\n"
     ]
    }
   ],
   "source": [
    "j =stats.kruskal(Ba,Co,Hi,Ma,Da,Ca,s1,s2,s3)\n",
    "print(j)"
   ]
  },
  {
   "cell_type": "markdown",
   "metadata": {},
   "source": [
    "p-value > 0.05 failed to reject H0, Policy may not be significant in predicting CLV"
   ]
  },
  {
   "cell_type": "code",
   "execution_count": 94,
   "metadata": {},
   "outputs": [],
   "source": [
    "Ba=df[df['Renew Offer Type']=='Offer1']['CLV']\n",
    "Co=df[df['Renew Offer Type']=='Offer2']['CLV']\n",
    "Hi=df[df['Renew Offer Type']=='Offer3']['CLV']\n",
    "Ma=df[df['Renew Offer Type']=='Offer4']['CLV']"
   ]
  },
  {
   "cell_type": "code",
   "execution_count": 95,
   "metadata": {},
   "outputs": [
    {
     "name": "stdout",
     "output_type": "stream",
     "text": [
      "KruskalResult(statistic=168.90219457792458, pvalue=2.196144881912684e-36)\n"
     ]
    }
   ],
   "source": [
    "k =stats.kruskal(Ba,Co,Hi,Ma)\n",
    "print(k)"
   ]
  },
  {
   "cell_type": "markdown",
   "metadata": {},
   "source": [
    "p-value < 0.05 reject H0, Number of Policies can be significant in predicting CLV"
   ]
  },
  {
   "cell_type": "code",
   "execution_count": 96,
   "metadata": {},
   "outputs": [],
   "source": [
    "Ba=df[df['Sales Channel']=='Agent']['CLV']\n",
    "Co=df[df['Sales Channel']=='Branch']['CLV']\n",
    "Hi=df[df['Sales Channel']=='Call Center']['CLV']\n",
    "Ma=df[df['Sales Channel']=='Web']['CLV']"
   ]
  },
  {
   "cell_type": "code",
   "execution_count": 97,
   "metadata": {},
   "outputs": [
    {
     "name": "stdout",
     "output_type": "stream",
     "text": [
      "KruskalResult(statistic=4.491751501229693, pvalue=0.2130272157209903)\n"
     ]
    }
   ],
   "source": [
    "l = stats.kruskal(Ba,Co,Hi,Ma)\n",
    "print(l)"
   ]
  },
  {
   "cell_type": "markdown",
   "metadata": {},
   "source": [
    "p-value > 0.05 failed to reject H0, Sales Channel may not be significant in predicting CLV"
   ]
  },
  {
   "cell_type": "code",
   "execution_count": 98,
   "metadata": {},
   "outputs": [],
   "source": [
    "Ba=df[df['Vehicle Class']=='Four-Door Car']['CLV']\n",
    "Co=df[df['Vehicle Class']=='Two-Door Car']['CLV']\n",
    "Hi=df[df['Vehicle Class']=='SUV']['CLV']\n",
    "Ma=df[df['Vehicle Class']=='Sports Car']['CLV']\n",
    "Da=df[df['Vehicle Class']=='Luxury SUV']['CLV']\n",
    "Ca=df[df['Vehicle Class']=='Luxury Car']['CLV']"
   ]
  },
  {
   "cell_type": "code",
   "execution_count": 99,
   "metadata": {},
   "outputs": [
    {
     "name": "stdout",
     "output_type": "stream",
     "text": [
      "KruskalResult(statistic=1310.5494960284416, pvalue=3.309676344717952e-281)\n"
     ]
    }
   ],
   "source": [
    "m = stats.kruskal(Ba,Co,Hi,Ma,Da,Ca)\n",
    "print(m)"
   ]
  },
  {
   "cell_type": "markdown",
   "metadata": {},
   "source": [
    "p-value < 0.05 reject H0, Vehicle Class can be significant in predicting CLV"
   ]
  },
  {
   "cell_type": "code",
   "execution_count": 100,
   "metadata": {},
   "outputs": [],
   "source": [
    "Ba=df[df['Vehicle Size']=='Medsize']['CLV']\n",
    "Co=df[df['Vehicle Size']=='Small']['CLV']\n",
    "Hi=df[df['Vehicle Size']=='Large']['CLV']"
   ]
  },
  {
   "cell_type": "code",
   "execution_count": 101,
   "metadata": {},
   "outputs": [
    {
     "name": "stdout",
     "output_type": "stream",
     "text": [
      "KruskalResult(statistic=9.564995661218877, pvalue=0.00837505335446059)\n"
     ]
    }
   ],
   "source": [
    "n =stats.kruskal(Ba,Co,Hi)\n",
    "print(n)"
   ]
  },
  {
   "cell_type": "markdown",
   "metadata": {},
   "source": [
    "p-value < 0.05 reject H0, Vehicle Class can be significant in predicting CLV"
   ]
  },
  {
   "cell_type": "code",
   "execution_count": 102,
   "metadata": {},
   "outputs": [
    {
     "data": {
      "text/plain": [
       "['Customer',\n",
       " 'State',\n",
       " 'Response',\n",
       " 'Coverage',\n",
       " 'Education',\n",
       " 'EmploymentStatus',\n",
       " 'Gender',\n",
       " 'Location Code',\n",
       " 'Marital Status',\n",
       " 'Policy Type',\n",
       " 'Policy',\n",
       " 'Renew Offer Type',\n",
       " 'Sales Channel',\n",
       " 'Vehicle Class',\n",
       " 'Vehicle Size',\n",
       " 'Number of Open Complaints',\n",
       " 'Number of Policies']"
      ]
     },
     "execution_count": 102,
     "metadata": {},
     "output_type": "execute_result"
    }
   ],
   "source": [
    "columns_cat"
   ]
  },
  {
   "cell_type": "code",
   "execution_count": 103,
   "metadata": {},
   "outputs": [],
   "source": [
    "cat_cols.drop(\"Customer\",axis=1,inplace=True)"
   ]
  },
  {
   "cell_type": "code",
   "execution_count": 104,
   "metadata": {},
   "outputs": [
    {
     "data": {
      "text/html": [
       "<div>\n",
       "<style scoped>\n",
       "    .dataframe tbody tr th:only-of-type {\n",
       "        vertical-align: middle;\n",
       "    }\n",
       "\n",
       "    .dataframe tbody tr th {\n",
       "        vertical-align: top;\n",
       "    }\n",
       "\n",
       "    .dataframe thead th {\n",
       "        text-align: right;\n",
       "    }\n",
       "</style>\n",
       "<table border=\"1\" class=\"dataframe\">\n",
       "  <thead>\n",
       "    <tr style=\"text-align: right;\">\n",
       "      <th></th>\n",
       "      <th>State</th>\n",
       "      <th>Response</th>\n",
       "      <th>Coverage</th>\n",
       "      <th>Education</th>\n",
       "      <th>EmploymentStatus</th>\n",
       "      <th>Gender</th>\n",
       "      <th>Location Code</th>\n",
       "      <th>Marital Status</th>\n",
       "      <th>Policy Type</th>\n",
       "      <th>Policy</th>\n",
       "      <th>Renew Offer Type</th>\n",
       "      <th>Sales Channel</th>\n",
       "      <th>Vehicle Class</th>\n",
       "      <th>Vehicle Size</th>\n",
       "      <th>Number of Open Complaints</th>\n",
       "      <th>Number of Policies</th>\n",
       "    </tr>\n",
       "  </thead>\n",
       "  <tbody>\n",
       "    <tr>\n",
       "      <td>0</td>\n",
       "      <td>Washington</td>\n",
       "      <td>No</td>\n",
       "      <td>Basic</td>\n",
       "      <td>Bachelor</td>\n",
       "      <td>Employed</td>\n",
       "      <td>F</td>\n",
       "      <td>Suburban</td>\n",
       "      <td>Married</td>\n",
       "      <td>Corporate Auto</td>\n",
       "      <td>Corporate L3</td>\n",
       "      <td>Offer1</td>\n",
       "      <td>Agent</td>\n",
       "      <td>Two-Door Car</td>\n",
       "      <td>Medsize</td>\n",
       "      <td>0</td>\n",
       "      <td>1</td>\n",
       "    </tr>\n",
       "    <tr>\n",
       "      <td>1</td>\n",
       "      <td>Arizona</td>\n",
       "      <td>No</td>\n",
       "      <td>Extended</td>\n",
       "      <td>Bachelor</td>\n",
       "      <td>Unemployed</td>\n",
       "      <td>F</td>\n",
       "      <td>Suburban</td>\n",
       "      <td>Single</td>\n",
       "      <td>Personal Auto</td>\n",
       "      <td>Personal L3</td>\n",
       "      <td>Offer3</td>\n",
       "      <td>Agent</td>\n",
       "      <td>Four-Door Car</td>\n",
       "      <td>Medsize</td>\n",
       "      <td>0</td>\n",
       "      <td>8</td>\n",
       "    </tr>\n",
       "    <tr>\n",
       "      <td>2</td>\n",
       "      <td>Nevada</td>\n",
       "      <td>No</td>\n",
       "      <td>Premium</td>\n",
       "      <td>Bachelor</td>\n",
       "      <td>Employed</td>\n",
       "      <td>F</td>\n",
       "      <td>Suburban</td>\n",
       "      <td>Married</td>\n",
       "      <td>Personal Auto</td>\n",
       "      <td>Personal L3</td>\n",
       "      <td>Offer1</td>\n",
       "      <td>Agent</td>\n",
       "      <td>Two-Door Car</td>\n",
       "      <td>Medsize</td>\n",
       "      <td>0</td>\n",
       "      <td>2</td>\n",
       "    </tr>\n",
       "    <tr>\n",
       "      <td>3</td>\n",
       "      <td>California</td>\n",
       "      <td>No</td>\n",
       "      <td>Basic</td>\n",
       "      <td>Bachelor</td>\n",
       "      <td>Unemployed</td>\n",
       "      <td>M</td>\n",
       "      <td>Suburban</td>\n",
       "      <td>Married</td>\n",
       "      <td>Corporate Auto</td>\n",
       "      <td>Corporate L2</td>\n",
       "      <td>Offer1</td>\n",
       "      <td>Call Center</td>\n",
       "      <td>SUV</td>\n",
       "      <td>Medsize</td>\n",
       "      <td>0</td>\n",
       "      <td>7</td>\n",
       "    </tr>\n",
       "    <tr>\n",
       "      <td>4</td>\n",
       "      <td>Washington</td>\n",
       "      <td>No</td>\n",
       "      <td>Basic</td>\n",
       "      <td>Bachelor</td>\n",
       "      <td>Employed</td>\n",
       "      <td>M</td>\n",
       "      <td>Rural</td>\n",
       "      <td>Single</td>\n",
       "      <td>Personal Auto</td>\n",
       "      <td>Personal L1</td>\n",
       "      <td>Offer1</td>\n",
       "      <td>Agent</td>\n",
       "      <td>Four-Door Car</td>\n",
       "      <td>Medsize</td>\n",
       "      <td>0</td>\n",
       "      <td>1</td>\n",
       "    </tr>\n",
       "    <tr>\n",
       "      <td>...</td>\n",
       "      <td>...</td>\n",
       "      <td>...</td>\n",
       "      <td>...</td>\n",
       "      <td>...</td>\n",
       "      <td>...</td>\n",
       "      <td>...</td>\n",
       "      <td>...</td>\n",
       "      <td>...</td>\n",
       "      <td>...</td>\n",
       "      <td>...</td>\n",
       "      <td>...</td>\n",
       "      <td>...</td>\n",
       "      <td>...</td>\n",
       "      <td>...</td>\n",
       "      <td>...</td>\n",
       "      <td>...</td>\n",
       "    </tr>\n",
       "    <tr>\n",
       "      <td>9129</td>\n",
       "      <td>California</td>\n",
       "      <td>No</td>\n",
       "      <td>Basic</td>\n",
       "      <td>Bachelor</td>\n",
       "      <td>Employed</td>\n",
       "      <td>M</td>\n",
       "      <td>Urban</td>\n",
       "      <td>Married</td>\n",
       "      <td>Personal Auto</td>\n",
       "      <td>Personal L1</td>\n",
       "      <td>Offer2</td>\n",
       "      <td>Web</td>\n",
       "      <td>Four-Door Car</td>\n",
       "      <td>Medsize</td>\n",
       "      <td>0</td>\n",
       "      <td>2</td>\n",
       "    </tr>\n",
       "    <tr>\n",
       "      <td>9130</td>\n",
       "      <td>California</td>\n",
       "      <td>Yes</td>\n",
       "      <td>Extended</td>\n",
       "      <td>College</td>\n",
       "      <td>Employed</td>\n",
       "      <td>F</td>\n",
       "      <td>Suburban</td>\n",
       "      <td>Divorced</td>\n",
       "      <td>Corporate Auto</td>\n",
       "      <td>Corporate L3</td>\n",
       "      <td>Offer1</td>\n",
       "      <td>Branch</td>\n",
       "      <td>Four-Door Car</td>\n",
       "      <td>Medsize</td>\n",
       "      <td>0</td>\n",
       "      <td>1</td>\n",
       "    </tr>\n",
       "    <tr>\n",
       "      <td>9131</td>\n",
       "      <td>California</td>\n",
       "      <td>No</td>\n",
       "      <td>Extended</td>\n",
       "      <td>Bachelor</td>\n",
       "      <td>Unemployed</td>\n",
       "      <td>M</td>\n",
       "      <td>Suburban</td>\n",
       "      <td>Single</td>\n",
       "      <td>Corporate Auto</td>\n",
       "      <td>Corporate L2</td>\n",
       "      <td>Offer1</td>\n",
       "      <td>Branch</td>\n",
       "      <td>Four-Door Car</td>\n",
       "      <td>Medsize</td>\n",
       "      <td>3</td>\n",
       "      <td>2</td>\n",
       "    </tr>\n",
       "    <tr>\n",
       "      <td>9132</td>\n",
       "      <td>California</td>\n",
       "      <td>No</td>\n",
       "      <td>Extended</td>\n",
       "      <td>College</td>\n",
       "      <td>Employed</td>\n",
       "      <td>M</td>\n",
       "      <td>Suburban</td>\n",
       "      <td>Married</td>\n",
       "      <td>Personal Auto</td>\n",
       "      <td>Personal L2</td>\n",
       "      <td>Offer3</td>\n",
       "      <td>Branch</td>\n",
       "      <td>Four-Door Car</td>\n",
       "      <td>Large</td>\n",
       "      <td>0</td>\n",
       "      <td>3</td>\n",
       "    </tr>\n",
       "    <tr>\n",
       "      <td>9133</td>\n",
       "      <td>California</td>\n",
       "      <td>No</td>\n",
       "      <td>Extended</td>\n",
       "      <td>College</td>\n",
       "      <td>Unemployed</td>\n",
       "      <td>M</td>\n",
       "      <td>Suburban</td>\n",
       "      <td>Single</td>\n",
       "      <td>Corporate Auto</td>\n",
       "      <td>Corporate L3</td>\n",
       "      <td>Offer4</td>\n",
       "      <td>Call Center</td>\n",
       "      <td>Two-Door Car</td>\n",
       "      <td>Medsize</td>\n",
       "      <td>0</td>\n",
       "      <td>1</td>\n",
       "    </tr>\n",
       "  </tbody>\n",
       "</table>\n",
       "<p>9134 rows × 16 columns</p>\n",
       "</div>"
      ],
      "text/plain": [
       "           State Response  Coverage Education EmploymentStatus Gender  \\\n",
       "0     Washington       No     Basic  Bachelor         Employed      F   \n",
       "1        Arizona       No  Extended  Bachelor       Unemployed      F   \n",
       "2         Nevada       No   Premium  Bachelor         Employed      F   \n",
       "3     California       No     Basic  Bachelor       Unemployed      M   \n",
       "4     Washington       No     Basic  Bachelor         Employed      M   \n",
       "...          ...      ...       ...       ...              ...    ...   \n",
       "9129  California       No     Basic  Bachelor         Employed      M   \n",
       "9130  California      Yes  Extended   College         Employed      F   \n",
       "9131  California       No  Extended  Bachelor       Unemployed      M   \n",
       "9132  California       No  Extended   College         Employed      M   \n",
       "9133  California       No  Extended   College       Unemployed      M   \n",
       "\n",
       "     Location Code Marital Status     Policy Type        Policy  \\\n",
       "0         Suburban        Married  Corporate Auto  Corporate L3   \n",
       "1         Suburban         Single   Personal Auto   Personal L3   \n",
       "2         Suburban        Married   Personal Auto   Personal L3   \n",
       "3         Suburban        Married  Corporate Auto  Corporate L2   \n",
       "4            Rural         Single   Personal Auto   Personal L1   \n",
       "...            ...            ...             ...           ...   \n",
       "9129         Urban        Married   Personal Auto   Personal L1   \n",
       "9130      Suburban       Divorced  Corporate Auto  Corporate L3   \n",
       "9131      Suburban         Single  Corporate Auto  Corporate L2   \n",
       "9132      Suburban        Married   Personal Auto   Personal L2   \n",
       "9133      Suburban         Single  Corporate Auto  Corporate L3   \n",
       "\n",
       "     Renew Offer Type Sales Channel  Vehicle Class Vehicle Size  \\\n",
       "0              Offer1         Agent   Two-Door Car      Medsize   \n",
       "1              Offer3         Agent  Four-Door Car      Medsize   \n",
       "2              Offer1         Agent   Two-Door Car      Medsize   \n",
       "3              Offer1   Call Center            SUV      Medsize   \n",
       "4              Offer1         Agent  Four-Door Car      Medsize   \n",
       "...               ...           ...            ...          ...   \n",
       "9129           Offer2           Web  Four-Door Car      Medsize   \n",
       "9130           Offer1        Branch  Four-Door Car      Medsize   \n",
       "9131           Offer1        Branch  Four-Door Car      Medsize   \n",
       "9132           Offer3        Branch  Four-Door Car        Large   \n",
       "9133           Offer4   Call Center   Two-Door Car      Medsize   \n",
       "\n",
       "      Number of Open Complaints  Number of Policies  \n",
       "0                             0                   1  \n",
       "1                             0                   8  \n",
       "2                             0                   2  \n",
       "3                             0                   7  \n",
       "4                             0                   1  \n",
       "...                         ...                 ...  \n",
       "9129                          0                   2  \n",
       "9130                          0                   1  \n",
       "9131                          3                   2  \n",
       "9132                          0                   3  \n",
       "9133                          0                   1  \n",
       "\n",
       "[9134 rows x 16 columns]"
      ]
     },
     "execution_count": 104,
     "metadata": {},
     "output_type": "execute_result"
    }
   ],
   "source": [
    "cat_cols"
   ]
  },
  {
   "cell_type": "code",
   "execution_count": 105,
   "metadata": {},
   "outputs": [],
   "source": [
    "p_values = [a[1],b[1],c[1],d[1],e[1],f[1],g[1],h[1],i[1],j[1],k[1],l[1],m[1],n[1],o[1],p[1]]"
   ]
  },
  {
   "cell_type": "code",
   "execution_count": 106,
   "metadata": {},
   "outputs": [
    {
     "data": {
      "text/plain": [
       "[0.27998232358818953,\n",
       " 0.24374651528224917,\n",
       " 7.648852917746348e-110,\n",
       " 0.015693004298603028,\n",
       " 1.2758458797542519e-08,\n",
       " 0.2584436122645599,\n",
       " 0.29173464205664124,\n",
       " 2.9009146434700455e-05,\n",
       " 0.0998836452694168,\n",
       " 0.4389248352544014,\n",
       " 2.196144881912684e-36,\n",
       " 0.2130272157209903,\n",
       " 3.309676344717952e-281,\n",
       " 0.00837505335446059,\n",
       " 2.1564409504417123e-05,\n",
       " 0.0]"
      ]
     },
     "execution_count": 106,
     "metadata": {},
     "output_type": "execute_result"
    }
   ],
   "source": [
    "p_values"
   ]
  },
  {
   "cell_type": "code",
   "execution_count": 107,
   "metadata": {},
   "outputs": [
    {
     "data": {
      "text/plain": [
       "16"
      ]
     },
     "execution_count": 107,
     "metadata": {},
     "output_type": "execute_result"
    }
   ],
   "source": [
    "len(p_values)"
   ]
  },
  {
   "cell_type": "code",
   "execution_count": 108,
   "metadata": {},
   "outputs": [
    {
     "data": {
      "text/plain": [
       "16"
      ]
     },
     "execution_count": 108,
     "metadata": {},
     "output_type": "execute_result"
    }
   ],
   "source": [
    "len(cat_cols.columns)"
   ]
  },
  {
   "cell_type": "code",
   "execution_count": 109,
   "metadata": {},
   "outputs": [
    {
     "data": {
      "text/html": [
       "<div>\n",
       "<style scoped>\n",
       "    .dataframe tbody tr th:only-of-type {\n",
       "        vertical-align: middle;\n",
       "    }\n",
       "\n",
       "    .dataframe tbody tr th {\n",
       "        vertical-align: top;\n",
       "    }\n",
       "\n",
       "    .dataframe thead th {\n",
       "        text-align: right;\n",
       "    }\n",
       "</style>\n",
       "<table border=\"1\" class=\"dataframe\">\n",
       "  <thead>\n",
       "    <tr style=\"text-align: right;\">\n",
       "      <th></th>\n",
       "      <th>P_Value</th>\n",
       "    </tr>\n",
       "  </thead>\n",
       "  <tbody>\n",
       "    <tr>\n",
       "      <td>State</td>\n",
       "      <td>2.799823e-01</td>\n",
       "    </tr>\n",
       "    <tr>\n",
       "      <td>Response</td>\n",
       "      <td>2.437465e-01</td>\n",
       "    </tr>\n",
       "    <tr>\n",
       "      <td>Coverage</td>\n",
       "      <td>7.648853e-110</td>\n",
       "    </tr>\n",
       "    <tr>\n",
       "      <td>Education</td>\n",
       "      <td>1.569300e-02</td>\n",
       "    </tr>\n",
       "    <tr>\n",
       "      <td>EmploymentStatus</td>\n",
       "      <td>1.275846e-08</td>\n",
       "    </tr>\n",
       "    <tr>\n",
       "      <td>Gender</td>\n",
       "      <td>2.584436e-01</td>\n",
       "    </tr>\n",
       "    <tr>\n",
       "      <td>Location Code</td>\n",
       "      <td>2.917346e-01</td>\n",
       "    </tr>\n",
       "    <tr>\n",
       "      <td>Marital Status</td>\n",
       "      <td>2.900915e-05</td>\n",
       "    </tr>\n",
       "    <tr>\n",
       "      <td>Policy Type</td>\n",
       "      <td>9.988365e-02</td>\n",
       "    </tr>\n",
       "    <tr>\n",
       "      <td>Policy</td>\n",
       "      <td>4.389248e-01</td>\n",
       "    </tr>\n",
       "    <tr>\n",
       "      <td>Renew Offer Type</td>\n",
       "      <td>2.196145e-36</td>\n",
       "    </tr>\n",
       "    <tr>\n",
       "      <td>Sales Channel</td>\n",
       "      <td>2.130272e-01</td>\n",
       "    </tr>\n",
       "    <tr>\n",
       "      <td>Vehicle Class</td>\n",
       "      <td>3.309676e-281</td>\n",
       "    </tr>\n",
       "    <tr>\n",
       "      <td>Vehicle Size</td>\n",
       "      <td>8.375053e-03</td>\n",
       "    </tr>\n",
       "    <tr>\n",
       "      <td>Number of Open Complaints</td>\n",
       "      <td>2.156441e-05</td>\n",
       "    </tr>\n",
       "    <tr>\n",
       "      <td>Number of Policies</td>\n",
       "      <td>0.000000e+00</td>\n",
       "    </tr>\n",
       "  </tbody>\n",
       "</table>\n",
       "</div>"
      ],
      "text/plain": [
       "                                 P_Value\n",
       "State                       2.799823e-01\n",
       "Response                    2.437465e-01\n",
       "Coverage                   7.648853e-110\n",
       "Education                   1.569300e-02\n",
       "EmploymentStatus            1.275846e-08\n",
       "Gender                      2.584436e-01\n",
       "Location Code               2.917346e-01\n",
       "Marital Status              2.900915e-05\n",
       "Policy Type                 9.988365e-02\n",
       "Policy                      4.389248e-01\n",
       "Renew Offer Type            2.196145e-36\n",
       "Sales Channel               2.130272e-01\n",
       "Vehicle Class              3.309676e-281\n",
       "Vehicle Size                8.375053e-03\n",
       "Number of Open Complaints   2.156441e-05\n",
       "Number of Policies          0.000000e+00"
      ]
     },
     "execution_count": 109,
     "metadata": {},
     "output_type": "execute_result"
    }
   ],
   "source": [
    "pd.DataFrame(p_values,index=(cat_cols.columns),columns=['P_Value'])"
   ]
  },
  {
   "cell_type": "markdown",
   "metadata": {},
   "source": [
    "Coverage,Education,EmploymentStatus,Marital Status, Renew Offer Type, Vehicle class, Vehicle class, Number of open complaints and No of Policies play a significant role in predicting the CLV"
   ]
  },
  {
   "cell_type": "code",
   "execution_count": 110,
   "metadata": {
    "scrolled": true
   },
   "outputs": [
    {
     "data": {
      "text/html": [
       "<div>\n",
       "<style scoped>\n",
       "    .dataframe tbody tr th:only-of-type {\n",
       "        vertical-align: middle;\n",
       "    }\n",
       "\n",
       "    .dataframe tbody tr th {\n",
       "        vertical-align: top;\n",
       "    }\n",
       "\n",
       "    .dataframe thead th {\n",
       "        text-align: right;\n",
       "    }\n",
       "</style>\n",
       "<table border=\"1\" class=\"dataframe\">\n",
       "  <thead>\n",
       "    <tr style=\"text-align: right;\">\n",
       "      <th></th>\n",
       "      <th>CLV</th>\n",
       "      <th>Income</th>\n",
       "      <th>Monthly Premium Auto</th>\n",
       "      <th>Months Since Last Claim</th>\n",
       "      <th>Months Since Policy Inception</th>\n",
       "      <th>Total Claim Amount</th>\n",
       "    </tr>\n",
       "  </thead>\n",
       "  <tbody>\n",
       "    <tr>\n",
       "      <td>0</td>\n",
       "      <td>2763.519279</td>\n",
       "      <td>56274</td>\n",
       "      <td>69</td>\n",
       "      <td>32</td>\n",
       "      <td>5</td>\n",
       "      <td>384.811147</td>\n",
       "    </tr>\n",
       "    <tr>\n",
       "      <td>1</td>\n",
       "      <td>6979.535903</td>\n",
       "      <td>0</td>\n",
       "      <td>94</td>\n",
       "      <td>13</td>\n",
       "      <td>42</td>\n",
       "      <td>1131.464935</td>\n",
       "    </tr>\n",
       "    <tr>\n",
       "      <td>2</td>\n",
       "      <td>12887.431650</td>\n",
       "      <td>48767</td>\n",
       "      <td>108</td>\n",
       "      <td>18</td>\n",
       "      <td>38</td>\n",
       "      <td>566.472247</td>\n",
       "    </tr>\n",
       "    <tr>\n",
       "      <td>3</td>\n",
       "      <td>7645.861827</td>\n",
       "      <td>0</td>\n",
       "      <td>106</td>\n",
       "      <td>18</td>\n",
       "      <td>65</td>\n",
       "      <td>529.881344</td>\n",
       "    </tr>\n",
       "    <tr>\n",
       "      <td>4</td>\n",
       "      <td>2813.692575</td>\n",
       "      <td>43836</td>\n",
       "      <td>73</td>\n",
       "      <td>12</td>\n",
       "      <td>44</td>\n",
       "      <td>138.130879</td>\n",
       "    </tr>\n",
       "  </tbody>\n",
       "</table>\n",
       "</div>"
      ],
      "text/plain": [
       "            CLV  Income  Monthly Premium Auto  Months Since Last Claim  \\\n",
       "0   2763.519279   56274                    69                       32   \n",
       "1   6979.535903       0                    94                       13   \n",
       "2  12887.431650   48767                   108                       18   \n",
       "3   7645.861827       0                   106                       18   \n",
       "4   2813.692575   43836                    73                       12   \n",
       "\n",
       "   Months Since Policy Inception  Total Claim Amount  \n",
       "0                              5          384.811147  \n",
       "1                             42         1131.464935  \n",
       "2                             38          566.472247  \n",
       "3                             65          529.881344  \n",
       "4                             44          138.130879  "
      ]
     },
     "execution_count": 110,
     "metadata": {},
     "output_type": "execute_result"
    }
   ],
   "source": [
    "numerical_cols.head()"
   ]
  },
  {
   "cell_type": "code",
   "execution_count": 111,
   "metadata": {},
   "outputs": [
    {
     "data": {
      "text/html": [
       "<div>\n",
       "<style scoped>\n",
       "    .dataframe tbody tr th:only-of-type {\n",
       "        vertical-align: middle;\n",
       "    }\n",
       "\n",
       "    .dataframe tbody tr th {\n",
       "        vertical-align: top;\n",
       "    }\n",
       "\n",
       "    .dataframe thead th {\n",
       "        text-align: right;\n",
       "    }\n",
       "</style>\n",
       "<table border=\"1\" class=\"dataframe\">\n",
       "  <thead>\n",
       "    <tr style=\"text-align: right;\">\n",
       "      <th></th>\n",
       "      <th>State</th>\n",
       "      <th>Response</th>\n",
       "      <th>Coverage</th>\n",
       "      <th>Education</th>\n",
       "      <th>EmploymentStatus</th>\n",
       "      <th>Gender</th>\n",
       "      <th>Location Code</th>\n",
       "      <th>Marital Status</th>\n",
       "      <th>Policy Type</th>\n",
       "      <th>Policy</th>\n",
       "      <th>Renew Offer Type</th>\n",
       "      <th>Sales Channel</th>\n",
       "      <th>Vehicle Class</th>\n",
       "      <th>Vehicle Size</th>\n",
       "      <th>Number of Open Complaints</th>\n",
       "      <th>Number of Policies</th>\n",
       "    </tr>\n",
       "  </thead>\n",
       "  <tbody>\n",
       "    <tr>\n",
       "      <td>0</td>\n",
       "      <td>Washington</td>\n",
       "      <td>No</td>\n",
       "      <td>Basic</td>\n",
       "      <td>Bachelor</td>\n",
       "      <td>Employed</td>\n",
       "      <td>F</td>\n",
       "      <td>Suburban</td>\n",
       "      <td>Married</td>\n",
       "      <td>Corporate Auto</td>\n",
       "      <td>Corporate L3</td>\n",
       "      <td>Offer1</td>\n",
       "      <td>Agent</td>\n",
       "      <td>Two-Door Car</td>\n",
       "      <td>Medsize</td>\n",
       "      <td>0</td>\n",
       "      <td>1</td>\n",
       "    </tr>\n",
       "    <tr>\n",
       "      <td>1</td>\n",
       "      <td>Arizona</td>\n",
       "      <td>No</td>\n",
       "      <td>Extended</td>\n",
       "      <td>Bachelor</td>\n",
       "      <td>Unemployed</td>\n",
       "      <td>F</td>\n",
       "      <td>Suburban</td>\n",
       "      <td>Single</td>\n",
       "      <td>Personal Auto</td>\n",
       "      <td>Personal L3</td>\n",
       "      <td>Offer3</td>\n",
       "      <td>Agent</td>\n",
       "      <td>Four-Door Car</td>\n",
       "      <td>Medsize</td>\n",
       "      <td>0</td>\n",
       "      <td>8</td>\n",
       "    </tr>\n",
       "    <tr>\n",
       "      <td>2</td>\n",
       "      <td>Nevada</td>\n",
       "      <td>No</td>\n",
       "      <td>Premium</td>\n",
       "      <td>Bachelor</td>\n",
       "      <td>Employed</td>\n",
       "      <td>F</td>\n",
       "      <td>Suburban</td>\n",
       "      <td>Married</td>\n",
       "      <td>Personal Auto</td>\n",
       "      <td>Personal L3</td>\n",
       "      <td>Offer1</td>\n",
       "      <td>Agent</td>\n",
       "      <td>Two-Door Car</td>\n",
       "      <td>Medsize</td>\n",
       "      <td>0</td>\n",
       "      <td>2</td>\n",
       "    </tr>\n",
       "    <tr>\n",
       "      <td>3</td>\n",
       "      <td>California</td>\n",
       "      <td>No</td>\n",
       "      <td>Basic</td>\n",
       "      <td>Bachelor</td>\n",
       "      <td>Unemployed</td>\n",
       "      <td>M</td>\n",
       "      <td>Suburban</td>\n",
       "      <td>Married</td>\n",
       "      <td>Corporate Auto</td>\n",
       "      <td>Corporate L2</td>\n",
       "      <td>Offer1</td>\n",
       "      <td>Call Center</td>\n",
       "      <td>SUV</td>\n",
       "      <td>Medsize</td>\n",
       "      <td>0</td>\n",
       "      <td>7</td>\n",
       "    </tr>\n",
       "    <tr>\n",
       "      <td>4</td>\n",
       "      <td>Washington</td>\n",
       "      <td>No</td>\n",
       "      <td>Basic</td>\n",
       "      <td>Bachelor</td>\n",
       "      <td>Employed</td>\n",
       "      <td>M</td>\n",
       "      <td>Rural</td>\n",
       "      <td>Single</td>\n",
       "      <td>Personal Auto</td>\n",
       "      <td>Personal L1</td>\n",
       "      <td>Offer1</td>\n",
       "      <td>Agent</td>\n",
       "      <td>Four-Door Car</td>\n",
       "      <td>Medsize</td>\n",
       "      <td>0</td>\n",
       "      <td>1</td>\n",
       "    </tr>\n",
       "  </tbody>\n",
       "</table>\n",
       "</div>"
      ],
      "text/plain": [
       "        State Response  Coverage Education EmploymentStatus Gender  \\\n",
       "0  Washington       No     Basic  Bachelor         Employed      F   \n",
       "1     Arizona       No  Extended  Bachelor       Unemployed      F   \n",
       "2      Nevada       No   Premium  Bachelor         Employed      F   \n",
       "3  California       No     Basic  Bachelor       Unemployed      M   \n",
       "4  Washington       No     Basic  Bachelor         Employed      M   \n",
       "\n",
       "  Location Code Marital Status     Policy Type        Policy Renew Offer Type  \\\n",
       "0      Suburban        Married  Corporate Auto  Corporate L3           Offer1   \n",
       "1      Suburban         Single   Personal Auto   Personal L3           Offer3   \n",
       "2      Suburban        Married   Personal Auto   Personal L3           Offer1   \n",
       "3      Suburban        Married  Corporate Auto  Corporate L2           Offer1   \n",
       "4         Rural         Single   Personal Auto   Personal L1           Offer1   \n",
       "\n",
       "  Sales Channel  Vehicle Class Vehicle Size  Number of Open Complaints  \\\n",
       "0         Agent   Two-Door Car      Medsize                          0   \n",
       "1         Agent  Four-Door Car      Medsize                          0   \n",
       "2         Agent   Two-Door Car      Medsize                          0   \n",
       "3   Call Center            SUV      Medsize                          0   \n",
       "4         Agent  Four-Door Car      Medsize                          0   \n",
       "\n",
       "   Number of Policies  \n",
       "0                   1  \n",
       "1                   8  \n",
       "2                   2  \n",
       "3                   7  \n",
       "4                   1  "
      ]
     },
     "execution_count": 111,
     "metadata": {},
     "output_type": "execute_result"
    }
   ],
   "source": [
    "cat_cols.head()"
   ]
  },
  {
   "cell_type": "code",
   "execution_count": 112,
   "metadata": {},
   "outputs": [],
   "source": [
    "import statsmodels.api as sm"
   ]
  },
  {
   "cell_type": "code",
   "execution_count": 113,
   "metadata": {},
   "outputs": [],
   "source": [
    "# X=numerical_cols.drop(['CLV'],axis=1)\n",
    "# y=numerical_cols['CLV']\n",
    "# lin_reg=sm.OLS(y,X).fit()\n",
    "# lin_reg.summary()  "
   ]
  },
  {
   "cell_type": "markdown",
   "metadata": {},
   "source": [
    "## Data Preprocessing"
   ]
  },
  {
   "cell_type": "code",
   "execution_count": 114,
   "metadata": {},
   "outputs": [
    {
     "data": {
      "text/html": [
       "<div>\n",
       "<style scoped>\n",
       "    .dataframe tbody tr th:only-of-type {\n",
       "        vertical-align: middle;\n",
       "    }\n",
       "\n",
       "    .dataframe tbody tr th {\n",
       "        vertical-align: top;\n",
       "    }\n",
       "\n",
       "    .dataframe thead th {\n",
       "        text-align: right;\n",
       "    }\n",
       "</style>\n",
       "<table border=\"1\" class=\"dataframe\">\n",
       "  <thead>\n",
       "    <tr style=\"text-align: right;\">\n",
       "      <th></th>\n",
       "      <th>State</th>\n",
       "      <th>Response</th>\n",
       "      <th>Coverage</th>\n",
       "      <th>Education</th>\n",
       "      <th>EmploymentStatus</th>\n",
       "      <th>Gender</th>\n",
       "      <th>Location Code</th>\n",
       "      <th>Marital Status</th>\n",
       "      <th>Policy Type</th>\n",
       "      <th>Policy</th>\n",
       "      <th>Renew Offer Type</th>\n",
       "      <th>Sales Channel</th>\n",
       "      <th>Vehicle Class</th>\n",
       "      <th>Vehicle Size</th>\n",
       "      <th>Number of Open Complaints</th>\n",
       "      <th>Number of Policies</th>\n",
       "    </tr>\n",
       "  </thead>\n",
       "  <tbody>\n",
       "    <tr>\n",
       "      <td>0</td>\n",
       "      <td>Washington</td>\n",
       "      <td>No</td>\n",
       "      <td>Basic</td>\n",
       "      <td>Bachelor</td>\n",
       "      <td>Employed</td>\n",
       "      <td>F</td>\n",
       "      <td>Suburban</td>\n",
       "      <td>Married</td>\n",
       "      <td>Corporate Auto</td>\n",
       "      <td>Corporate L3</td>\n",
       "      <td>Offer1</td>\n",
       "      <td>Agent</td>\n",
       "      <td>Two-Door Car</td>\n",
       "      <td>Medsize</td>\n",
       "      <td>0</td>\n",
       "      <td>1</td>\n",
       "    </tr>\n",
       "    <tr>\n",
       "      <td>1</td>\n",
       "      <td>Arizona</td>\n",
       "      <td>No</td>\n",
       "      <td>Extended</td>\n",
       "      <td>Bachelor</td>\n",
       "      <td>Unemployed</td>\n",
       "      <td>F</td>\n",
       "      <td>Suburban</td>\n",
       "      <td>Single</td>\n",
       "      <td>Personal Auto</td>\n",
       "      <td>Personal L3</td>\n",
       "      <td>Offer3</td>\n",
       "      <td>Agent</td>\n",
       "      <td>Four-Door Car</td>\n",
       "      <td>Medsize</td>\n",
       "      <td>0</td>\n",
       "      <td>8</td>\n",
       "    </tr>\n",
       "    <tr>\n",
       "      <td>2</td>\n",
       "      <td>Nevada</td>\n",
       "      <td>No</td>\n",
       "      <td>Premium</td>\n",
       "      <td>Bachelor</td>\n",
       "      <td>Employed</td>\n",
       "      <td>F</td>\n",
       "      <td>Suburban</td>\n",
       "      <td>Married</td>\n",
       "      <td>Personal Auto</td>\n",
       "      <td>Personal L3</td>\n",
       "      <td>Offer1</td>\n",
       "      <td>Agent</td>\n",
       "      <td>Two-Door Car</td>\n",
       "      <td>Medsize</td>\n",
       "      <td>0</td>\n",
       "      <td>2</td>\n",
       "    </tr>\n",
       "    <tr>\n",
       "      <td>3</td>\n",
       "      <td>California</td>\n",
       "      <td>No</td>\n",
       "      <td>Basic</td>\n",
       "      <td>Bachelor</td>\n",
       "      <td>Unemployed</td>\n",
       "      <td>M</td>\n",
       "      <td>Suburban</td>\n",
       "      <td>Married</td>\n",
       "      <td>Corporate Auto</td>\n",
       "      <td>Corporate L2</td>\n",
       "      <td>Offer1</td>\n",
       "      <td>Call Center</td>\n",
       "      <td>SUV</td>\n",
       "      <td>Medsize</td>\n",
       "      <td>0</td>\n",
       "      <td>7</td>\n",
       "    </tr>\n",
       "    <tr>\n",
       "      <td>4</td>\n",
       "      <td>Washington</td>\n",
       "      <td>No</td>\n",
       "      <td>Basic</td>\n",
       "      <td>Bachelor</td>\n",
       "      <td>Employed</td>\n",
       "      <td>M</td>\n",
       "      <td>Rural</td>\n",
       "      <td>Single</td>\n",
       "      <td>Personal Auto</td>\n",
       "      <td>Personal L1</td>\n",
       "      <td>Offer1</td>\n",
       "      <td>Agent</td>\n",
       "      <td>Four-Door Car</td>\n",
       "      <td>Medsize</td>\n",
       "      <td>0</td>\n",
       "      <td>1</td>\n",
       "    </tr>\n",
       "  </tbody>\n",
       "</table>\n",
       "</div>"
      ],
      "text/plain": [
       "        State Response  Coverage Education EmploymentStatus Gender  \\\n",
       "0  Washington       No     Basic  Bachelor         Employed      F   \n",
       "1     Arizona       No  Extended  Bachelor       Unemployed      F   \n",
       "2      Nevada       No   Premium  Bachelor         Employed      F   \n",
       "3  California       No     Basic  Bachelor       Unemployed      M   \n",
       "4  Washington       No     Basic  Bachelor         Employed      M   \n",
       "\n",
       "  Location Code Marital Status     Policy Type        Policy Renew Offer Type  \\\n",
       "0      Suburban        Married  Corporate Auto  Corporate L3           Offer1   \n",
       "1      Suburban         Single   Personal Auto   Personal L3           Offer3   \n",
       "2      Suburban        Married   Personal Auto   Personal L3           Offer1   \n",
       "3      Suburban        Married  Corporate Auto  Corporate L2           Offer1   \n",
       "4         Rural         Single   Personal Auto   Personal L1           Offer1   \n",
       "\n",
       "  Sales Channel  Vehicle Class Vehicle Size  Number of Open Complaints  \\\n",
       "0         Agent   Two-Door Car      Medsize                          0   \n",
       "1         Agent  Four-Door Car      Medsize                          0   \n",
       "2         Agent   Two-Door Car      Medsize                          0   \n",
       "3   Call Center            SUV      Medsize                          0   \n",
       "4         Agent  Four-Door Car      Medsize                          0   \n",
       "\n",
       "   Number of Policies  \n",
       "0                   1  \n",
       "1                   8  \n",
       "2                   2  \n",
       "3                   7  \n",
       "4                   1  "
      ]
     },
     "execution_count": 114,
     "metadata": {},
     "output_type": "execute_result"
    }
   ],
   "source": [
    "cat_cols.head()"
   ]
  },
  {
   "cell_type": "code",
   "execution_count": 115,
   "metadata": {},
   "outputs": [],
   "source": [
    "catg=pd.get_dummies(cat_cols,drop_first=True)"
   ]
  },
  {
   "cell_type": "code",
   "execution_count": 116,
   "metadata": {},
   "outputs": [
    {
     "data": {
      "text/html": [
       "<div>\n",
       "<style scoped>\n",
       "    .dataframe tbody tr th:only-of-type {\n",
       "        vertical-align: middle;\n",
       "    }\n",
       "\n",
       "    .dataframe tbody tr th {\n",
       "        vertical-align: top;\n",
       "    }\n",
       "\n",
       "    .dataframe thead th {\n",
       "        text-align: right;\n",
       "    }\n",
       "</style>\n",
       "<table border=\"1\" class=\"dataframe\">\n",
       "  <thead>\n",
       "    <tr style=\"text-align: right;\">\n",
       "      <th></th>\n",
       "      <th>CLV</th>\n",
       "      <th>Income</th>\n",
       "      <th>Monthly Premium Auto</th>\n",
       "      <th>Months Since Last Claim</th>\n",
       "      <th>Months Since Policy Inception</th>\n",
       "      <th>Total Claim Amount</th>\n",
       "    </tr>\n",
       "  </thead>\n",
       "  <tbody>\n",
       "    <tr>\n",
       "      <td>0</td>\n",
       "      <td>2763.519279</td>\n",
       "      <td>56274</td>\n",
       "      <td>69</td>\n",
       "      <td>32</td>\n",
       "      <td>5</td>\n",
       "      <td>384.811147</td>\n",
       "    </tr>\n",
       "    <tr>\n",
       "      <td>1</td>\n",
       "      <td>6979.535903</td>\n",
       "      <td>0</td>\n",
       "      <td>94</td>\n",
       "      <td>13</td>\n",
       "      <td>42</td>\n",
       "      <td>1131.464935</td>\n",
       "    </tr>\n",
       "    <tr>\n",
       "      <td>2</td>\n",
       "      <td>12887.431650</td>\n",
       "      <td>48767</td>\n",
       "      <td>108</td>\n",
       "      <td>18</td>\n",
       "      <td>38</td>\n",
       "      <td>566.472247</td>\n",
       "    </tr>\n",
       "    <tr>\n",
       "      <td>3</td>\n",
       "      <td>7645.861827</td>\n",
       "      <td>0</td>\n",
       "      <td>106</td>\n",
       "      <td>18</td>\n",
       "      <td>65</td>\n",
       "      <td>529.881344</td>\n",
       "    </tr>\n",
       "    <tr>\n",
       "      <td>4</td>\n",
       "      <td>2813.692575</td>\n",
       "      <td>43836</td>\n",
       "      <td>73</td>\n",
       "      <td>12</td>\n",
       "      <td>44</td>\n",
       "      <td>138.130879</td>\n",
       "    </tr>\n",
       "  </tbody>\n",
       "</table>\n",
       "</div>"
      ],
      "text/plain": [
       "            CLV  Income  Monthly Premium Auto  Months Since Last Claim  \\\n",
       "0   2763.519279   56274                    69                       32   \n",
       "1   6979.535903       0                    94                       13   \n",
       "2  12887.431650   48767                   108                       18   \n",
       "3   7645.861827       0                   106                       18   \n",
       "4   2813.692575   43836                    73                       12   \n",
       "\n",
       "   Months Since Policy Inception  Total Claim Amount  \n",
       "0                              5          384.811147  \n",
       "1                             42         1131.464935  \n",
       "2                             38          566.472247  \n",
       "3                             65          529.881344  \n",
       "4                             44          138.130879  "
      ]
     },
     "execution_count": 116,
     "metadata": {},
     "output_type": "execute_result"
    }
   ],
   "source": [
    "numerical_cols.head()"
   ]
  },
  {
   "cell_type": "code",
   "execution_count": 117,
   "metadata": {
    "scrolled": true
   },
   "outputs": [
    {
     "data": {
      "text/html": [
       "<div>\n",
       "<style scoped>\n",
       "    .dataframe tbody tr th:only-of-type {\n",
       "        vertical-align: middle;\n",
       "    }\n",
       "\n",
       "    .dataframe tbody tr th {\n",
       "        vertical-align: top;\n",
       "    }\n",
       "\n",
       "    .dataframe thead th {\n",
       "        text-align: right;\n",
       "    }\n",
       "</style>\n",
       "<table border=\"1\" class=\"dataframe\">\n",
       "  <thead>\n",
       "    <tr style=\"text-align: right;\">\n",
       "      <th></th>\n",
       "      <th>CLV</th>\n",
       "      <th>Income</th>\n",
       "      <th>Monthly Premium Auto</th>\n",
       "      <th>Months Since Last Claim</th>\n",
       "      <th>Months Since Policy Inception</th>\n",
       "      <th>Total Claim Amount</th>\n",
       "      <th>Number of Open Complaints</th>\n",
       "      <th>Number of Policies</th>\n",
       "      <th>State_California</th>\n",
       "      <th>State_Nevada</th>\n",
       "      <th>...</th>\n",
       "      <th>Sales Channel_Branch</th>\n",
       "      <th>Sales Channel_Call Center</th>\n",
       "      <th>Sales Channel_Web</th>\n",
       "      <th>Vehicle Class_Luxury Car</th>\n",
       "      <th>Vehicle Class_Luxury SUV</th>\n",
       "      <th>Vehicle Class_SUV</th>\n",
       "      <th>Vehicle Class_Sports Car</th>\n",
       "      <th>Vehicle Class_Two-Door Car</th>\n",
       "      <th>Vehicle Size_Medsize</th>\n",
       "      <th>Vehicle Size_Small</th>\n",
       "    </tr>\n",
       "  </thead>\n",
       "  <tbody>\n",
       "    <tr>\n",
       "      <td>0</td>\n",
       "      <td>2763.519279</td>\n",
       "      <td>56274</td>\n",
       "      <td>69</td>\n",
       "      <td>32</td>\n",
       "      <td>5</td>\n",
       "      <td>384.811147</td>\n",
       "      <td>0</td>\n",
       "      <td>1</td>\n",
       "      <td>0</td>\n",
       "      <td>0</td>\n",
       "      <td>...</td>\n",
       "      <td>0</td>\n",
       "      <td>0</td>\n",
       "      <td>0</td>\n",
       "      <td>0</td>\n",
       "      <td>0</td>\n",
       "      <td>0</td>\n",
       "      <td>0</td>\n",
       "      <td>1</td>\n",
       "      <td>1</td>\n",
       "      <td>0</td>\n",
       "    </tr>\n",
       "    <tr>\n",
       "      <td>1</td>\n",
       "      <td>6979.535903</td>\n",
       "      <td>0</td>\n",
       "      <td>94</td>\n",
       "      <td>13</td>\n",
       "      <td>42</td>\n",
       "      <td>1131.464935</td>\n",
       "      <td>0</td>\n",
       "      <td>8</td>\n",
       "      <td>0</td>\n",
       "      <td>0</td>\n",
       "      <td>...</td>\n",
       "      <td>0</td>\n",
       "      <td>0</td>\n",
       "      <td>0</td>\n",
       "      <td>0</td>\n",
       "      <td>0</td>\n",
       "      <td>0</td>\n",
       "      <td>0</td>\n",
       "      <td>0</td>\n",
       "      <td>1</td>\n",
       "      <td>0</td>\n",
       "    </tr>\n",
       "    <tr>\n",
       "      <td>2</td>\n",
       "      <td>12887.431650</td>\n",
       "      <td>48767</td>\n",
       "      <td>108</td>\n",
       "      <td>18</td>\n",
       "      <td>38</td>\n",
       "      <td>566.472247</td>\n",
       "      <td>0</td>\n",
       "      <td>2</td>\n",
       "      <td>0</td>\n",
       "      <td>1</td>\n",
       "      <td>...</td>\n",
       "      <td>0</td>\n",
       "      <td>0</td>\n",
       "      <td>0</td>\n",
       "      <td>0</td>\n",
       "      <td>0</td>\n",
       "      <td>0</td>\n",
       "      <td>0</td>\n",
       "      <td>1</td>\n",
       "      <td>1</td>\n",
       "      <td>0</td>\n",
       "    </tr>\n",
       "    <tr>\n",
       "      <td>3</td>\n",
       "      <td>7645.861827</td>\n",
       "      <td>0</td>\n",
       "      <td>106</td>\n",
       "      <td>18</td>\n",
       "      <td>65</td>\n",
       "      <td>529.881344</td>\n",
       "      <td>0</td>\n",
       "      <td>7</td>\n",
       "      <td>1</td>\n",
       "      <td>0</td>\n",
       "      <td>...</td>\n",
       "      <td>0</td>\n",
       "      <td>1</td>\n",
       "      <td>0</td>\n",
       "      <td>0</td>\n",
       "      <td>0</td>\n",
       "      <td>1</td>\n",
       "      <td>0</td>\n",
       "      <td>0</td>\n",
       "      <td>1</td>\n",
       "      <td>0</td>\n",
       "    </tr>\n",
       "    <tr>\n",
       "      <td>4</td>\n",
       "      <td>2813.692575</td>\n",
       "      <td>43836</td>\n",
       "      <td>73</td>\n",
       "      <td>12</td>\n",
       "      <td>44</td>\n",
       "      <td>138.130879</td>\n",
       "      <td>0</td>\n",
       "      <td>1</td>\n",
       "      <td>0</td>\n",
       "      <td>0</td>\n",
       "      <td>...</td>\n",
       "      <td>0</td>\n",
       "      <td>0</td>\n",
       "      <td>0</td>\n",
       "      <td>0</td>\n",
       "      <td>0</td>\n",
       "      <td>0</td>\n",
       "      <td>0</td>\n",
       "      <td>0</td>\n",
       "      <td>1</td>\n",
       "      <td>0</td>\n",
       "    </tr>\n",
       "  </tbody>\n",
       "</table>\n",
       "<p>5 rows × 51 columns</p>\n",
       "</div>"
      ],
      "text/plain": [
       "            CLV  Income  Monthly Premium Auto  Months Since Last Claim  \\\n",
       "0   2763.519279   56274                    69                       32   \n",
       "1   6979.535903       0                    94                       13   \n",
       "2  12887.431650   48767                   108                       18   \n",
       "3   7645.861827       0                   106                       18   \n",
       "4   2813.692575   43836                    73                       12   \n",
       "\n",
       "   Months Since Policy Inception  Total Claim Amount  \\\n",
       "0                              5          384.811147   \n",
       "1                             42         1131.464935   \n",
       "2                             38          566.472247   \n",
       "3                             65          529.881344   \n",
       "4                             44          138.130879   \n",
       "\n",
       "   Number of Open Complaints  Number of Policies  State_California  \\\n",
       "0                          0                   1                 0   \n",
       "1                          0                   8                 0   \n",
       "2                          0                   2                 0   \n",
       "3                          0                   7                 1   \n",
       "4                          0                   1                 0   \n",
       "\n",
       "   State_Nevada  ...  Sales Channel_Branch  Sales Channel_Call Center  \\\n",
       "0             0  ...                     0                          0   \n",
       "1             0  ...                     0                          0   \n",
       "2             1  ...                     0                          0   \n",
       "3             0  ...                     0                          1   \n",
       "4             0  ...                     0                          0   \n",
       "\n",
       "   Sales Channel_Web  Vehicle Class_Luxury Car  Vehicle Class_Luxury SUV  \\\n",
       "0                  0                         0                         0   \n",
       "1                  0                         0                         0   \n",
       "2                  0                         0                         0   \n",
       "3                  0                         0                         0   \n",
       "4                  0                         0                         0   \n",
       "\n",
       "   Vehicle Class_SUV  Vehicle Class_Sports Car  Vehicle Class_Two-Door Car  \\\n",
       "0                  0                         0                           1   \n",
       "1                  0                         0                           0   \n",
       "2                  0                         0                           1   \n",
       "3                  1                         0                           0   \n",
       "4                  0                         0                           0   \n",
       "\n",
       "   Vehicle Size_Medsize  Vehicle Size_Small  \n",
       "0                     1                   0  \n",
       "1                     1                   0  \n",
       "2                     1                   0  \n",
       "3                     1                   0  \n",
       "4                     1                   0  \n",
       "\n",
       "[5 rows x 51 columns]"
      ]
     },
     "execution_count": 117,
     "metadata": {},
     "output_type": "execute_result"
    }
   ],
   "source": [
    "dfn = pd.concat([numerical_cols,catg],axis=1)\n",
    "dfn.head()"
   ]
  },
  {
   "cell_type": "markdown",
   "metadata": {},
   "source": [
    "## OLS Model"
   ]
  },
  {
   "cell_type": "code",
   "execution_count": 118,
   "metadata": {},
   "outputs": [],
   "source": [
    "dfn.rename(columns={'CLV':'CLV'},inplace=True)"
   ]
  },
  {
   "cell_type": "code",
   "execution_count": 119,
   "metadata": {},
   "outputs": [
    {
     "name": "stderr",
     "output_type": "stream",
     "text": [
      "C:\\Users\\Nantha\\Anaconda3\\lib\\site-packages\\numpy\\core\\fromnumeric.py:2389: FutureWarning: Method .ptp is deprecated and will be removed in a future version. Use numpy.ptp instead.\n",
      "  return ptp(axis=axis, out=out, **kwargs)\n"
     ]
    },
    {
     "data": {
      "text/html": [
       "<table class=\"simpletable\">\n",
       "<caption>OLS Regression Results</caption>\n",
       "<tr>\n",
       "  <th>Dep. Variable:</th>           <td>CLV</td>       <th>  R-squared:         </th> <td>   0.169</td> \n",
       "</tr>\n",
       "<tr>\n",
       "  <th>Model:</th>                   <td>OLS</td>       <th>  Adj. R-squared:    </th> <td>   0.165</td> \n",
       "</tr>\n",
       "<tr>\n",
       "  <th>Method:</th>             <td>Least Squares</td>  <th>  F-statistic:       </th> <td>   38.60</td> \n",
       "</tr>\n",
       "<tr>\n",
       "  <th>Date:</th>             <td>Sun, 26 Jul 2020</td> <th>  Prob (F-statistic):</th> <td>6.92e-323</td>\n",
       "</tr>\n",
       "<tr>\n",
       "  <th>Time:</th>                 <td>12:46:54</td>     <th>  Log-Likelihood:    </th> <td> -92812.</td> \n",
       "</tr>\n",
       "<tr>\n",
       "  <th>No. Observations:</th>      <td>  9134</td>      <th>  AIC:               </th> <td>1.857e+05</td>\n",
       "</tr>\n",
       "<tr>\n",
       "  <th>Df Residuals:</th>          <td>  9085</td>      <th>  BIC:               </th> <td>1.861e+05</td>\n",
       "</tr>\n",
       "<tr>\n",
       "  <th>Df Model:</th>              <td>    48</td>      <th>                     </th>     <td> </td>    \n",
       "</tr>\n",
       "<tr>\n",
       "  <th>Covariance Type:</th>      <td>nonrobust</td>    <th>                     </th>     <td> </td>    \n",
       "</tr>\n",
       "</table>\n",
       "<table class=\"simpletable\">\n",
       "<tr>\n",
       "                 <td></td>                   <th>coef</th>     <th>std err</th>      <th>t</th>      <th>P>|t|</th>  <th>[0.025</th>    <th>0.975]</th>  \n",
       "</tr>\n",
       "<tr>\n",
       "  <th>const</th>                          <td> 1486.6386</td> <td>  903.661</td> <td>    1.645</td> <td> 0.100</td> <td> -284.740</td> <td> 3258.017</td>\n",
       "</tr>\n",
       "<tr>\n",
       "  <th>Income</th>                         <td>   -0.0012</td> <td>    0.004</td> <td>   -0.307</td> <td> 0.759</td> <td>   -0.009</td> <td>    0.006</td>\n",
       "</tr>\n",
       "<tr>\n",
       "  <th>Monthly Premium Auto</th>           <td>   69.5779</td> <td>   10.026</td> <td>    6.940</td> <td> 0.000</td> <td>   49.926</td> <td>   89.230</td>\n",
       "</tr>\n",
       "<tr>\n",
       "  <th>Months Since Last Claim</th>        <td>    7.0626</td> <td>    6.554</td> <td>    1.078</td> <td> 0.281</td> <td>   -5.785</td> <td>   19.911</td>\n",
       "</tr>\n",
       "<tr>\n",
       "  <th>Months Since Policy Inception</th>  <td>   -1.3200</td> <td>    2.380</td> <td>   -0.555</td> <td> 0.579</td> <td>   -5.985</td> <td>    3.345</td>\n",
       "</tr>\n",
       "<tr>\n",
       "  <th>Total Claim Amount</th>             <td>   -0.2268</td> <td>    0.474</td> <td>   -0.478</td> <td> 0.632</td> <td>   -1.156</td> <td>    0.703</td>\n",
       "</tr>\n",
       "<tr>\n",
       "  <th>Number of Open Complaints</th>      <td> -264.2647</td> <td>   72.496</td> <td>   -3.645</td> <td> 0.000</td> <td> -406.373</td> <td> -122.157</td>\n",
       "</tr>\n",
       "<tr>\n",
       "  <th>Number of Policies</th>             <td>   57.7126</td> <td>   27.753</td> <td>    2.080</td> <td> 0.038</td> <td>    3.311</td> <td>  112.114</td>\n",
       "</tr>\n",
       "<tr>\n",
       "  <th>State_California</th>               <td>   39.9647</td> <td>  189.426</td> <td>    0.211</td> <td> 0.833</td> <td> -331.354</td> <td>  411.283</td>\n",
       "</tr>\n",
       "<tr>\n",
       "  <th>State_Nevada</th>                   <td>   45.7021</td> <td>  261.160</td> <td>    0.175</td> <td> 0.861</td> <td> -466.231</td> <td>  557.635</td>\n",
       "</tr>\n",
       "<tr>\n",
       "  <th>State_Oregon</th>                   <td>   84.9912</td> <td>  196.050</td> <td>    0.434</td> <td> 0.665</td> <td> -299.312</td> <td>  469.294</td>\n",
       "</tr>\n",
       "<tr>\n",
       "  <th>State_Washington</th>               <td>  164.3324</td> <td>  269.980</td> <td>    0.609</td> <td> 0.543</td> <td> -364.888</td> <td>  693.553</td>\n",
       "</tr>\n",
       "<tr>\n",
       "  <th>Response_Yes</th>                   <td> -215.9162</td> <td>  207.436</td> <td>   -1.041</td> <td> 0.298</td> <td> -622.538</td> <td>  190.705</td>\n",
       "</tr>\n",
       "<tr>\n",
       "  <th>Coverage_Extended</th>              <td>  130.1678</td> <td>  249.287</td> <td>    0.522</td> <td> 0.602</td> <td> -358.490</td> <td>  618.826</td>\n",
       "</tr>\n",
       "<tr>\n",
       "  <th>Coverage_Premium</th>               <td>   61.7491</td> <td>  527.605</td> <td>    0.117</td> <td> 0.907</td> <td> -972.476</td> <td> 1095.974</td>\n",
       "</tr>\n",
       "<tr>\n",
       "  <th>Education_College</th>              <td>   -1.5962</td> <td>  171.219</td> <td>   -0.009</td> <td> 0.993</td> <td> -337.225</td> <td>  334.032</td>\n",
       "</tr>\n",
       "<tr>\n",
       "  <th>Education_Doctor</th>               <td> -197.9744</td> <td>  362.976</td> <td>   -0.545</td> <td> 0.585</td> <td> -909.488</td> <td>  513.540</td>\n",
       "</tr>\n",
       "<tr>\n",
       "  <th>Education_High School or Below</th> <td>  388.9735</td> <td>  173.415</td> <td>    2.243</td> <td> 0.025</td> <td>   49.041</td> <td>  728.906</td>\n",
       "</tr>\n",
       "<tr>\n",
       "  <th>Education_Master</th>               <td>  157.9503</td> <td>  262.899</td> <td>    0.601</td> <td> 0.548</td> <td> -357.390</td> <td>  673.291</td>\n",
       "</tr>\n",
       "<tr>\n",
       "  <th>EmploymentStatus_Employed</th>      <td>  700.4418</td> <td>  354.477</td> <td>    1.976</td> <td> 0.048</td> <td>    5.587</td> <td> 1395.296</td>\n",
       "</tr>\n",
       "<tr>\n",
       "  <th>EmploymentStatus_Medical Leave</th> <td>  210.8226</td> <td>  436.143</td> <td>    0.483</td> <td> 0.629</td> <td> -644.116</td> <td> 1065.761</td>\n",
       "</tr>\n",
       "<tr>\n",
       "  <th>EmploymentStatus_Retired</th>       <td>   64.6393</td> <td>  502.732</td> <td>    0.129</td> <td> 0.898</td> <td> -920.829</td> <td> 1050.108</td>\n",
       "</tr>\n",
       "<tr>\n",
       "  <th>EmploymentStatus_Unemployed</th>    <td>    9.1563</td> <td>  357.613</td> <td>    0.026</td> <td> 0.980</td> <td> -691.846</td> <td>  710.158</td>\n",
       "</tr>\n",
       "<tr>\n",
       "  <th>Gender_M</th>                       <td> -143.5239</td> <td>  132.973</td> <td>   -1.079</td> <td> 0.280</td> <td> -404.181</td> <td>  117.133</td>\n",
       "</tr>\n",
       "<tr>\n",
       "  <th>Location Code_Suburban</th>         <td>  -73.7895</td> <td>  263.381</td> <td>   -0.280</td> <td> 0.779</td> <td> -590.076</td> <td>  442.497</td>\n",
       "</tr>\n",
       "<tr>\n",
       "  <th>Location Code_Urban</th>            <td>  128.8756</td> <td>  241.416</td> <td>    0.534</td> <td> 0.593</td> <td> -344.355</td> <td>  602.106</td>\n",
       "</tr>\n",
       "<tr>\n",
       "  <th>Marital Status_Married</th>         <td> -177.6388</td> <td>  194.800</td> <td>   -0.912</td> <td> 0.362</td> <td> -559.490</td> <td>  204.212</td>\n",
       "</tr>\n",
       "<tr>\n",
       "  <th>Marital Status_Single</th>          <td> -490.7108</td> <td>  225.714</td> <td>   -2.174</td> <td> 0.030</td> <td> -933.161</td> <td>  -48.260</td>\n",
       "</tr>\n",
       "<tr>\n",
       "  <th>Policy Type_Personal Auto</th>      <td> -305.6726</td> <td>  256.741</td> <td>   -1.191</td> <td> 0.234</td> <td> -808.943</td> <td>  197.598</td>\n",
       "</tr>\n",
       "<tr>\n",
       "  <th>Policy Type_Special Auto</th>       <td>  165.6132</td> <td>  362.670</td> <td>    0.457</td> <td> 0.648</td> <td> -545.301</td> <td>  876.527</td>\n",
       "</tr>\n",
       "<tr>\n",
       "  <th>Policy_Corporate L2</th>            <td>-1007.2895</td> <td>  420.508</td> <td>   -2.395</td> <td> 0.017</td> <td>-1831.581</td> <td> -182.998</td>\n",
       "</tr>\n",
       "<tr>\n",
       "  <th>Policy_Corporate L3</th>            <td> -668.9524</td> <td>  386.386</td> <td>   -1.731</td> <td> 0.083</td> <td>-1426.357</td> <td>   88.452</td>\n",
       "</tr>\n",
       "<tr>\n",
       "  <th>Policy_Personal L1</th>             <td> -161.3307</td> <td>  163.621</td> <td>   -0.986</td> <td> 0.324</td> <td> -482.065</td> <td>  159.404</td>\n",
       "</tr>\n",
       "<tr>\n",
       "  <th>Policy_Personal L2</th>             <td>   -6.5954</td> <td>  141.822</td> <td>   -0.047</td> <td> 0.963</td> <td> -284.598</td> <td>  271.408</td>\n",
       "</tr>\n",
       "<tr>\n",
       "  <th>Policy_Personal L3</th>             <td> -137.7465</td> <td>  128.664</td> <td>   -1.071</td> <td> 0.284</td> <td> -389.957</td> <td>  114.464</td>\n",
       "</tr>\n",
       "<tr>\n",
       "  <th>Policy_Special L1</th>              <td>   27.9113</td> <td>  613.988</td> <td>    0.045</td> <td> 0.964</td> <td>-1175.643</td> <td> 1231.465</td>\n",
       "</tr>\n",
       "<tr>\n",
       "  <th>Policy_Special L2</th>              <td> -334.1257</td> <td>  443.941</td> <td>   -0.753</td> <td> 0.452</td> <td>-1204.351</td> <td>  536.099</td>\n",
       "</tr>\n",
       "<tr>\n",
       "  <th>Policy_Special L3</th>              <td>  471.8275</td> <td>  458.306</td> <td>    1.030</td> <td> 0.303</td> <td> -426.556</td> <td> 1370.211</td>\n",
       "</tr>\n",
       "<tr>\n",
       "  <th>Renew Offer Type_Offer2</th>        <td> -965.7715</td> <td>  165.363</td> <td>   -5.840</td> <td> 0.000</td> <td>-1289.920</td> <td> -641.623</td>\n",
       "</tr>\n",
       "<tr>\n",
       "  <th>Renew Offer Type_Offer3</th>        <td> -535.2550</td> <td>  200.282</td> <td>   -2.673</td> <td> 0.008</td> <td> -927.853</td> <td> -142.657</td>\n",
       "</tr>\n",
       "<tr>\n",
       "  <th>Renew Offer Type_Offer4</th>        <td>-1196.6484</td> <td>  233.357</td> <td>   -5.128</td> <td> 0.000</td> <td>-1654.080</td> <td> -739.217</td>\n",
       "</tr>\n",
       "<tr>\n",
       "  <th>Sales Channel_Branch</th>           <td>  227.6845</td> <td>  164.822</td> <td>    1.381</td> <td> 0.167</td> <td>  -95.404</td> <td>  550.773</td>\n",
       "</tr>\n",
       "<tr>\n",
       "  <th>Sales Channel_Call Center</th>      <td>  350.0434</td> <td>  186.196</td> <td>    1.880</td> <td> 0.060</td> <td>  -14.942</td> <td>  715.029</td>\n",
       "</tr>\n",
       "<tr>\n",
       "  <th>Sales Channel_Web</th>              <td>   56.3085</td> <td>  206.103</td> <td>    0.273</td> <td> 0.785</td> <td> -347.701</td> <td>  460.318</td>\n",
       "</tr>\n",
       "<tr>\n",
       "  <th>Vehicle Class_Luxury Car</th>       <td> 1193.8204</td> <td> 1384.216</td> <td>    0.862</td> <td> 0.388</td> <td>-1519.555</td> <td> 3907.196</td>\n",
       "</tr>\n",
       "<tr>\n",
       "  <th>Vehicle Class_Luxury SUV</th>       <td> 1160.9889</td> <td> 1372.147</td> <td>    0.846</td> <td> 0.398</td> <td>-1528.728</td> <td> 3850.706</td>\n",
       "</tr>\n",
       "<tr>\n",
       "  <th>Vehicle Class_SUV</th>              <td>  790.4905</td> <td>  457.031</td> <td>    1.730</td> <td> 0.084</td> <td> -105.394</td> <td> 1686.375</td>\n",
       "</tr>\n",
       "<tr>\n",
       "  <th>Vehicle Class_Sports Car</th>       <td> 1020.0479</td> <td>  526.252</td> <td>    1.938</td> <td> 0.053</td> <td>  -11.524</td> <td> 2051.620</td>\n",
       "</tr>\n",
       "<tr>\n",
       "  <th>Vehicle Class_Two-Door Car</th>     <td>  110.3101</td> <td>  172.088</td> <td>    0.641</td> <td> 0.522</td> <td> -227.021</td> <td>  447.642</td>\n",
       "</tr>\n",
       "<tr>\n",
       "  <th>Vehicle Size_Medsize</th>           <td>  304.2439</td> <td>  219.734</td> <td>    1.385</td> <td> 0.166</td> <td> -126.483</td> <td>  734.971</td>\n",
       "</tr>\n",
       "<tr>\n",
       "  <th>Vehicle Size_Small</th>             <td>  438.6969</td> <td>  255.673</td> <td>    1.716</td> <td> 0.086</td> <td>  -62.480</td> <td>  939.874</td>\n",
       "</tr>\n",
       "</table>\n",
       "<table class=\"simpletable\">\n",
       "<tr>\n",
       "  <th>Omnibus:</th>       <td>5666.276</td> <th>  Durbin-Watson:     </th> <td>   1.995</td> \n",
       "</tr>\n",
       "<tr>\n",
       "  <th>Prob(Omnibus):</th>  <td> 0.000</td>  <th>  Jarque-Bera (JB):  </th> <td>65051.545</td>\n",
       "</tr>\n",
       "<tr>\n",
       "  <th>Skew:</th>           <td> 2.849</td>  <th>  Prob(JB):          </th> <td>    0.00</td> \n",
       "</tr>\n",
       "<tr>\n",
       "  <th>Kurtosis:</th>       <td>14.767</td>  <th>  Cond. No.          </th> <td>1.29e+16</td> \n",
       "</tr>\n",
       "</table><br/><br/>Warnings:<br/>[1] Standard Errors assume that the covariance matrix of the errors is correctly specified.<br/>[2] The smallest eigenvalue is 1.29e-19. This might indicate that there are<br/>strong multicollinearity problems or that the design matrix is singular."
      ],
      "text/plain": [
       "<class 'statsmodels.iolib.summary.Summary'>\n",
       "\"\"\"\n",
       "                            OLS Regression Results                            \n",
       "==============================================================================\n",
       "Dep. Variable:                    CLV   R-squared:                       0.169\n",
       "Model:                            OLS   Adj. R-squared:                  0.165\n",
       "Method:                 Least Squares   F-statistic:                     38.60\n",
       "Date:                Sun, 26 Jul 2020   Prob (F-statistic):          6.92e-323\n",
       "Time:                        12:46:54   Log-Likelihood:                -92812.\n",
       "No. Observations:                9134   AIC:                         1.857e+05\n",
       "Df Residuals:                    9085   BIC:                         1.861e+05\n",
       "Df Model:                          48                                         \n",
       "Covariance Type:            nonrobust                                         \n",
       "==================================================================================================\n",
       "                                     coef    std err          t      P>|t|      [0.025      0.975]\n",
       "--------------------------------------------------------------------------------------------------\n",
       "const                           1486.6386    903.661      1.645      0.100    -284.740    3258.017\n",
       "Income                            -0.0012      0.004     -0.307      0.759      -0.009       0.006\n",
       "Monthly Premium Auto              69.5779     10.026      6.940      0.000      49.926      89.230\n",
       "Months Since Last Claim            7.0626      6.554      1.078      0.281      -5.785      19.911\n",
       "Months Since Policy Inception     -1.3200      2.380     -0.555      0.579      -5.985       3.345\n",
       "Total Claim Amount                -0.2268      0.474     -0.478      0.632      -1.156       0.703\n",
       "Number of Open Complaints       -264.2647     72.496     -3.645      0.000    -406.373    -122.157\n",
       "Number of Policies                57.7126     27.753      2.080      0.038       3.311     112.114\n",
       "State_California                  39.9647    189.426      0.211      0.833    -331.354     411.283\n",
       "State_Nevada                      45.7021    261.160      0.175      0.861    -466.231     557.635\n",
       "State_Oregon                      84.9912    196.050      0.434      0.665    -299.312     469.294\n",
       "State_Washington                 164.3324    269.980      0.609      0.543    -364.888     693.553\n",
       "Response_Yes                    -215.9162    207.436     -1.041      0.298    -622.538     190.705\n",
       "Coverage_Extended                130.1678    249.287      0.522      0.602    -358.490     618.826\n",
       "Coverage_Premium                  61.7491    527.605      0.117      0.907    -972.476    1095.974\n",
       "Education_College                 -1.5962    171.219     -0.009      0.993    -337.225     334.032\n",
       "Education_Doctor                -197.9744    362.976     -0.545      0.585    -909.488     513.540\n",
       "Education_High School or Below   388.9735    173.415      2.243      0.025      49.041     728.906\n",
       "Education_Master                 157.9503    262.899      0.601      0.548    -357.390     673.291\n",
       "EmploymentStatus_Employed        700.4418    354.477      1.976      0.048       5.587    1395.296\n",
       "EmploymentStatus_Medical Leave   210.8226    436.143      0.483      0.629    -644.116    1065.761\n",
       "EmploymentStatus_Retired          64.6393    502.732      0.129      0.898    -920.829    1050.108\n",
       "EmploymentStatus_Unemployed        9.1563    357.613      0.026      0.980    -691.846     710.158\n",
       "Gender_M                        -143.5239    132.973     -1.079      0.280    -404.181     117.133\n",
       "Location Code_Suburban           -73.7895    263.381     -0.280      0.779    -590.076     442.497\n",
       "Location Code_Urban              128.8756    241.416      0.534      0.593    -344.355     602.106\n",
       "Marital Status_Married          -177.6388    194.800     -0.912      0.362    -559.490     204.212\n",
       "Marital Status_Single           -490.7108    225.714     -2.174      0.030    -933.161     -48.260\n",
       "Policy Type_Personal Auto       -305.6726    256.741     -1.191      0.234    -808.943     197.598\n",
       "Policy Type_Special Auto         165.6132    362.670      0.457      0.648    -545.301     876.527\n",
       "Policy_Corporate L2            -1007.2895    420.508     -2.395      0.017   -1831.581    -182.998\n",
       "Policy_Corporate L3             -668.9524    386.386     -1.731      0.083   -1426.357      88.452\n",
       "Policy_Personal L1              -161.3307    163.621     -0.986      0.324    -482.065     159.404\n",
       "Policy_Personal L2                -6.5954    141.822     -0.047      0.963    -284.598     271.408\n",
       "Policy_Personal L3              -137.7465    128.664     -1.071      0.284    -389.957     114.464\n",
       "Policy_Special L1                 27.9113    613.988      0.045      0.964   -1175.643    1231.465\n",
       "Policy_Special L2               -334.1257    443.941     -0.753      0.452   -1204.351     536.099\n",
       "Policy_Special L3                471.8275    458.306      1.030      0.303    -426.556    1370.211\n",
       "Renew Offer Type_Offer2         -965.7715    165.363     -5.840      0.000   -1289.920    -641.623\n",
       "Renew Offer Type_Offer3         -535.2550    200.282     -2.673      0.008    -927.853    -142.657\n",
       "Renew Offer Type_Offer4        -1196.6484    233.357     -5.128      0.000   -1654.080    -739.217\n",
       "Sales Channel_Branch             227.6845    164.822      1.381      0.167     -95.404     550.773\n",
       "Sales Channel_Call Center        350.0434    186.196      1.880      0.060     -14.942     715.029\n",
       "Sales Channel_Web                 56.3085    206.103      0.273      0.785    -347.701     460.318\n",
       "Vehicle Class_Luxury Car        1193.8204   1384.216      0.862      0.388   -1519.555    3907.196\n",
       "Vehicle Class_Luxury SUV        1160.9889   1372.147      0.846      0.398   -1528.728    3850.706\n",
       "Vehicle Class_SUV                790.4905    457.031      1.730      0.084    -105.394    1686.375\n",
       "Vehicle Class_Sports Car        1020.0479    526.252      1.938      0.053     -11.524    2051.620\n",
       "Vehicle Class_Two-Door Car       110.3101    172.088      0.641      0.522    -227.021     447.642\n",
       "Vehicle Size_Medsize             304.2439    219.734      1.385      0.166    -126.483     734.971\n",
       "Vehicle Size_Small               438.6969    255.673      1.716      0.086     -62.480     939.874\n",
       "==============================================================================\n",
       "Omnibus:                     5666.276   Durbin-Watson:                   1.995\n",
       "Prob(Omnibus):                  0.000   Jarque-Bera (JB):            65051.545\n",
       "Skew:                           2.849   Prob(JB):                         0.00\n",
       "Kurtosis:                      14.767   Cond. No.                     1.29e+16\n",
       "==============================================================================\n",
       "\n",
       "Warnings:\n",
       "[1] Standard Errors assume that the covariance matrix of the errors is correctly specified.\n",
       "[2] The smallest eigenvalue is 1.29e-19. This might indicate that there are\n",
       "strong multicollinearity problems or that the design matrix is singular.\n",
       "\"\"\""
      ]
     },
     "execution_count": 119,
     "metadata": {},
     "output_type": "execute_result"
    }
   ],
   "source": [
    "X=dfn.drop(['CLV'],axis=1)\n",
    "y=dfn['CLV']\n",
    "X_constant=sm.add_constant(X)\n",
    "lin_reg=sm.OLS(y,X_constant).fit()\n",
    "lin_reg.summary()"
   ]
  },
  {
   "cell_type": "markdown",
   "metadata": {},
   "source": [
    "## Assumptions\n",
    "1. No autocorrelation\n",
    "2. Linearity of residuals\n",
    "3. Normality of error terms\n",
    "4. No Heteroscedacity\n",
    "5. No strong MultiCollinearity"
   ]
  },
  {
   "cell_type": "markdown",
   "metadata": {},
   "source": [
    "**Assumption 1 No Auto correlation.**\n",
    "\n",
    "Test needed : Durbin- Watson Test.\n",
    "\n",
    "It's value ranges from 0-4. If the value of Durbin- Watson is Between 0-2, it's known as Positive Autocorrelation.\n",
    "If the value ranges from 2-4, it is known as Negative autocorrelation.\n",
    "If the value is exactly 2, it means No Autocorrelation.\n",
    "For a good linear model, it should have low or no autocorrelation.\n",
    "we can see here the values of dublin watson test: 1.995 (No AUTO-CORRELATION)"
   ]
  },
  {
   "cell_type": "markdown",
   "metadata": {},
   "source": [
    "From the graph below, we can easily see that there is no autocorrelation."
   ]
  },
  {
   "cell_type": "code",
   "execution_count": 120,
   "metadata": {},
   "outputs": [
    {
     "name": "stderr",
     "output_type": "stream",
     "text": [
      "C:\\Users\\Nantha\\Anaconda3\\lib\\site-packages\\ipykernel_launcher.py:4: UserWarning: Matplotlib is currently using module://ipykernel.pylab.backend_inline, which is a non-GUI backend, so cannot show the figure.\n",
      "  after removing the cwd from sys.path.\n"
     ]
    },
    {
     "data": {
      "image/png": "[encoded data removed]",
      "text/plain": [
       "<Figure size 432x288 with 1 Axes>"
      ]
     },
     "metadata": {
      "needs_background": "light"
     },
     "output_type": "display_data"
    }
   ],
   "source": [
    "import statsmodels.tsa.api as smt #timeseries analysis\n",
    "\n",
    "acf = smt.graphics.plot_acf(lin_reg.resid, lags=40 , alpha=0.05)#auto_correlation value, lags= previous value\n",
    "acf.show()"
   ]
  },
  {
   "cell_type": "markdown",
   "metadata": {},
   "source": [
    "Assumption 2- Normality of Residuals\n",
    "2) The second assumption is the Normality of Residuals / Error terms.\n",
    "\n",
    "For this we prefer the Jarque Bera test. For a good model, the residuals should be normally distributed. The higher the value of Jarque Bera test , the lesser the residuals are normally distributed. We generally prefer a lower value of jarque bera test.\n",
    "\n",
    "The Jarque–Bera test is a goodness-of-fit test of whether sample data have the skewness and kurtosis matching a normal distribution. A large value for the jarque-bera test indicates non normality.\n",
    "\n",
    "The jarque bera test tests whether the sample data has the skewness and kurtosis matching a normal distribution. Note that this test generally works good for large enough number of data samples(>2000) as the test statistics asymptotically has a chi squared distribution with degrees 2 of freedom."
   ]
  },
  {
   "cell_type": "code",
   "execution_count": 121,
   "metadata": {},
   "outputs": [],
   "source": [
    "#H0: the error terms are normally distributed\n",
    "#dof for residuals is n-2"
   ]
  },
  {
   "cell_type": "code",
   "execution_count": 122,
   "metadata": {},
   "outputs": [
    {
     "name": "stdout",
     "output_type": "stream",
     "text": [
      "(65051.54524138234, 0.0)\n"
     ]
    }
   ],
   "source": [
    "from scipy import stats\n",
    "print(stats.jarque_bera(lin_reg.resid))"
   ]
  },
  {
   "cell_type": "markdown",
   "metadata": {},
   "source": [
    "The critical chi square value at the 5% level of significance is 5.99. If the computed value exceeds this value the null hypothesis is rejected.\n",
    "In this case the computed value of the JB statistic 65051.11 is greater than 5.99. Thus we reject the null hypothesis that the error terms are normally distributed."
   ]
  },
  {
   "cell_type": "code",
   "execution_count": 123,
   "metadata": {},
   "outputs": [
    {
     "data": {
      "image/png": "[encoded data removed]",
      "text/plain": [
       "<Figure size 432x288 with 1 Axes>"
      ]
     },
     "metadata": {
      "needs_background": "light"
     },
     "output_type": "display_data"
    }
   ],
   "source": [
    "import seaborn as sns\n",
    "\n",
    "sns.distplot(lin_reg.resid)\n",
    "plt.show()"
   ]
  },
  {
   "cell_type": "markdown",
   "metadata": {},
   "source": [
    "From the graph we infer that due to the high value of Jarque Bera test, only few residuals are normally distributed"
   ]
  },
  {
   "cell_type": "markdown",
   "metadata": {},
   "source": [
    "**Asssumption 3 - Linearity of residuals**\n",
    "\n",
    "Here we have 2 options. Either we can plot the observed values Vs predicted values and plot the Residual Vs predicted values and see the linearity of residuals. OR We can go for rainbow test. Let's look both of them one by one."
   ]
  },
  {
   "cell_type": "code",
   "execution_count": 124,
   "metadata": {},
   "outputs": [
    {
     "data": {
      "text/plain": [
       "(1.016497272996893, 0.2907128743692436)"
      ]
     },
     "execution_count": 124,
     "metadata": {},
     "output_type": "execute_result"
    }
   ],
   "source": [
    "import statsmodels.api as sm\n",
    "sm.stats.diagnostic.linear_rainbow(res=lin_reg, frac=0.5)#the fraction of the data to include in the center model"
   ]
  },
  {
   "cell_type": "markdown",
   "metadata": {},
   "source": [
    "H0:The data is linear, pvalue > 0.05 failed to reject H0, here we failed to reject H0 so residuals are normally distributed"
   ]
  },
  {
   "cell_type": "code",
   "execution_count": 125,
   "metadata": {},
   "outputs": [
    {
     "data": {
      "text/plain": [
       "1.6515374788500825e-09"
      ]
     },
     "execution_count": 125,
     "metadata": {},
     "output_type": "execute_result"
    }
   ],
   "source": [
    "lin_reg.resid.mean()"
   ]
  },
  {
   "cell_type": "markdown",
   "metadata": {},
   "source": [
    "Assumption 4 - Homoscedasticity_test(using goldfeld test) OR (Beusch-Wagon Test)\n",
    "Homoscedacity :: If the variance of the residuals are symmetrically distributed across the regression line , then the data is said to homoscedastic.\n",
    "\n",
    "Heteroscedacity :: If the variance is unequal for the residuals across the regression line, then the data is said to be heteroscedastic. In this case the residuals can form an arrow shape or any other non symmetrical shape.\n",
    "\n",
    "This test is based on the hytpothesis testing where null and alternate hypothesis are:\n",
    "𝐻0:𝜎𝑢𝑖 𝑖𝑠 𝑐𝑜𝑛𝑠𝑡𝑎𝑛𝑡 𝑎𝑐𝑟𝑜𝑠𝑠 𝑡ℎ𝑒 𝑟𝑎𝑛𝑔𝑒 𝑜𝑓 𝑑𝑎𝑡𝑎\n",
    "𝐻𝑎:𝜎𝑢𝑖 𝑖𝑠 𝑛𝑜𝑡 𝑐𝑜𝑛𝑠𝑡𝑎𝑛𝑡 𝑎𝑐𝑟𝑜𝑠𝑠 𝑡ℎ𝑒 𝑟𝑎𝑛𝑔𝑒 𝑜𝑓 𝑑𝑎𝑡𝑎\n",
    "The residuals should be homoscedastic.\n",
    "\n",
    "Goldfeld Test"
   ]
  },
  {
   "cell_type": "code",
   "execution_count": 126,
   "metadata": {},
   "outputs": [],
   "source": [
    "import statsmodels.stats.api as sms"
   ]
  },
  {
   "cell_type": "code",
   "execution_count": 127,
   "metadata": {},
   "outputs": [
    {
     "data": {
      "text/plain": [
       "(1.2289680194898225, 2.216740369946362e-12, 'increasing')"
      ]
     },
     "execution_count": 127,
     "metadata": {},
     "output_type": "execute_result"
    }
   ],
   "source": [
    "name=['F-statistic','p-value']\n",
    "test=sms.het_goldfeldquandt(lin_reg.resid,lin_reg.model.exog)\n",
    "\n",
    "test"
   ]
  },
  {
   "cell_type": "markdown",
   "metadata": {},
   "source": [
    " p-value below a certain level (like 0.05) indicates we should reject the null in favor of heteroscedasticity."
   ]
  },
  {
   "cell_type": "markdown",
   "metadata": {},
   "source": [
    "**Assumption 5- NO MULTI COLLINEARITY**"
   ]
  },
  {
   "cell_type": "markdown",
   "metadata": {},
   "source": [
    "The interpretation of VIF is as follows: the square root of a given variable’s VIF shows how much larger the standard error is, compared with what it would be if that predictor were uncorrelated with the other features in the model. If no features are correlated, then all values for VIF will be 1."
   ]
  },
  {
   "cell_type": "code",
   "execution_count": 128,
   "metadata": {},
   "outputs": [
    {
     "name": "stderr",
     "output_type": "stream",
     "text": [
      "C:\\Users\\Nantha\\Anaconda3\\lib\\site-packages\\statsmodels\\stats\\outliers_influence.py:185: RuntimeWarning: divide by zero encountered in double_scalars\n",
      "  vif = 1. / (1. - r_squared_i)\n"
     ]
    },
    {
     "data": {
      "text/html": [
       "<div>\n",
       "<style scoped>\n",
       "    .dataframe tbody tr th:only-of-type {\n",
       "        vertical-align: middle;\n",
       "    }\n",
       "\n",
       "    .dataframe tbody tr th {\n",
       "        vertical-align: top;\n",
       "    }\n",
       "\n",
       "    .dataframe thead th {\n",
       "        text-align: right;\n",
       "    }\n",
       "</style>\n",
       "<table border=\"1\" class=\"dataframe\">\n",
       "  <thead>\n",
       "    <tr style=\"text-align: right;\">\n",
       "      <th></th>\n",
       "      <th>vif</th>\n",
       "    </tr>\n",
       "  </thead>\n",
       "  <tbody>\n",
       "    <tr>\n",
       "      <td>Income</td>\n",
       "      <td>3.183923</td>\n",
       "    </tr>\n",
       "    <tr>\n",
       "      <td>Monthly Premium Auto</td>\n",
       "      <td>27.569851</td>\n",
       "    </tr>\n",
       "    <tr>\n",
       "      <td>Months Since Last Claim</td>\n",
       "      <td>1.009934</td>\n",
       "    </tr>\n",
       "    <tr>\n",
       "      <td>Months Since Policy Inception</td>\n",
       "      <td>1.022048</td>\n",
       "    </tr>\n",
       "    <tr>\n",
       "      <td>Total Claim Amount</td>\n",
       "      <td>4.396905</td>\n",
       "    </tr>\n",
       "    <tr>\n",
       "      <td>Number of Open Complaints</td>\n",
       "      <td>1.009196</td>\n",
       "    </tr>\n",
       "    <tr>\n",
       "      <td>Number of Policies</td>\n",
       "      <td>1.019460</td>\n",
       "    </tr>\n",
       "    <tr>\n",
       "      <td>State_California</td>\n",
       "      <td>1.878492</td>\n",
       "    </tr>\n",
       "    <tr>\n",
       "      <td>State_Nevada</td>\n",
       "      <td>1.378696</td>\n",
       "    </tr>\n",
       "    <tr>\n",
       "      <td>State_Oregon</td>\n",
       "      <td>1.813907</td>\n",
       "    </tr>\n",
       "    <tr>\n",
       "      <td>State_Washington</td>\n",
       "      <td>1.346631</td>\n",
       "    </tr>\n",
       "    <tr>\n",
       "      <td>Response_Yes</td>\n",
       "      <td>1.223327</td>\n",
       "    </tr>\n",
       "    <tr>\n",
       "      <td>Coverage_Extended</td>\n",
       "      <td>3.025019</td>\n",
       "    </tr>\n",
       "    <tr>\n",
       "      <td>Coverage_Premium</td>\n",
       "      <td>5.293859</td>\n",
       "    </tr>\n",
       "    <tr>\n",
       "      <td>Education_College</td>\n",
       "      <td>1.408609</td>\n",
       "    </tr>\n",
       "    <tr>\n",
       "      <td>Education_Doctor</td>\n",
       "      <td>1.100259</td>\n",
       "    </tr>\n",
       "    <tr>\n",
       "      <td>Education_High School or Below</td>\n",
       "      <td>1.426087</td>\n",
       "    </tr>\n",
       "    <tr>\n",
       "      <td>Education_Master</td>\n",
       "      <td>1.193819</td>\n",
       "    </tr>\n",
       "    <tr>\n",
       "      <td>EmploymentStatus_Employed</td>\n",
       "      <td>6.832471</td>\n",
       "    </tr>\n",
       "    <tr>\n",
       "      <td>EmploymentStatus_Medical Leave</td>\n",
       "      <td>1.986035</td>\n",
       "    </tr>\n",
       "    <tr>\n",
       "      <td>EmploymentStatus_Retired</td>\n",
       "      <td>1.752228</td>\n",
       "    </tr>\n",
       "    <tr>\n",
       "      <td>EmploymentStatus_Unemployed</td>\n",
       "      <td>5.610118</td>\n",
       "    </tr>\n",
       "    <tr>\n",
       "      <td>Gender_M</td>\n",
       "      <td>1.023864</td>\n",
       "    </tr>\n",
       "    <tr>\n",
       "      <td>Location Code_Suburban</td>\n",
       "      <td>3.735429</td>\n",
       "    </tr>\n",
       "    <tr>\n",
       "      <td>Location Code_Urban</td>\n",
       "      <td>1.933874</td>\n",
       "    </tr>\n",
       "    <tr>\n",
       "      <td>Marital Status_Married</td>\n",
       "      <td>2.141867</td>\n",
       "    </tr>\n",
       "    <tr>\n",
       "      <td>Marital Status_Single</td>\n",
       "      <td>2.327253</td>\n",
       "    </tr>\n",
       "    <tr>\n",
       "      <td>Policy Type_Personal Auto</td>\n",
       "      <td>inf</td>\n",
       "    </tr>\n",
       "    <tr>\n",
       "      <td>Policy Type_Special Auto</td>\n",
       "      <td>inf</td>\n",
       "    </tr>\n",
       "    <tr>\n",
       "      <td>Policy_Corporate L2</td>\n",
       "      <td>2.495167</td>\n",
       "    </tr>\n",
       "    <tr>\n",
       "      <td>Policy_Corporate L3</td>\n",
       "      <td>3.414004</td>\n",
       "    </tr>\n",
       "    <tr>\n",
       "      <td>Policy_Personal L1</td>\n",
       "      <td>inf</td>\n",
       "    </tr>\n",
       "    <tr>\n",
       "      <td>Policy_Personal L2</td>\n",
       "      <td>inf</td>\n",
       "    </tr>\n",
       "    <tr>\n",
       "      <td>Policy_Personal L3</td>\n",
       "      <td>inf</td>\n",
       "    </tr>\n",
       "    <tr>\n",
       "      <td>Policy_Special L1</td>\n",
       "      <td>inf</td>\n",
       "    </tr>\n",
       "    <tr>\n",
       "      <td>Policy_Special L2</td>\n",
       "      <td>inf</td>\n",
       "    </tr>\n",
       "    <tr>\n",
       "      <td>Policy_Special L3</td>\n",
       "      <td>inf</td>\n",
       "    </tr>\n",
       "    <tr>\n",
       "      <td>Renew Offer Type_Offer2</td>\n",
       "      <td>1.379520</td>\n",
       "    </tr>\n",
       "    <tr>\n",
       "      <td>Renew Offer Type_Offer3</td>\n",
       "      <td>1.228733</td>\n",
       "    </tr>\n",
       "    <tr>\n",
       "      <td>Renew Offer Type_Offer4</td>\n",
       "      <td>1.255994</td>\n",
       "    </tr>\n",
       "    <tr>\n",
       "      <td>Sales Channel_Branch</td>\n",
       "      <td>1.271889</td>\n",
       "    </tr>\n",
       "    <tr>\n",
       "      <td>Sales Channel_Call Center</td>\n",
       "      <td>1.252330</td>\n",
       "    </tr>\n",
       "    <tr>\n",
       "      <td>Sales Channel_Web</td>\n",
       "      <td>1.220698</td>\n",
       "    </tr>\n",
       "    <tr>\n",
       "      <td>Vehicle Class_Luxury Car</td>\n",
       "      <td>7.781484</td>\n",
       "    </tr>\n",
       "    <tr>\n",
       "      <td>Vehicle Class_Luxury SUV</td>\n",
       "      <td>8.611290</td>\n",
       "    </tr>\n",
       "    <tr>\n",
       "      <td>Vehicle Class_SUV</td>\n",
       "      <td>7.645435</td>\n",
       "    </tr>\n",
       "    <tr>\n",
       "      <td>Vehicle Class_Sports Car</td>\n",
       "      <td>3.220140</td>\n",
       "    </tr>\n",
       "    <tr>\n",
       "      <td>Vehicle Class_Two-Door Car</td>\n",
       "      <td>1.124315</td>\n",
       "    </tr>\n",
       "    <tr>\n",
       "      <td>Vehicle Size_Medsize</td>\n",
       "      <td>2.334500</td>\n",
       "    </tr>\n",
       "    <tr>\n",
       "      <td>Vehicle Size_Small</td>\n",
       "      <td>2.360275</td>\n",
       "    </tr>\n",
       "  </tbody>\n",
       "</table>\n",
       "</div>"
      ],
      "text/plain": [
       "                                      vif\n",
       "Income                           3.183923\n",
       "Monthly Premium Auto            27.569851\n",
       "Months Since Last Claim          1.009934\n",
       "Months Since Policy Inception    1.022048\n",
       "Total Claim Amount               4.396905\n",
       "Number of Open Complaints        1.009196\n",
       "Number of Policies               1.019460\n",
       "State_California                 1.878492\n",
       "State_Nevada                     1.378696\n",
       "State_Oregon                     1.813907\n",
       "State_Washington                 1.346631\n",
       "Response_Yes                     1.223327\n",
       "Coverage_Extended                3.025019\n",
       "Coverage_Premium                 5.293859\n",
       "Education_College                1.408609\n",
       "Education_Doctor                 1.100259\n",
       "Education_High School or Below   1.426087\n",
       "Education_Master                 1.193819\n",
       "EmploymentStatus_Employed        6.832471\n",
       "EmploymentStatus_Medical Leave   1.986035\n",
       "EmploymentStatus_Retired         1.752228\n",
       "EmploymentStatus_Unemployed      5.610118\n",
       "Gender_M                         1.023864\n",
       "Location Code_Suburban           3.735429\n",
       "Location Code_Urban              1.933874\n",
       "Marital Status_Married           2.141867\n",
       "Marital Status_Single            2.327253\n",
       "Policy Type_Personal Auto             inf\n",
       "Policy Type_Special Auto              inf\n",
       "Policy_Corporate L2              2.495167\n",
       "Policy_Corporate L3              3.414004\n",
       "Policy_Personal L1                    inf\n",
       "Policy_Personal L2                    inf\n",
       "Policy_Personal L3                    inf\n",
       "Policy_Special L1                     inf\n",
       "Policy_Special L2                     inf\n",
       "Policy_Special L3                     inf\n",
       "Renew Offer Type_Offer2          1.379520\n",
       "Renew Offer Type_Offer3          1.228733\n",
       "Renew Offer Type_Offer4          1.255994\n",
       "Sales Channel_Branch             1.271889\n",
       "Sales Channel_Call Center        1.252330\n",
       "Sales Channel_Web                1.220698\n",
       "Vehicle Class_Luxury Car         7.781484\n",
       "Vehicle Class_Luxury SUV         8.611290\n",
       "Vehicle Class_SUV                7.645435\n",
       "Vehicle Class_Sports Car         3.220140\n",
       "Vehicle Class_Two-Door Car       1.124315\n",
       "Vehicle Size_Medsize             2.334500\n",
       "Vehicle Size_Small               2.360275"
      ]
     },
     "execution_count": 128,
     "metadata": {},
     "output_type": "execute_result"
    }
   ],
   "source": [
    "from statsmodels.stats.outliers_influence import variance_inflation_factor\n",
    "vif = [variance_inflation_factor(X_constant.values, i) for i in range(X_constant.shape[1])]\n",
    "pd.DataFrame({'vif': vif[1:]}, index=X.columns)"
   ]
  },
  {
   "cell_type": "markdown",
   "metadata": {},
   "source": [
    "we can see that there is high VIF in column Policy & policy type\n",
    "Also we have seen in statistical approach these veriables are not significant to predict target\n",
    "hence from above 2 conclusion we can remove them"
   ]
  },
  {
   "cell_type": "code",
   "execution_count": 129,
   "metadata": {},
   "outputs": [],
   "source": [
    "from sklearn.model_selection import train_test_split\n",
    "X=dfn.drop(['CLV','Policy Type_Personal Auto','Policy Type_Special Auto','Policy_Personal L1','Policy_Personal L2','Policy_Personal L3',\n",
    "'Policy_Special L1','Policy_Special L2','Policy_Special L3'],axis=1)\n",
    "y=dfn['CLV']          \n",
    "y =np.log(y)\n",
    "X_train,X_test,y_train,y_test=train_test_split(X,y,test_size=0.30,random_state=42)"
   ]
  },
  {
   "cell_type": "code",
   "execution_count": 130,
   "metadata": {},
   "outputs": [],
   "source": [
    "numerical_cols.rename(columns={'CLV':'CLV'},inplace=True)"
   ]
  },
  {
   "cell_type": "code",
   "execution_count": 131,
   "metadata": {},
   "outputs": [
    {
     "name": "stdout",
     "output_type": "stream",
     "text": [
      "(6393, 42)\n",
      "(6393,)\n",
      "(2741, 42)\n",
      "(2741,)\n"
     ]
    }
   ],
   "source": [
    "print(X_train.shape)\n",
    "print(y_train.shape)\n",
    "print(X_test.shape)\n",
    "print(y_test.shape)"
   ]
  },
  {
   "cell_type": "markdown",
   "metadata": {},
   "source": [
    "## Model Building"
   ]
  },
  {
   "cell_type": "markdown",
   "metadata": {},
   "source": [
    "## Linear Regression"
   ]
  },
  {
   "cell_type": "code",
   "execution_count": 132,
   "metadata": {},
   "outputs": [],
   "source": [
    "from sklearn.linear_model import LinearRegression"
   ]
  },
  {
   "cell_type": "code",
   "execution_count": 133,
   "metadata": {},
   "outputs": [
    {
     "name": "stdout",
     "output_type": "stream",
     "text": [
      "R^2 score for train: 0.26073373730563176\n",
      "R^2 score for test: 0.2548416026499797\n"
     ]
    }
   ],
   "source": [
    "lr = LinearRegression()\n",
    "model = lr.fit(X_train,y_train)\n",
    "print(f'R^2 score for train: {lr.score(X_train, y_train)}')\n",
    "print(f'R^2 score for test: {lr.score(X_test, y_test)}')"
   ]
  },
  {
   "cell_type": "code",
   "execution_count": 134,
   "metadata": {},
   "outputs": [],
   "source": [
    "y_pred = model.predict(X_test)"
   ]
  },
  {
   "cell_type": "code",
   "execution_count": 135,
   "metadata": {},
   "outputs": [],
   "source": [
    "from sklearn.metrics import mean_squared_error,r2_score,mean_absolute_error"
   ]
  },
  {
   "cell_type": "code",
   "execution_count": 136,
   "metadata": {
    "scrolled": true
   },
   "outputs": [
    {
     "name": "stdout",
     "output_type": "stream",
     "text": [
      "RMSE: 0.5772314153487259\n",
      "MAE 0.44550332822708716\n",
      "R-squared: 0.2548416026499797\n"
     ]
    }
   ],
   "source": [
    "print('RMSE:',np.sqrt(mean_squared_error(y_test,y_pred)))\n",
    "print(\"MAE\",mean_absolute_error(y_test,y_pred))\n",
    "print('R-squared:',r2_score(y_test,y_pred)) "
   ]
  },
  {
   "cell_type": "code",
   "execution_count": 137,
   "metadata": {},
   "outputs": [
    {
     "name": "stderr",
     "output_type": "stream",
     "text": [
      "C:\\Users\\Nantha\\Anaconda3\\lib\\site-packages\\numpy\\core\\fromnumeric.py:2389: FutureWarning: Method .ptp is deprecated and will be removed in a future version. Use numpy.ptp instead.\n",
      "  return ptp(axis=axis, out=out, **kwargs)\n"
     ]
    },
    {
     "name": "stdout",
     "output_type": "stream",
     "text": [
      "['Monthly Premium Auto', 'Number of Open Complaints', 'Number of Policies', 'Coverage_Extended', 'Coverage_Premium', 'Education_High School or Below', 'EmploymentStatus_Employed', 'Marital Status_Single', 'Policy_Corporate L2', 'Renew Offer Type_Offer2', 'Renew Offer Type_Offer3', 'Renew Offer Type_Offer4', 'Vehicle Class_SUV', 'Vehicle Class_Sports Car']\n"
     ]
    }
   ],
   "source": [
    "#Feature Selection by Recursive Backward Elimination\n",
    "cols = list(X.columns)\n",
    "pmax = 1\n",
    "while (len(cols)>0):\n",
    "    p= []\n",
    "    X = X[cols]\n",
    "    Xc = sm.add_constant(X)\n",
    "    model = sm.OLS(y,Xc).fit()\n",
    "    p = pd.Series(model.pvalues.values[1:],index = cols)      \n",
    "    pmax = max(p)\n",
    "    feature_with_p_max = p.idxmax()\n",
    "    if(pmax>0.05):\n",
    "        cols.remove(feature_with_p_max)\n",
    "    else:\n",
    "        break\n",
    "selected_features = cols\n",
    "print(selected_features)"
   ]
  },
  {
   "cell_type": "code",
   "execution_count": 138,
   "metadata": {},
   "outputs": [],
   "source": [
    "X_new = X[['Monthly Premium Auto', 'Number of Open Complaints', 'Number of Policies', 'Coverage_Extended', 'Coverage_Premium', 'Education_High School or Below', 'EmploymentStatus_Employed', 'Marital Status_Single', 'Policy_Corporate L2', 'Renew Offer Type_Offer2', 'Renew Offer Type_Offer3', 'Renew Offer Type_Offer4', 'Vehicle Class_SUV', 'Vehicle Class_Sports Car']]"
   ]
  },
  {
   "cell_type": "code",
   "execution_count": 139,
   "metadata": {
    "scrolled": false
   },
   "outputs": [
    {
     "data": {
      "text/html": [
       "<table class=\"simpletable\">\n",
       "<caption>OLS Regression Results</caption>\n",
       "<tr>\n",
       "  <th>Dep. Variable:</th>           <td>CLV</td>       <th>  R-squared:         </th> <td>   0.259</td> \n",
       "</tr>\n",
       "<tr>\n",
       "  <th>Model:</th>                   <td>OLS</td>       <th>  Adj. R-squared:    </th> <td>   0.258</td> \n",
       "</tr>\n",
       "<tr>\n",
       "  <th>Method:</th>             <td>Least Squares</td>  <th>  F-statistic:       </th> <td>   228.2</td> \n",
       "</tr>\n",
       "<tr>\n",
       "  <th>Date:</th>             <td>Sun, 26 Jul 2020</td> <th>  Prob (F-statistic):</th>  <td>  0.00</td>  \n",
       "</tr>\n",
       "<tr>\n",
       "  <th>Time:</th>                 <td>12:47:01</td>     <th>  Log-Likelihood:    </th> <td> -7694.3</td> \n",
       "</tr>\n",
       "<tr>\n",
       "  <th>No. Observations:</th>      <td>  9134</td>      <th>  AIC:               </th> <td>1.542e+04</td>\n",
       "</tr>\n",
       "<tr>\n",
       "  <th>Df Residuals:</th>          <td>  9119</td>      <th>  BIC:               </th> <td>1.553e+04</td>\n",
       "</tr>\n",
       "<tr>\n",
       "  <th>Df Model:</th>              <td>    14</td>      <th>                     </th>     <td> </td>    \n",
       "</tr>\n",
       "<tr>\n",
       "  <th>Covariance Type:</th>      <td>nonrobust</td>    <th>                     </th>     <td> </td>    \n",
       "</tr>\n",
       "</table>\n",
       "<table class=\"simpletable\">\n",
       "<tr>\n",
       "                 <td></td>                   <th>coef</th>     <th>std err</th>      <th>t</th>      <th>P>|t|</th>  <th>[0.025</th>    <th>0.975]</th>  \n",
       "</tr>\n",
       "<tr>\n",
       "  <th>const</th>                          <td>    7.9001</td> <td>    0.024</td> <td>  333.289</td> <td> 0.000</td> <td>    7.854</td> <td>    7.947</td>\n",
       "</tr>\n",
       "<tr>\n",
       "  <th>Monthly Premium Auto</th>           <td>    0.0070</td> <td>    0.000</td> <td>   30.864</td> <td> 0.000</td> <td>    0.007</td> <td>    0.007</td>\n",
       "</tr>\n",
       "<tr>\n",
       "  <th>Number of Open Complaints</th>      <td>   -0.0317</td> <td>    0.006</td> <td>   -4.895</td> <td> 0.000</td> <td>   -0.044</td> <td>   -0.019</td>\n",
       "</tr>\n",
       "<tr>\n",
       "  <th>Number of Policies</th>             <td>    0.0529</td> <td>    0.002</td> <td>   21.385</td> <td> 0.000</td> <td>    0.048</td> <td>    0.058</td>\n",
       "</tr>\n",
       "<tr>\n",
       "  <th>Coverage_Extended</th>              <td>    0.0669</td> <td>    0.014</td> <td>    4.773</td> <td> 0.000</td> <td>    0.039</td> <td>    0.094</td>\n",
       "</tr>\n",
       "<tr>\n",
       "  <th>Coverage_Premium</th>               <td>    0.0898</td> <td>    0.024</td> <td>    3.729</td> <td> 0.000</td> <td>    0.043</td> <td>    0.137</td>\n",
       "</tr>\n",
       "<tr>\n",
       "  <th>Education_High School or Below</th> <td>    0.0336</td> <td>    0.013</td> <td>    2.567</td> <td> 0.010</td> <td>    0.008</td> <td>    0.059</td>\n",
       "</tr>\n",
       "<tr>\n",
       "  <th>EmploymentStatus_Employed</th>      <td>    0.0922</td> <td>    0.013</td> <td>    7.093</td> <td> 0.000</td> <td>    0.067</td> <td>    0.118</td>\n",
       "</tr>\n",
       "<tr>\n",
       "  <th>Marital Status_Single</th>          <td>   -0.0506</td> <td>    0.014</td> <td>   -3.622</td> <td> 0.000</td> <td>   -0.078</td> <td>   -0.023</td>\n",
       "</tr>\n",
       "<tr>\n",
       "  <th>Policy_Corporate L2</th>            <td>   -0.0548</td> <td>    0.024</td> <td>   -2.295</td> <td> 0.022</td> <td>   -0.102</td> <td>   -0.008</td>\n",
       "</tr>\n",
       "<tr>\n",
       "  <th>Renew Offer Type_Offer2</th>        <td>   -0.1199</td> <td>    0.014</td> <td>   -8.370</td> <td> 0.000</td> <td>   -0.148</td> <td>   -0.092</td>\n",
       "</tr>\n",
       "<tr>\n",
       "  <th>Renew Offer Type_Offer3</th>        <td>   -0.0602</td> <td>    0.018</td> <td>   -3.416</td> <td> 0.001</td> <td>   -0.095</td> <td>   -0.026</td>\n",
       "</tr>\n",
       "<tr>\n",
       "  <th>Renew Offer Type_Offer4</th>        <td>   -0.1327</td> <td>    0.020</td> <td>   -6.541</td> <td> 0.000</td> <td>   -0.172</td> <td>   -0.093</td>\n",
       "</tr>\n",
       "<tr>\n",
       "  <th>Vehicle Class_SUV</th>              <td>    0.1502</td> <td>    0.017</td> <td>    8.777</td> <td> 0.000</td> <td>    0.117</td> <td>    0.184</td>\n",
       "</tr>\n",
       "<tr>\n",
       "  <th>Vehicle Class_Sports Car</th>       <td>    0.1510</td> <td>    0.028</td> <td>    5.429</td> <td> 0.000</td> <td>    0.096</td> <td>    0.205</td>\n",
       "</tr>\n",
       "</table>\n",
       "<table class=\"simpletable\">\n",
       "<tr>\n",
       "  <th>Omnibus:</th>       <td>1476.101</td> <th>  Durbin-Watson:     </th> <td>   2.019</td>\n",
       "</tr>\n",
       "<tr>\n",
       "  <th>Prob(Omnibus):</th>  <td> 0.000</td>  <th>  Jarque-Bera (JB):  </th> <td>2293.969</td>\n",
       "</tr>\n",
       "<tr>\n",
       "  <th>Skew:</th>           <td> 1.163</td>  <th>  Prob(JB):          </th> <td>    0.00</td>\n",
       "</tr>\n",
       "<tr>\n",
       "  <th>Kurtosis:</th>       <td> 3.788</td>  <th>  Cond. No.          </th> <td>    516.</td>\n",
       "</tr>\n",
       "</table><br/><br/>Warnings:<br/>[1] Standard Errors assume that the covariance matrix of the errors is correctly specified."
      ],
      "text/plain": [
       "<class 'statsmodels.iolib.summary.Summary'>\n",
       "\"\"\"\n",
       "                            OLS Regression Results                            \n",
       "==============================================================================\n",
       "Dep. Variable:                    CLV   R-squared:                       0.259\n",
       "Model:                            OLS   Adj. R-squared:                  0.258\n",
       "Method:                 Least Squares   F-statistic:                     228.2\n",
       "Date:                Sun, 26 Jul 2020   Prob (F-statistic):               0.00\n",
       "Time:                        12:47:01   Log-Likelihood:                -7694.3\n",
       "No. Observations:                9134   AIC:                         1.542e+04\n",
       "Df Residuals:                    9119   BIC:                         1.553e+04\n",
       "Df Model:                          14                                         \n",
       "Covariance Type:            nonrobust                                         \n",
       "==================================================================================================\n",
       "                                     coef    std err          t      P>|t|      [0.025      0.975]\n",
       "--------------------------------------------------------------------------------------------------\n",
       "const                              7.9001      0.024    333.289      0.000       7.854       7.947\n",
       "Monthly Premium Auto               0.0070      0.000     30.864      0.000       0.007       0.007\n",
       "Number of Open Complaints         -0.0317      0.006     -4.895      0.000      -0.044      -0.019\n",
       "Number of Policies                 0.0529      0.002     21.385      0.000       0.048       0.058\n",
       "Coverage_Extended                  0.0669      0.014      4.773      0.000       0.039       0.094\n",
       "Coverage_Premium                   0.0898      0.024      3.729      0.000       0.043       0.137\n",
       "Education_High School or Below     0.0336      0.013      2.567      0.010       0.008       0.059\n",
       "EmploymentStatus_Employed          0.0922      0.013      7.093      0.000       0.067       0.118\n",
       "Marital Status_Single             -0.0506      0.014     -3.622      0.000      -0.078      -0.023\n",
       "Policy_Corporate L2               -0.0548      0.024     -2.295      0.022      -0.102      -0.008\n",
       "Renew Offer Type_Offer2           -0.1199      0.014     -8.370      0.000      -0.148      -0.092\n",
       "Renew Offer Type_Offer3           -0.0602      0.018     -3.416      0.001      -0.095      -0.026\n",
       "Renew Offer Type_Offer4           -0.1327      0.020     -6.541      0.000      -0.172      -0.093\n",
       "Vehicle Class_SUV                  0.1502      0.017      8.777      0.000       0.117       0.184\n",
       "Vehicle Class_Sports Car           0.1510      0.028      5.429      0.000       0.096       0.205\n",
       "==============================================================================\n",
       "Omnibus:                     1476.101   Durbin-Watson:                   2.019\n",
       "Prob(Omnibus):                  0.000   Jarque-Bera (JB):             2293.969\n",
       "Skew:                           1.163   Prob(JB):                         0.00\n",
       "Kurtosis:                       3.788   Cond. No.                         516.\n",
       "==============================================================================\n",
       "\n",
       "Warnings:\n",
       "[1] Standard Errors assume that the covariance matrix of the errors is correctly specified.\n",
       "\"\"\""
      ]
     },
     "execution_count": 139,
     "metadata": {},
     "output_type": "execute_result"
    }
   ],
   "source": [
    "X_constant_new=sm.add_constant(X_new)\n",
    "lin_reg=sm.OLS(y,X_constant_new).fit()\n",
    "lin_reg.summary()"
   ]
  },
  {
   "cell_type": "markdown",
   "metadata": {},
   "source": [
    "## Rigde and Lasso Regression"
   ]
  },
  {
   "cell_type": "code",
   "execution_count": 155,
   "metadata": {},
   "outputs": [],
   "source": [
    "from sklearn.linear_model import Ridge, Lasso"
   ]
  },
  {
   "cell_type": "code",
   "execution_count": 184,
   "metadata": {},
   "outputs": [
    {
     "name": "stdout",
     "output_type": "stream",
     "text": [
      "Ridge Regression\n",
      "RMSE: 0.5775916080118745\n",
      "R-squared: 0.25391135415166965\n"
     ]
    }
   ],
   "source": [
    "ridge=Ridge(alpha=0.1,normalize=True)\n",
    "ridge.fit(X_train,y_train)\n",
    "print('Ridge Regression')\n",
    "y_pred = ridge.predict(X_test)\n",
    "print('RMSE:', np.sqrt(mean_squared_error(y_test, y_pred)))\n",
    "print('R-squared:',r2_score(y_test,y_pred)) "
   ]
  },
  {
   "cell_type": "code",
   "execution_count": 185,
   "metadata": {},
   "outputs": [
    {
     "name": "stdout",
     "output_type": "stream",
     "text": [
      "Ridge Regression\n",
      "RMSE: 0.5925342452447083\n",
      "R-squared: 0.2148084953609085\n"
     ]
    }
   ],
   "source": [
    "ridge=Ridge(alpha=1.0,normalize=True)\n",
    "ridge.fit(X_train,y_train)\n",
    "print('Ridge Regression')\n",
    "y_pred = ridge.predict(X_test)\n",
    "print('RMSE:', np.sqrt(mean_squared_error(y_test, y_pred)))\n",
    "print('R-squared:',r2_score(y_test,y_pred)) "
   ]
  },
  {
   "cell_type": "code",
   "execution_count": 187,
   "metadata": {},
   "outputs": [
    {
     "name": "stdout",
     "output_type": "stream",
     "text": [
      "Ridge Regression\n",
      "RMSE: 0.5992937645386806\n",
      "R-squared: 0.19679167777854611\n"
     ]
    }
   ],
   "source": [
    "lasso = Lasso(random_state=1)\n",
    "lasso.fit(X_train,y_train)\n",
    "print('Ridge Regression')\n",
    "y_pred = lasso.predict(X_test)\n",
    "print('RMSE:', np.sqrt(mean_squared_error(y_test, y_pred)))\n",
    "print('R-squared:',r2_score(y_test,y_pred)) "
   ]
  },
  {
   "cell_type": "markdown",
   "metadata": {},
   "source": [
    "## Decision Tree"
   ]
  },
  {
   "cell_type": "code",
   "execution_count": 140,
   "metadata": {},
   "outputs": [],
   "source": [
    "from sklearn.tree import DecisionTreeRegressor"
   ]
  },
  {
   "cell_type": "code",
   "execution_count": 141,
   "metadata": {},
   "outputs": [
    {
     "name": "stdout",
     "output_type": "stream",
     "text": [
      "RMSE: 0.2668170587050659\n",
      "MAE 0.10536932394383777\n",
      "R-squared: 0.840787974934538\n"
     ]
    }
   ],
   "source": [
    "dt = DecisionTreeRegressor(random_state=1)\n",
    "\n",
    "dt.fit(X_train,y_train)\n",
    "y_pred=dt.predict(X_test)\n",
    "print('RMSE:',np.sqrt(mean_squared_error(y_test,y_pred)))\n",
    "print(\"MAE\",mean_absolute_error(y_test,y_pred))\n",
    "print('R-squared:',r2_score(y_test,y_pred)) "
   ]
  },
  {
   "cell_type": "code",
   "execution_count": 142,
   "metadata": {},
   "outputs": [],
   "source": [
    "from sklearn.model_selection import train_test_split\n",
    "X=dfn.drop(['CLV','Policy Type_Personal Auto','Policy Type_Special Auto','Policy_Personal L1','Policy_Personal L2','Policy_Personal L3',\n",
    "'Policy_Special L1','Policy_Special L2','Policy_Special L3'],axis=1)\n",
    "y=np.log(dfn['CLV'])         \n",
    "X_train,X_test,y_train,y_test=train_test_split(X,y,test_size=0.30,random_state=42)"
   ]
  },
  {
   "cell_type": "markdown",
   "metadata": {},
   "source": [
    "## RandomForest "
   ]
  },
  {
   "cell_type": "code",
   "execution_count": 143,
   "metadata": {},
   "outputs": [],
   "source": [
    "from sklearn.ensemble import RandomForestRegressor"
   ]
  },
  {
   "cell_type": "code",
   "execution_count": 144,
   "metadata": {
    "scrolled": true
   },
   "outputs": [
    {
     "name": "stderr",
     "output_type": "stream",
     "text": [
      "C:\\Users\\Nantha\\Anaconda3\\lib\\site-packages\\sklearn\\ensemble\\forest.py:245: FutureWarning: The default value of n_estimators will change from 10 in version 0.20 to 100 in 0.22.\n",
      "  \"10 in version 0.20 to 100 in 0.22.\", FutureWarning)\n"
     ]
    },
    {
     "name": "stdout",
     "output_type": "stream",
     "text": [
      "RMSE: 0.20470208884129074\n",
      "MAE 0.09209852499920933\n",
      "R-squared: 0.9062884264605481\n"
     ]
    }
   ],
   "source": [
    "rf = RandomForestRegressor(random_state=1)\n",
    "\n",
    "rf.fit(X_train,y_train)\n",
    "\n",
    "y_pred=rf.predict(X_test)\n",
    "print('RMSE:',np.sqrt(mean_squared_error(y_test,y_pred)))\n",
    "print(\"MAE\",mean_absolute_error(y_test,y_pred))\n",
    "print('R-squared:',r2_score(y_test,y_pred)) "
   ]
  },
  {
   "cell_type": "markdown",
   "metadata": {},
   "source": [
    "## Hyperparameter tuning of random forest"
   ]
  },
  {
   "cell_type": "code",
   "execution_count": 145,
   "metadata": {},
   "outputs": [
    {
     "data": {
      "text/plain": [
       "{'bootstrap': True,\n",
       " 'max_depth': 20,\n",
       " 'max_features': 'auto',\n",
       " 'n_estimators': 200}"
      ]
     },
     "execution_count": 145,
     "metadata": {},
     "output_type": "execute_result"
    }
   ],
   "source": [
    "from sklearn.model_selection import GridSearchCV\n",
    "rf = RandomForestRegressor()\n",
    "params = {\n",
    "        'max_depth' : [10,20,30],\n",
    "        \n",
    "        'n_estimators' : [100,200,50],\n",
    "        \n",
    "        \"bootstrap\" : [True, False],\n",
    "    \n",
    "        'max_features': ['auto', 'sqrt', 'log2']\n",
    "        \n",
    "        }\n",
    "\n",
    "grid = GridSearchCV(estimator = rf, param_grid=params, cv = 5, n_jobs = -1, return_train_score = True )\n",
    "grid.fit(X,y)\n",
    "grid.best_params_"
   ]
  },
  {
   "cell_type": "code",
   "execution_count": 146,
   "metadata": {},
   "outputs": [
    {
     "name": "stdout",
     "output_type": "stream",
     "text": [
      "RMSE: 0.1956057223726038\n",
      "MAE 0.08920096666544444\n",
      "R-squared: 0.9144319188492326\n"
     ]
    }
   ],
   "source": [
    "rf = RandomForestRegressor(**grid.best_params_)\n",
    "\n",
    "rf.fit(X_train,y_train)\n",
    "\n",
    "y_pred=rf.predict(X_test)\n",
    "print('RMSE:',np.sqrt(mean_squared_error(y_test,y_pred)))\n",
    "print(\"MAE\",mean_absolute_error(y_test,y_pred))\n",
    "print('R-squared:',r2_score(y_test,y_pred))"
   ]
  },
  {
   "cell_type": "code",
   "execution_count": 189,
   "metadata": {},
   "outputs": [],
   "source": [
    "from sklearn.ensemble import AdaBoostRegressor"
   ]
  },
  {
   "cell_type": "code",
   "execution_count": 190,
   "metadata": {},
   "outputs": [
    {
     "name": "stderr",
     "output_type": "stream",
     "text": [
      "C:\\Users\\Nantha\\Anaconda3\\lib\\site-packages\\sklearn\\ensemble\\forest.py:245: FutureWarning: The default value of n_estimators will change from 10 in version 0.20 to 100 in 0.22.\n",
      "  \"10 in version 0.20 to 100 in 0.22.\", FutureWarning)\n",
      "C:\\Users\\Nantha\\Anaconda3\\lib\\site-packages\\sklearn\\ensemble\\forest.py:245: FutureWarning: The default value of n_estimators will change from 10 in version 0.20 to 100 in 0.22.\n",
      "  \"10 in version 0.20 to 100 in 0.22.\", FutureWarning)\n",
      "C:\\Users\\Nantha\\Anaconda3\\lib\\site-packages\\sklearn\\ensemble\\forest.py:245: FutureWarning: The default value of n_estimators will change from 10 in version 0.20 to 100 in 0.22.\n",
      "  \"10 in version 0.20 to 100 in 0.22.\", FutureWarning)\n",
      "C:\\Users\\Nantha\\Anaconda3\\lib\\site-packages\\sklearn\\ensemble\\forest.py:245: FutureWarning: The default value of n_estimators will change from 10 in version 0.20 to 100 in 0.22.\n",
      "  \"10 in version 0.20 to 100 in 0.22.\", FutureWarning)\n",
      "C:\\Users\\Nantha\\Anaconda3\\lib\\site-packages\\sklearn\\ensemble\\forest.py:245: FutureWarning: The default value of n_estimators will change from 10 in version 0.20 to 100 in 0.22.\n",
      "  \"10 in version 0.20 to 100 in 0.22.\", FutureWarning)\n",
      "C:\\Users\\Nantha\\Anaconda3\\lib\\site-packages\\sklearn\\ensemble\\forest.py:245: FutureWarning: The default value of n_estimators will change from 10 in version 0.20 to 100 in 0.22.\n",
      "  \"10 in version 0.20 to 100 in 0.22.\", FutureWarning)\n",
      "C:\\Users\\Nantha\\Anaconda3\\lib\\site-packages\\sklearn\\ensemble\\forest.py:245: FutureWarning: The default value of n_estimators will change from 10 in version 0.20 to 100 in 0.22.\n",
      "  \"10 in version 0.20 to 100 in 0.22.\", FutureWarning)\n",
      "C:\\Users\\Nantha\\Anaconda3\\lib\\site-packages\\sklearn\\ensemble\\forest.py:245: FutureWarning: The default value of n_estimators will change from 10 in version 0.20 to 100 in 0.22.\n",
      "  \"10 in version 0.20 to 100 in 0.22.\", FutureWarning)\n",
      "C:\\Users\\Nantha\\Anaconda3\\lib\\site-packages\\sklearn\\ensemble\\forest.py:245: FutureWarning: The default value of n_estimators will change from 10 in version 0.20 to 100 in 0.22.\n",
      "  \"10 in version 0.20 to 100 in 0.22.\", FutureWarning)\n",
      "C:\\Users\\Nantha\\Anaconda3\\lib\\site-packages\\sklearn\\ensemble\\forest.py:245: FutureWarning: The default value of n_estimators will change from 10 in version 0.20 to 100 in 0.22.\n",
      "  \"10 in version 0.20 to 100 in 0.22.\", FutureWarning)\n",
      "C:\\Users\\Nantha\\Anaconda3\\lib\\site-packages\\sklearn\\ensemble\\forest.py:245: FutureWarning: The default value of n_estimators will change from 10 in version 0.20 to 100 in 0.22.\n",
      "  \"10 in version 0.20 to 100 in 0.22.\", FutureWarning)\n",
      "C:\\Users\\Nantha\\Anaconda3\\lib\\site-packages\\sklearn\\ensemble\\forest.py:245: FutureWarning: The default value of n_estimators will change from 10 in version 0.20 to 100 in 0.22.\n",
      "  \"10 in version 0.20 to 100 in 0.22.\", FutureWarning)\n"
     ]
    },
    {
     "data": {
      "text/plain": [
       "AdaBoostRegressor(base_estimator=RandomForestRegressor(bootstrap=True,\n",
       "                                                       criterion='mse',\n",
       "                                                       max_depth=5,\n",
       "                                                       max_features='auto',\n",
       "                                                       max_leaf_nodes=None,\n",
       "                                                       min_impurity_decrease=0.0,\n",
       "                                                       min_impurity_split=None,\n",
       "                                                       min_samples_leaf=1,\n",
       "                                                       min_samples_split=2,\n",
       "                                                       min_weight_fraction_leaf=0.0,\n",
       "                                                       n_estimators='warn',\n",
       "                                                       n_jobs=None,\n",
       "                                                       oob_score=False,\n",
       "                                                       random_state=None,\n",
       "                                                       verbose=0,\n",
       "                                                       warm_start=False),\n",
       "                  learning_rate=1.0, loss='linear', n_estimators=150,\n",
       "                  random_state=None)"
      ]
     },
     "execution_count": 190,
     "metadata": {},
     "output_type": "execute_result"
    }
   ],
   "source": [
    "adaboost = AdaBoostRegressor(\n",
    "    RandomForestRegressor(max_depth=5,criterion='mse'),\n",
    "    n_estimators=150\n",
    ")\n",
    "adaboost.fit(X_train, y_train)"
   ]
  },
  {
   "cell_type": "code",
   "execution_count": 191,
   "metadata": {},
   "outputs": [
    {
     "name": "stdout",
     "output_type": "stream",
     "text": [
      "RMSE: 0.21810548927336953\n",
      "MAE 0.12960642437501246\n",
      "R-squared: 0.8936146385015203\n"
     ]
    }
   ],
   "source": [
    "y_pred = adaboost.predict(X_test)\n",
    "print('RMSE:',np.sqrt(mean_squared_error(y_test,y_pred)))\n",
    "print(\"MAE\",mean_absolute_error(y_test,y_pred))\n",
    "print('R-squared:',r2_score(y_test,y_pred))"
   ]
  },
  {
   "cell_type": "code",
   "execution_count": 236,
   "metadata": {},
   "outputs": [
    {
     "data": {
      "text/html": [
       "<div>\n",
       "<style scoped>\n",
       "    .dataframe tbody tr th:only-of-type {\n",
       "        vertical-align: middle;\n",
       "    }\n",
       "\n",
       "    .dataframe tbody tr th {\n",
       "        vertical-align: top;\n",
       "    }\n",
       "\n",
       "    .dataframe thead th {\n",
       "        text-align: right;\n",
       "    }\n",
       "</style>\n",
       "<table border=\"1\" class=\"dataframe\">\n",
       "  <thead>\n",
       "    <tr style=\"text-align: right;\">\n",
       "      <th></th>\n",
       "      <th>Score</th>\n",
       "    </tr>\n",
       "  </thead>\n",
       "  <tbody>\n",
       "    <tr>\n",
       "      <td>Number of Policies</td>\n",
       "      <td>0.673142</td>\n",
       "    </tr>\n",
       "    <tr>\n",
       "      <td>Monthly Premium Auto</td>\n",
       "      <td>0.231552</td>\n",
       "    </tr>\n",
       "    <tr>\n",
       "      <td>Total Claim Amount</td>\n",
       "      <td>0.014256</td>\n",
       "    </tr>\n",
       "    <tr>\n",
       "      <td>Months Since Policy Inception</td>\n",
       "      <td>0.012863</td>\n",
       "    </tr>\n",
       "    <tr>\n",
       "      <td>Income</td>\n",
       "      <td>0.012721</td>\n",
       "    </tr>\n",
       "    <tr>\n",
       "      <td>Months Since Last Claim</td>\n",
       "      <td>0.012048</td>\n",
       "    </tr>\n",
       "    <tr>\n",
       "      <td>Number of Open Complaints</td>\n",
       "      <td>0.003328</td>\n",
       "    </tr>\n",
       "    <tr>\n",
       "      <td>Coverage_Extended</td>\n",
       "      <td>0.003120</td>\n",
       "    </tr>\n",
       "    <tr>\n",
       "      <td>EmploymentStatus_Employed</td>\n",
       "      <td>0.002815</td>\n",
       "    </tr>\n",
       "    <tr>\n",
       "      <td>Renew Offer Type_Offer2</td>\n",
       "      <td>0.002037</td>\n",
       "    </tr>\n",
       "  </tbody>\n",
       "</table>\n",
       "</div>"
      ],
      "text/plain": [
       "                                  Score\n",
       "Number of Policies             0.673142\n",
       "Monthly Premium Auto           0.231552\n",
       "Total Claim Amount             0.014256\n",
       "Months Since Policy Inception  0.012863\n",
       "Income                         0.012721\n",
       "Months Since Last Claim        0.012048\n",
       "Number of Open Complaints      0.003328\n",
       "Coverage_Extended              0.003120\n",
       "EmploymentStatus_Employed      0.002815\n",
       "Renew Offer Type_Offer2        0.002037"
      ]
     },
     "execution_count": 236,
     "metadata": {},
     "output_type": "execute_result"
    }
   ],
   "source": [
    "pd.DataFrame(rf.feature_importances_,index=X.columns,columns=['Score']).sort_values(\"Score\",ascending=False)[:10]"
   ]
  },
  {
   "cell_type": "code",
   "execution_count": 237,
   "metadata": {},
   "outputs": [
    {
     "data": {
      "image/png": "[encoded data removed]",
      "text/plain": [
       "<Figure size 1440x504 with 1 Axes>"
      ]
     },
     "metadata": {
      "needs_background": "light"
     },
     "output_type": "display_data"
    }
   ],
   "source": [
    "pd.DataFrame(rf.feature_importances_,index=X.columns,columns=['Score']).sort_values(\"Score\",ascending=False).plot(kind='bar',figsize=(20,7))\n",
    "plt.show()"
   ]
  },
  {
   "cell_type": "markdown",
   "metadata": {},
   "source": [
    "Random Forest Model with hyperparameter tuning using GridSearchCV gave the best RMSE and R^2 score"
   ]
  },
  {
   "cell_type": "markdown",
   "metadata": {},
   "source": [
    "No of Policies and Monthly Premium are the most important features in predicting CLV"
   ]
  }
 ],
 "metadata": {
  "kernelspec": {
   "display_name": "Python 3",
   "language": "python",
   "name": "python3"
  },
  "language_info": {
   "codemirror_mode": {
    "name": "ipython",
    "version": 3
   },
   "file_extension": ".py",
   "mimetype": "text/x-python",
   "name": "python",
   "nbconvert_exporter": "python",
   "pygments_lexer": "ipython3",
   "version": "3.7.4"
  }
 },
 "nbformat": 4,
 "nbformat_minor": 2
}
